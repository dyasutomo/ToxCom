{
 "cells": [
  {
   "cell_type": "markdown",
   "metadata": {
    "id": "0KH8MTKXdppl"
   },
   "source": [
    "# Loading the data"
   ]
  },
  {
   "cell_type": "code",
   "execution_count": 2,
   "metadata": {
    "executionInfo": {
     "elapsed": 1324,
     "status": "ok",
     "timestamp": 1616549931950,
     "user": {
      "displayName": "Ghanashyam Khanal",
      "photoUrl": "https://lh3.googleusercontent.com/a-/AOh14GjNFB_3XwLB8BEW17lVypQ54QKRq7KnQZVd8M-QU9c=s64",
      "userId": "16880718905978803098"
     },
     "user_tz": 240
    },
    "id": "M3vLv8-EcawR"
   },
   "outputs": [],
   "source": [
    "import numpy as np\n",
    "import pandas as pd\n",
    "import pylab as plt\n",
    "import seaborn as sns\n",
    "import sklearn\n",
    "\n",
    "data_dir='./dataset/'"
   ]
  },
  {
   "cell_type": "code",
   "execution_count": 11,
   "metadata": {
    "executionInfo": {
     "elapsed": 2502,
     "status": "ok",
     "timestamp": 1616549935980,
     "user": {
      "displayName": "Ghanashyam Khanal",
      "photoUrl": "https://lh3.googleusercontent.com/a-/AOh14GjNFB_3XwLB8BEW17lVypQ54QKRq7KnQZVd8M-QU9c=s64",
      "userId": "16880718905978803098"
     },
     "user_tz": 240
    },
    "id": "ymx1LkyLb1PK"
   },
   "outputs": [
    {
     "data": {
      "text/html": [
       "<div>\n",
       "<style scoped>\n",
       "    .dataframe tbody tr th:only-of-type {\n",
       "        vertical-align: middle;\n",
       "    }\n",
       "\n",
       "    .dataframe tbody tr th {\n",
       "        vertical-align: top;\n",
       "    }\n",
       "\n",
       "    .dataframe thead th {\n",
       "        text-align: right;\n",
       "    }\n",
       "</style>\n",
       "<table border=\"1\" class=\"dataframe\">\n",
       "  <thead>\n",
       "    <tr style=\"text-align: right;\">\n",
       "      <th></th>\n",
       "      <th>toxic</th>\n",
       "      <th>severe_toxic</th>\n",
       "      <th>obscene</th>\n",
       "      <th>threat</th>\n",
       "      <th>insult</th>\n",
       "      <th>identity_hate</th>\n",
       "      <th>label_sum</th>\n",
       "      <th>com_processed</th>\n",
       "      <th>negative_comments</th>\n",
       "    </tr>\n",
       "  </thead>\n",
       "  <tbody>\n",
       "    <tr>\n",
       "      <th>5</th>\n",
       "      <td>0</td>\n",
       "      <td>0</td>\n",
       "      <td>0</td>\n",
       "      <td>0</td>\n",
       "      <td>0</td>\n",
       "      <td>0</td>\n",
       "      <td>0</td>\n",
       "      <td>congratulations well use tools well talk</td>\n",
       "      <td>0</td>\n",
       "    </tr>\n",
       "    <tr>\n",
       "      <th>6</th>\n",
       "      <td>1</td>\n",
       "      <td>1</td>\n",
       "      <td>1</td>\n",
       "      <td>0</td>\n",
       "      <td>1</td>\n",
       "      <td>0</td>\n",
       "      <td>4</td>\n",
       "      <td>cocksucker piss around work</td>\n",
       "      <td>1</td>\n",
       "    </tr>\n",
       "    <tr>\n",
       "      <th>7</th>\n",
       "      <td>0</td>\n",
       "      <td>0</td>\n",
       "      <td>0</td>\n",
       "      <td>0</td>\n",
       "      <td>0</td>\n",
       "      <td>0</td>\n",
       "      <td>0</td>\n",
       "      <td>vandalism matt shirvington article reverted pl...</td>\n",
       "      <td>0</td>\n",
       "    </tr>\n",
       "  </tbody>\n",
       "</table>\n",
       "</div>"
      ],
      "text/plain": [
       "   toxic  severe_toxic  obscene  threat  insult  identity_hate  label_sum  \\\n",
       "5      0             0        0       0       0              0          0   \n",
       "6      1             1        1       0       1              0          4   \n",
       "7      0             0        0       0       0              0          0   \n",
       "\n",
       "                                       com_processed  negative_comments  \n",
       "5           congratulations well use tools well talk                  0  \n",
       "6                        cocksucker piss around work                  1  \n",
       "7  vandalism matt shirvington article reverted pl...                  0  "
      ]
     },
     "execution_count": 11,
     "metadata": {},
     "output_type": "execute_result"
    }
   ],
   "source": [
    "df = pd.read_csv(data_dir+'df_processed.csv')\n",
    "df.drop(['id','comment_text','comment_lower','has_apostrophe','has_new_line'], axis=1, inplace=True)\n",
    "df['negative_comments'] = df['label_sum'].apply(lambda x:int(x>0))\n",
    "df[5:8]"
   ]
  },
  {
   "cell_type": "code",
   "execution_count": 16,
   "metadata": {},
   "outputs": [],
   "source": [
    "target_columns = ['toxic','severe_toxic','obscene','threat','insult','identity_hate']"
   ]
  },
  {
   "cell_type": "code",
   "execution_count": 29,
   "metadata": {},
   "outputs": [],
   "source": [
    "from sklearn.model_selection import train_test_split\n",
    "from sklearn.feature_extraction.text import TfidfVectorizer, CountVectorizer\n",
    "\n",
    "def prepare_TFIDF(df_train, df_test, col):    \n",
    "    vectorizer = TfidfVectorizer(use_idf=True, max_df=0.95)\n",
    "    vectorizer.fit_transform(df_train[col].values)\n",
    "    \n",
    "    X_train = vectorizer.transform(df_train[col].values)\n",
    "    X_test  = vectorizer.transform(df_test[col].values)\n",
    "    \n",
    "    y_train = df_train[target_columns].values\n",
    "    y_test  = df_test[target_columns].values\n",
    "\n",
    "    return X_train, X_test, y_train, y_test, vectorizer\n",
    "\n",
    "df_train, df_test = train_test_split(df, test_size=0.2, random_state = 8848)\n",
    "X_train_tf, X_test_tf, y_train_tf, y_test_tf, vectorizer= prepare_TFIDF(df_train,\n",
    "                                                                        df_test,\n",
    "                                                                        \"com_processed\")"
   ]
  },
  {
   "cell_type": "code",
   "execution_count": 19,
   "metadata": {},
   "outputs": [],
   "source": [
    "from sklearn.multiclass import OneVsRestClassifier\n",
    "from sklearn.linear_model import LogisticRegression, RidgeClassifier\n",
    "from sklearn.multioutput import MultiOutputClassifier\n",
    "\n",
    "from sklearn.metrics import accuracy_score, f1_score\n",
    "from sklearn.metrics import average_precision_score, roc_auc_score\n",
    "from sklearn.metrics import multilabel_confusion_matrix, ConfusionMatrixDisplay\n",
    "from sklearn.metrics import confusion_matrix\n",
    "\n",
    "from sklearn.multioutput import MultiOutputClassifier\n",
    "from sklearn.metrics import f1_score, recall_score, make_scorer\n",
    "from sklearn.metrics import precision_recall_fscore_support\n",
    "from sklearn.model_selection import GridSearchCV\n"
   ]
  },
  {
   "cell_type": "code",
   "execution_count": 45,
   "metadata": {},
   "outputs": [],
   "source": [
    "def mean_metrics(y_true, y_pred):\n",
    "    prec, rec, fs, _ = precision_recall_fscore_support(y_true, pred)\n",
    "    print (\"Multilabel Classification (Mean scores)\")\n",
    "    print('mean precision: %.2f' % np.mean(prec))\n",
    "    print('mean recall: %.2f' % np.mean(rec))\n",
    "    print('mean f-score: %.2f' % np.mean(fs))\n",
    "    return np.mean(prec), np.mean(rec), np.mean(fs)\n",
    "\n",
    "def binary_metric(y_true, y_pred):\n",
    "    pred_binary = np.array([1 if x > 0 else 0 for x in y_pred.sum(axis=1)])\n",
    "    prec, rec, fs, _ = precision_recall_fscore_support(df_test['negative_comments'], pred_binary)\n",
    "    print (\"Binary Classification\")\n",
    "    print('precision: %.2f' % prec[1])\n",
    "    print('recall: %.2f' % rec[1])\n",
    "    print('f-score: %.2f' % fs[1])\n",
    "    return pred_binary, prec[1], rec[1], fs[1]"
   ]
  },
  {
   "cell_type": "code",
   "execution_count": 46,
   "metadata": {},
   "outputs": [],
   "source": [
    "def train_multi(model):\n",
    "\n",
    "    clf = MultiOutputClassifier(model)\n",
    "    clf.fit(X_train_tf, y_train_tf)\n",
    "    pred = clf.predict(X_test_tf)\n",
    "    \n",
    "    prec_mean, rec_mean, fs_mean=mean_metrics(y_test_tf, pred)\n",
    "    pred_bin, prec_bin, rec_bin, fs_bin=binary_metric(y_test_tf, pred)"
   ]
  },
  {
   "cell_type": "code",
   "execution_count": 47,
   "metadata": {},
   "outputs": [
    {
     "name": "stdout",
     "output_type": "stream",
     "text": [
      "Multilabel Classification (Mean scores)\n",
      "mean precision: 0.40\n",
      "mean recall: 0.63\n",
      "mean f-score: 0.43\n",
      "Binary Classification\n",
      "precision: 0.95\n",
      "recall: 0.58\n",
      "f-score: 0.72\n"
     ]
    }
   ],
   "source": [
    "model = LogisticRegression(max_iter=500)\n",
    "train_multi(model)"
   ]
  },
  {
   "cell_type": "code",
   "execution_count": 48,
   "metadata": {},
   "outputs": [
    {
     "name": "stdout",
     "output_type": "stream",
     "text": [
      "Multilabel Classification (Mean scores)\n",
      "mean precision: 0.40\n",
      "mean recall: 0.63\n",
      "mean f-score: 0.43\n",
      "Binary Classification\n",
      "precision: 0.88\n",
      "recall: 0.55\n",
      "f-score: 0.68\n"
     ]
    }
   ],
   "source": [
    "from sklearn.tree import DecisionTreeClassifier\n",
    "model = DecisionTreeClassifier(random_state = 8848, max_depth = 20)\n",
    "train_multi(model)"
   ]
  },
  {
   "cell_type": "code",
   "execution_count": 49,
   "metadata": {},
   "outputs": [
    {
     "name": "stdout",
     "output_type": "stream",
     "text": [
      "Multilabel Classification (Mean scores)\n",
      "mean precision: 0.40\n",
      "mean recall: 0.63\n",
      "mean f-score: 0.43\n",
      "Binary Classification\n",
      "precision: 0.61\n",
      "recall: 0.66\n",
      "f-score: 0.63\n"
     ]
    }
   ],
   "source": [
    "from sklearn.tree import DecisionTreeClassifier\n",
    "model = DecisionTreeClassifier(random_state = 8848, max_depth = 20, class_weight='balanced')\n",
    "train_multi(model)"
   ]
  },
  {
   "cell_type": "code",
   "execution_count": null,
   "metadata": {},
   "outputs": [],
   "source": []
  },
  {
   "cell_type": "code",
   "execution_count": null,
   "metadata": {},
   "outputs": [],
   "source": [
    "custom_score = make_scorer(f1_score, average='micro')\n",
    "\n",
    "lr = LogisticRegression(class_weight='balanced')\n",
    "\n",
    "gcv = GridSearchCV(estimator = lr,\n",
    "                   param_grid = {},\n",
    "                   cv = 3,\n",
    "                   n_jobs = -1,\n",
    "                   scoring = custom_score,\n",
    "                   verbose = 0)\n",
    "\n",
    "mlc_1 = MultiOutputClassifier(gcv)\n",
    "\n",
    "mlc_1.fit(tfidf_train, df_train[target_columns])"
   ]
  },
  {
   "cell_type": "code",
   "execution_count": null,
   "metadata": {},
   "outputs": [],
   "source": []
  },
  {
   "cell_type": "code",
   "execution_count": null,
   "metadata": {},
   "outputs": [],
   "source": []
  },
  {
   "cell_type": "code",
   "execution_count": null,
   "metadata": {},
   "outputs": [],
   "source": []
  },
  {
   "cell_type": "code",
   "execution_count": null,
   "metadata": {},
   "outputs": [],
   "source": []
  },
  {
   "cell_type": "code",
   "execution_count": null,
   "metadata": {},
   "outputs": [],
   "source": []
  },
  {
   "cell_type": "code",
   "execution_count": null,
   "metadata": {},
   "outputs": [],
   "source": []
  },
  {
   "cell_type": "code",
   "execution_count": null,
   "metadata": {},
   "outputs": [],
   "source": []
  },
  {
   "cell_type": "code",
   "execution_count": null,
   "metadata": {},
   "outputs": [],
   "source": []
  },
  {
   "cell_type": "code",
   "execution_count": 14,
   "metadata": {},
   "outputs": [],
   "source": [
    "def print_evaluation_scores(actual, pred, label):\n",
    "    acc        = 100*accuracy_score(actual, pred)\n",
    "    f1_micro   = 100*f1_score(actual, pred)\n",
    "    avg_prec_micro = 100*average_precision_score(actual, pred)\n",
    "    roc_auc    = 100*roc_auc_score(actual, pred)\n",
    "    \n",
    "    print (label)\n",
    "    print (\"\\nAccuracy \\t= %1.2f \\nF1_micro\\t= %1.2f\" %(acc, f1_micro))\n",
    "    print (\"Avg Prec micro\\t= %1.2f \\nROC_AUC score\\t= %1.2f\" % ( avg_prec_micro, roc_auc))"
   ]
  },
  {
   "cell_type": "code",
   "execution_count": 15,
   "metadata": {},
   "outputs": [],
   "source": [
    "def train_multioutput(model, X_train, y_train, X_test, y_test):\n",
    "    model_multi=MultiOutputClassifier(model)\n",
    "    model_multi.fit(X_train, y_train)\n",
    "    pred = model_multi.predict(X_test)\n",
    "\n",
    "    #mcm = multilabel_confusion_matrix(y_test, pred)\n",
    "    fig, axL = plt.subplots(2,3, figsize=(15,10))\n",
    "    for i in range(6):\n",
    "        conf_matrix = confusion_matrix(y_test[:,i], pred[:,i])\n",
    "        ax=axL[i//3, i%3]\n",
    "        ax.set_title(target_columns[i], fontsize=14)\n",
    "        sns.heatmap(conf_matrix, ax=ax, cmap='viridis', annot=True, cbar=False)\n",
    "        print_evaluation_scores(y_test[:,i], pred[:,i], label=target_columns[i])"
   ]
  },
  {
   "cell_type": "code",
   "execution_count": 10,
   "metadata": {},
   "outputs": [
    {
     "name": "stdout",
     "output_type": "stream",
     "text": [
      "toxic\n",
      "\n",
      "Accuracy \t= 94.37 \n",
      "F1_micro\t= 62.82\n",
      "Avg Prec micro\t= 47.34 \n",
      "ROC_AUC score\t= 74.34\n",
      "severe_toxic\n",
      "\n",
      "Accuracy \t= 98.95 \n",
      "F1_micro\t= 32.39\n",
      "Avg Prec micro\t= 12.09 \n",
      "ROC_AUC score\t= 62.54\n",
      "obscene\n",
      "\n",
      "Accuracy \t= 97.78 \n",
      "F1_micro\t= 76.50\n",
      "Avg Prec micro\t= 61.02 \n",
      "ROC_AUC score\t= 83.91\n",
      "threat\n",
      "\n",
      "Accuracy \t= 99.72 \n",
      "F1_micro\t= 29.92\n",
      "Avg Prec micro\t= 10.89 \n",
      "ROC_AUC score\t= 60.64\n",
      "insult\n",
      "\n",
      "Accuracy \t= 96.67 \n",
      "F1_micro\t= 62.23\n",
      "Avg Prec micro\t= 41.51 \n",
      "ROC_AUC score\t= 77.15\n",
      "identity_hate\n",
      "\n",
      "Accuracy \t= 99.11 \n",
      "F1_micro\t= 34.18\n",
      "Avg Prec micro\t= 14.14 \n",
      "ROC_AUC score\t= 62.44\n"
     ]
    },
    {
     "data": {
      "image/png": "[encoded data removed]",
      "text/plain": [
       "<Figure size 1080x720 with 6 Axes>"
      ]
     },
     "metadata": {
      "needs_background": "light"
     },
     "output_type": "display_data"
    }
   ],
   "source": [
    "from sklearn.tree import DecisionTreeClassifier\n",
    "model = DecisionTreeClassifier(random_state = 8848, max_depth = 20)\n",
    "train_multioutput(model, X_train_tf, y_train_tf, X_test_tf, y_test_tf)"
   ]
  },
  {
   "cell_type": "code",
   "execution_count": null,
   "metadata": {},
   "outputs": [],
   "source": []
  },
  {
   "cell_type": "code",
   "execution_count": null,
   "metadata": {},
   "outputs": [],
   "source": []
  },
  {
   "cell_type": "code",
   "execution_count": null,
   "metadata": {},
   "outputs": [],
   "source": []
  },
  {
   "cell_type": "code",
   "execution_count": null,
   "metadata": {},
   "outputs": [],
   "source": []
  },
  {
   "cell_type": "code",
   "execution_count": 11,
   "metadata": {},
   "outputs": [
    {
     "data": {
      "text/plain": [
       "OneVsRestClassifier(estimator=XGBClassifier(base_score=None, booster=None,\n",
       "                                            colsample_bylevel=None,\n",
       "                                            colsample_bynode=None,\n",
       "                                            colsample_bytree=None, gamma=None,\n",
       "                                            gpu_id=None, importance_type='gain',\n",
       "                                            interaction_constraints=None,\n",
       "                                            learning_rate=None,\n",
       "                                            max_delta_step=None, max_depth=2,\n",
       "                                            min_child_weight=None, missing=nan,\n",
       "                                            monotone_constraints=None,\n",
       "                                            n_estimators=100, n_jobs=None,\n",
       "                                            num_parallel_tree=None,\n",
       "                                            random_state=None, reg_alpha=None,\n",
       "                                            reg_lambda=None,\n",
       "                                            scale_pos_weight=None,\n",
       "                                            subsample=None, tree_method=None,\n",
       "                                            validate_parameters=None,\n",
       "                                            verbosity=None))"
      ]
     },
     "execution_count": 11,
     "metadata": {},
     "output_type": "execute_result"
    }
   ],
   "source": [
    "#model_xgb = XGBClassifier(random_state=42, seed=2, colsample_bytree=0.6, subsample=0.7)\n",
    "#model_xgb.fit(X_train_tf, y_train_tf)\n",
    "\n",
    "#model_xgb = OneVsRestClassifier(XGBClassifier())\n",
    "\n",
    "#model_xgb = OneVsRestClassifier(XGBClassifier(max_depth=2, n_estimators=20, colsample_bytree=0.8,\n",
    "#                          subsample=0.8, nthread=10, learning_rate=0.1))\n",
    "\n",
    "model_xgb = OneVsRestClassifier(XGBClassifier(max_depth=2))\n",
    "model_xgb.fit(X_train_tf, y_train_tf)"
   ]
  },
  {
   "cell_type": "code",
   "execution_count": 8,
   "metadata": {},
   "outputs": [],
   "source": [
    "y_pred_labs = model_xgb.predict(X_test_tf)\n",
    "#y_pred_scores = model_xgb.decision_function(X_test_tf)"
   ]
  },
  {
   "cell_type": "code",
   "execution_count": 9,
   "metadata": {},
   "outputs": [
    {
     "ename": "NameError",
     "evalue": "name 'print_evaluation_scores' is not defined",
     "output_type": "error",
     "traceback": [
      "\u001b[0;31m---------------------------------------------------------------------------\u001b[0m",
      "\u001b[0;31mNameError\u001b[0m                                 Traceback (most recent call last)",
      "\u001b[0;32m<ipython-input-9-c055e509501b>\u001b[0m in \u001b[0;36m<module>\u001b[0;34m\u001b[0m\n\u001b[0;32m----> 1\u001b[0;31m \u001b[0mprint_evaluation_scores\u001b[0m\u001b[0;34m(\u001b[0m\u001b[0my_test_tf\u001b[0m\u001b[0;34m,\u001b[0m \u001b[0my_pred_labs\u001b[0m\u001b[0;34m)\u001b[0m\u001b[0;34m\u001b[0m\u001b[0;34m\u001b[0m\u001b[0m\n\u001b[0m",
      "\u001b[0;31mNameError\u001b[0m: name 'print_evaluation_scores' is not defined"
     ]
    }
   ],
   "source": [
    "print_evaluation_scores(y_test_tf, y_pred_labs)"
   ]
  },
  {
   "cell_type": "code",
   "execution_count": 11,
   "metadata": {},
   "outputs": [],
   "source": [
    "from sklearn.multiclass import OneVsRestClassifier\n",
    "from sklearn.linear_model import LogisticRegression, RidgeClassifier\n",
    "\n",
    "from sklearn.metrics import accuracy_score, f1_score\n",
    "from sklearn.metrics import average_precision_score, roc_auc_score"
   ]
  },
  {
   "cell_type": "code",
   "execution_count": 7,
   "metadata": {},
   "outputs": [],
   "source": [
    "def LR_model(X_train, y_train, X_test, model=\"LR\"):\n",
    "    if model==\"LR\":\n",
    "        model = OneVsRestClassifier(LogisticRegression(penalty='l2', C=1.0, max_iter=1000))\n",
    "        model.fit(X_train, y_train)\n",
    "\n",
    "    elif model==\"xgb\":\n",
    "        model = OneVsRestClassifier(XGBClassifier())\n",
    "\n",
    "        model.fit(X_train, y_train)\n",
    "    \n",
    "    y_pred_labs = model.predict(X_test)\n",
    "    y_pred_scores = model.decision_function(X_test)\n",
    "\n",
    "    return model, y_pred_labs, y_pred_scores"
   ]
  },
  {
   "cell_type": "code",
   "execution_count": 8,
   "metadata": {},
   "outputs": [],
   "source": [
    "model_LR, y_pred_labs, y_pred_scores =  LR_model(X_train_tf, y_train_tf, X_test_tf)"
   ]
  },
  {
   "cell_type": "code",
   "execution_count": 20,
   "metadata": {},
   "outputs": [],
   "source": [
    "def print_evaluation_scores(y_val, predicted):\n",
    "    acc        = 100*accuracy_score(y_val, predicted)\n",
    "    f1_micro   = 100*f1_score(y_val, predicted, average='micro')\n",
    "    avg_prec_micro = 100*average_precision_score(y_val, predicted, average='micro')\n",
    "    roc_auc    = 100*roc_auc_score(y_val, predicted)\n",
    "    \n",
    "    print (\"Accuracy \\t= %1.2f \\nF1_micro\\t= %1.2f\" %(acc, f1_micro))\n",
    "    print (\"Avg Prec micro\\t= %1.2f \\nROC_AUC score\\t= %1.2f\" % ( avg_prec_micro, roc_auc))"
   ]
  },
  {
   "cell_type": "code",
   "execution_count": 13,
   "metadata": {},
   "outputs": [
    {
     "name": "stdout",
     "output_type": "stream",
     "text": [
      "Logistic Regression with TFIDF features\n",
      "Accuracy \t= 92.01 \n",
      "F1_micro\t= 68.00\n",
      "Avg Prec micro\t= 50.55 \n",
      "ROC_AUC score\t= 68.61\n"
     ]
    }
   ],
   "source": [
    "print (\"Logistic Regression with TFIDF features\")\n",
    "print_evaluation_scores(y_test_tf, y_pred_labs)"
   ]
  },
  {
   "cell_type": "code",
   "execution_count": 12,
   "metadata": {},
   "outputs": [],
   "source": [
    "# This is the actual out of the box algorithm\n",
    "from sklearn.tree import DecisionTreeClassifier\n",
    "# Make an decisiion tree object"
   ]
  },
  {
   "cell_type": "code",
   "execution_count": 13,
   "metadata": {},
   "outputs": [],
   "source": [
    "#X_train_tf, X_test_tf, y_train_tf, y_test_tf,\n",
    "\n",
    "# Make the classifier \n",
    "tree_clf = DecisionTreeClassifier(random_state = 440,max_depth = 3)\n",
    "\n",
    "# Fit the classifier\n",
    "tree_clf.fit(X_train_tf, y_train_tf)\n",
    "\n",
    "# Get the probabilities for the training set\n",
    "y_pred_train = tree_clf.predict_proba(X_train_tf)"
   ]
  },
  {
   "cell_type": "code",
   "execution_count": 19,
   "metadata": {},
   "outputs": [],
   "source": [
    "y_pred_test = tree_clf.predict_proba(X_test_tf)"
   ]
  },
  {
   "cell_type": "code",
   "execution_count": 20,
   "metadata": {},
   "outputs": [
    {
     "data": {
      "text/plain": [
       "((6, 127608, 2), (6, 31903, 2))"
      ]
     },
     "execution_count": 20,
     "metadata": {},
     "output_type": "execute_result"
    }
   ],
   "source": [
    "np.array(y_pred_train).shape, np.array(y_pred_test).shape"
   ]
  },
  {
   "cell_type": "code",
   "execution_count": 25,
   "metadata": {},
   "outputs": [
    {
     "ename": "AttributeError",
     "evalue": "'list' object has no attribute 'reshape'",
     "output_type": "error",
     "traceback": [
      "\u001b[0;31m---------------------------------------------------------------------------\u001b[0m",
      "\u001b[0;31mAttributeError\u001b[0m                            Traceback (most recent call last)",
      "\u001b[0;32m<ipython-input-25-77faac6f0ce7>\u001b[0m in \u001b[0;36m<module>\u001b[0;34m\u001b[0m\n\u001b[0;32m----> 1\u001b[0;31m \u001b[0my_pred_test\u001b[0m\u001b[0;34m.\u001b[0m\u001b[0mreshape\u001b[0m\u001b[0;34m(\u001b[0m\u001b[0;36m6\u001b[0m\u001b[0;34m,\u001b[0m \u001b[0;36m31903\u001b[0m\u001b[0;34m,\u001b[0m \u001b[0;36m2\u001b[0m\u001b[0;34m)\u001b[0m\u001b[0;34m\u001b[0m\u001b[0;34m\u001b[0m\u001b[0m\n\u001b[0m",
      "\u001b[0;31mAttributeError\u001b[0m: 'list' object has no attribute 'reshape'"
     ]
    }
   ],
   "source": [
    "y_pred_test.reshape(6, 31903, 2)"
   ]
  },
  {
   "cell_type": "code",
   "execution_count": null,
   "metadata": {},
   "outputs": [],
   "source": [
    "clf = OneVsRestClassifier(LogisticRegression())\n",
    "\n",
    "for i in range(len(target_columns)):\n",
    "    clf.fit(X_train, y_train[:,i])\n",
    "    pred = clf.predict(X_test)\n",
    "    print(target_columns[i], accuracy_score(y_test[:,i], pred))"
   ]
  },
  {
   "cell_type": "code",
   "execution_count": 26,
   "metadata": {},
   "outputs": [
    {
     "name": "stderr",
     "output_type": "stream",
     "text": [
      "/usr/local/lib/python3.8/site-packages/sklearn/linear_model/_logistic.py:762: ConvergenceWarning: lbfgs failed to converge (status=1):\n",
      "STOP: TOTAL NO. of ITERATIONS REACHED LIMIT.\n",
      "\n",
      "Increase the number of iterations (max_iter) or scale the data as shown in:\n",
      "    https://scikit-learn.org/stable/modules/preprocessing.html\n",
      "Please also refer to the documentation for alternative solver options:\n",
      "    https://scikit-learn.org/stable/modules/linear_model.html#logistic-regression\n",
      "  n_iter_i = _check_optimize_result(\n"
     ]
    },
    {
     "ename": "NameError",
     "evalue": "name 'multilabel_confusion_matrix' is not defined",
     "output_type": "error",
     "traceback": [
      "\u001b[0;31m---------------------------------------------------------------------------\u001b[0m",
      "\u001b[0;31mNameError\u001b[0m                                 Traceback (most recent call last)",
      "\u001b[0;32m<ipython-input-26-1a249fd020b4>\u001b[0m in \u001b[0;36m<module>\u001b[0;34m\u001b[0m\n\u001b[1;32m      3\u001b[0m \u001b[0mmlc\u001b[0m\u001b[0;34m.\u001b[0m\u001b[0mfit\u001b[0m\u001b[0;34m(\u001b[0m\u001b[0mX_train_tf\u001b[0m\u001b[0;34m,\u001b[0m \u001b[0my_train_tf\u001b[0m\u001b[0;34m)\u001b[0m\u001b[0;34m\u001b[0m\u001b[0;34m\u001b[0m\u001b[0m\n\u001b[1;32m      4\u001b[0m \u001b[0mpred\u001b[0m \u001b[0;34m=\u001b[0m \u001b[0mmlc\u001b[0m\u001b[0;34m.\u001b[0m\u001b[0mpredict\u001b[0m\u001b[0;34m(\u001b[0m\u001b[0mX_test_tf\u001b[0m\u001b[0;34m)\u001b[0m\u001b[0;34m\u001b[0m\u001b[0;34m\u001b[0m\u001b[0m\n\u001b[0;32m----> 5\u001b[0;31m \u001b[0mmcm\u001b[0m \u001b[0;34m=\u001b[0m \u001b[0mmultilabel_confusion_matrix\u001b[0m\u001b[0;34m(\u001b[0m\u001b[0my_test_tf\u001b[0m\u001b[0;34m,\u001b[0m \u001b[0mpred\u001b[0m\u001b[0;34m)\u001b[0m\u001b[0;34m\u001b[0m\u001b[0;34m\u001b[0m\u001b[0m\n\u001b[0m",
      "\u001b[0;31mNameError\u001b[0m: name 'multilabel_confusion_matrix' is not defined"
     ]
    }
   ],
   "source": [
    "from sklearn.multioutput import MultiOutputClassifier\n",
    "mlc = MultiOutputClassifier(LogisticRegression())\n",
    "mlc.fit(X_train_tf, y_train_tf)\n",
    "pred = mlc.predict(X_test_tf)\n"
   ]
  },
  {
   "cell_type": "code",
   "execution_count": 27,
   "metadata": {},
   "outputs": [],
   "source": [
    "from sklearn.metrics import multilabel_confusion_matrix, ConfusionMatrixDisplay\n",
    "mcm = multilabel_confusion_matrix(y_test_tf, pred)"
   ]
  },
  {
   "cell_type": "code",
   "execution_count": 28,
   "metadata": {},
   "outputs": [
    {
     "name": "stdout",
     "output_type": "stream",
     "text": [
      "Accuracy per label\n",
      "toxic 0.9569006049587813\n",
      "severe_toxic 0.9903143904961916\n",
      "obscene 0.978654045074131\n",
      "threat 0.9973043287465129\n",
      "insult 0.9711939316051782\n",
      "identity_hate 0.9913801209917562\n"
     ]
    },
    {
     "data": {
      "image/png": "[encoded data removed]",
      "text/plain": [
       "<Figure size 432x288 with 2 Axes>"
      ]
     },
     "metadata": {
      "needs_background": "light"
     },
     "output_type": "display_data"
    },
    {
     "data": {
      "image/png": "[encoded data removed]",
      "text/plain": [
       "<Figure size 432x288 with 2 Axes>"
      ]
     },
     "metadata": {
      "needs_background": "light"
     },
     "output_type": "display_data"
    },
    {
     "data": {
      "image/png": "[encoded data removed]",
      "text/plain": [
       "<Figure size 432x288 with 2 Axes>"
      ]
     },
     "metadata": {
      "needs_background": "light"
     },
     "output_type": "display_data"
    },
    {
     "data": {
      "image/png": "[encoded data removed]",
      "text/plain": [
       "<Figure size 432x288 with 2 Axes>"
      ]
     },
     "metadata": {
      "needs_background": "light"
     },
     "output_type": "display_data"
    },
    {
     "data": {
      "image/png": "[encoded data removed]",
      "text/plain": [
       "<Figure size 432x288 with 2 Axes>"
      ]
     },
     "metadata": {
      "needs_background": "light"
     },
     "output_type": "display_data"
    },
    {
     "data": {
      "image/png": "[encoded data removed]",
      "text/plain": [
       "<Figure size 432x288 with 2 Axes>"
      ]
     },
     "metadata": {
      "needs_background": "light"
     },
     "output_type": "display_data"
    }
   ],
   "source": [
    "print('Accuracy per label')\n",
    "for i in range(len(target_columns)):\n",
    "    print(target_columns[i], (mcm[i,0,0]+mcm[i,1,1])/np.sum(mcm[i]))\n",
    "    disp = ConfusionMatrixDisplay(mcm[i])\n",
    "    disp.plot()"
   ]
  },
  {
   "cell_type": "code",
   "execution_count": null,
   "metadata": {},
   "outputs": [],
   "source": [
    "tree_clf = DecisionTreeClassifier(random_state = 440,max_depth = 3)"
   ]
  },
  {
   "cell_type": "code",
   "execution_count": null,
   "metadata": {},
   "outputs": [],
   "source": [
    "clf = OneVsRestClassifier(DecisionTreeClassifier(random_state = 440, max_depth = 3))\n",
    "\n",
    "def train(clf, x_train, y_train, x_test, y_test):\n",
    "    for i in range(len(target_columns)):\n",
    "        clf.fit(X_train, y_train[:,i])\n",
    "        pred = clf.predict(X_test)\n",
    "        print(target_columns[i], accuracy_score(y_test[:,i], pred))\n",
    "        \n",
    "    from sklearn.multioutput import MultiOutputClassifier\n",
    "    mlc = MultiOutputClassifier(LogisticRegression())\n",
    "    mlc.fit(X_train_tf, y_train_tf)\n",
    "    pred = mlc.predict(X_test_tf)\n",
    "\n",
    "                          \n",
    "                          "
   ]
  },
  {
   "cell_type": "code",
   "execution_count": null,
   "metadata": {},
   "outputs": [],
   "source": []
  },
  {
   "cell_type": "code",
   "execution_count": null,
   "metadata": {},
   "outputs": [],
   "source": []
  },
  {
   "cell_type": "code",
   "execution_count": null,
   "metadata": {},
   "outputs": [],
   "source": []
  },
  {
   "cell_type": "code",
   "execution_count": null,
   "metadata": {},
   "outputs": [],
   "source": []
  }
 ],
 "metadata": {
  "colab": {
   "collapsed_sections": [],
   "name": "g01_data_visualization.ipynb",
   "provenance": []
  },
  "kernelspec": {
   "display_name": "Python 3",
   "language": "python",
   "name": "python3"
  },
  "language_info": {
   "codemirror_mode": {
    "name": "ipython",
    "version": 3
   },
   "file_extension": ".py",
   "mimetype": "text/x-python",
   "name": "python",
   "nbconvert_exporter": "python",
   "pygments_lexer": "ipython3",
   "version": "3.8.5"
  }
 },
 "nbformat": 4,
 "nbformat_minor": 1
}
