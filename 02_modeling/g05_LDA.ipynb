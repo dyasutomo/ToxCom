{
 "cells": [
  {
   "cell_type": "markdown",
   "metadata": {
    "id": "0KH8MTKXdppl"
   },
   "source": [
    "# Loading the data"
   ]
  },
  {
   "cell_type": "code",
   "execution_count": 2,
   "metadata": {
    "executionInfo": {
     "elapsed": 1324,
     "status": "ok",
     "timestamp": 1616549931950,
     "user": {
      "displayName": "Ghanashyam Khanal",
      "photoUrl": "https://lh3.googleusercontent.com/a-/AOh14GjNFB_3XwLB8BEW17lVypQ54QKRq7KnQZVd8M-QU9c=s64",
      "userId": "16880718905978803098"
     },
     "user_tz": 240
    },
    "id": "M3vLv8-EcawR"
   },
   "outputs": [],
   "source": [
    "import numpy as np\n",
    "import pandas as pd\n",
    "import pylab as plt\n",
    "import seaborn as sns\n",
    "import sklearn\n",
    "\n",
    "data_dir='./dataset/'"
   ]
  },
  {
   "cell_type": "code",
   "execution_count": 3,
   "metadata": {
    "executionInfo": {
     "elapsed": 2502,
     "status": "ok",
     "timestamp": 1616549935980,
     "user": {
      "displayName": "Ghanashyam Khanal",
      "photoUrl": "https://lh3.googleusercontent.com/a-/AOh14GjNFB_3XwLB8BEW17lVypQ54QKRq7KnQZVd8M-QU9c=s64",
      "userId": "16880718905978803098"
     },
     "user_tz": 240
    },
    "id": "ymx1LkyLb1PK"
   },
   "outputs": [
    {
     "data": {
      "text/html": [
       "<div>\n",
       "<style scoped>\n",
       "    .dataframe tbody tr th:only-of-type {\n",
       "        vertical-align: middle;\n",
       "    }\n",
       "\n",
       "    .dataframe tbody tr th {\n",
       "        vertical-align: top;\n",
       "    }\n",
       "\n",
       "    .dataframe thead th {\n",
       "        text-align: right;\n",
       "    }\n",
       "</style>\n",
       "<table border=\"1\" class=\"dataframe\">\n",
       "  <thead>\n",
       "    <tr style=\"text-align: right;\">\n",
       "      <th></th>\n",
       "      <th>id</th>\n",
       "      <th>comment_text</th>\n",
       "      <th>toxic</th>\n",
       "      <th>severe_toxic</th>\n",
       "      <th>obscene</th>\n",
       "      <th>threat</th>\n",
       "      <th>insult</th>\n",
       "      <th>identity_hate</th>\n",
       "      <th>label_sum</th>\n",
       "      <th>comment_lower</th>\n",
       "      <th>has_apostrophe</th>\n",
       "      <th>has_new_line</th>\n",
       "      <th>com_processed</th>\n",
       "    </tr>\n",
       "  </thead>\n",
       "  <tbody>\n",
       "    <tr>\n",
       "      <th>0</th>\n",
       "      <td>0000997932d777bf</td>\n",
       "      <td>Explanation\\nWhy the edits made under my usern...</td>\n",
       "      <td>0</td>\n",
       "      <td>0</td>\n",
       "      <td>0</td>\n",
       "      <td>0</td>\n",
       "      <td>0</td>\n",
       "      <td>0</td>\n",
       "      <td>0</td>\n",
       "      <td>explanation\\nwhy the edits made under my usern...</td>\n",
       "      <td>1</td>\n",
       "      <td>1</td>\n",
       "      <td>explanation edits made username hardcore metal...</td>\n",
       "    </tr>\n",
       "    <tr>\n",
       "      <th>1</th>\n",
       "      <td>000103f0d9cfb60f</td>\n",
       "      <td>D'aww! He matches this background colour I'm s...</td>\n",
       "      <td>0</td>\n",
       "      <td>0</td>\n",
       "      <td>0</td>\n",
       "      <td>0</td>\n",
       "      <td>0</td>\n",
       "      <td>0</td>\n",
       "      <td>0</td>\n",
       "      <td>d'aww! he matches this background colour i'm s...</td>\n",
       "      <td>1</td>\n",
       "      <td>0</td>\n",
       "      <td>aww matches background colour seemingly stuck ...</td>\n",
       "    </tr>\n",
       "  </tbody>\n",
       "</table>\n",
       "</div>"
      ],
      "text/plain": [
       "                 id                                       comment_text  toxic  \\\n",
       "0  0000997932d777bf  Explanation\\nWhy the edits made under my usern...      0   \n",
       "1  000103f0d9cfb60f  D'aww! He matches this background colour I'm s...      0   \n",
       "\n",
       "   severe_toxic  obscene  threat  insult  identity_hate  label_sum  \\\n",
       "0             0        0       0       0              0          0   \n",
       "1             0        0       0       0              0          0   \n",
       "\n",
       "                                       comment_lower  has_apostrophe  \\\n",
       "0  explanation\\nwhy the edits made under my usern...               1   \n",
       "1  d'aww! he matches this background colour i'm s...               1   \n",
       "\n",
       "   has_new_line                                      com_processed  \n",
       "0             1  explanation edits made username hardcore metal...  \n",
       "1             0  aww matches background colour seemingly stuck ...  "
      ]
     },
     "execution_count": 3,
     "metadata": {},
     "output_type": "execute_result"
    }
   ],
   "source": [
    "df = pd.read_csv(data_dir+'df_processed.csv')\n",
    "df.head(2)"
   ]
  },
  {
   "cell_type": "code",
   "execution_count": 4,
   "metadata": {},
   "outputs": [],
   "source": [
    "target_columns = ['toxic','severe_toxic','obscene','threat','insult','identity_hate']"
   ]
  },
  {
   "cell_type": "code",
   "execution_count": 7,
   "metadata": {},
   "outputs": [],
   "source": [
    "from sklearn.model_selection import train_test_split\n",
    "from sklearn.feature_extraction.text import TfidfVectorizer, CountVectorizer\n",
    "\n",
    "def prepare_TFIDF(df, col):\n",
    "    df_train, df_test = train_test_split(df, test_size=0.2, random_state = 8848)\n",
    "    \n",
    "    vectorizer = TfidfVectorizer(use_idf=True, max_df=0.95)\n",
    "    vectorizer.fit_transform(df_train[col].values)\n",
    "    \n",
    "    X_train = vectorizer.transform(df_train[col].values)\n",
    "    X_test  = vectorizer.transform(df_test[col].values)\n",
    "    \n",
    "    y_train = df_train[target_columns].values\n",
    "    y_test  = df_test[target_columns].values\n",
    "\n",
    "    return X_train, X_test, y_train, y_test, vectorizer\n",
    "\n",
    "X_train_tf, X_test_tf, y_train_tf, y_test_tf, vectorizer= prepare_TFIDF(df, \"com_processed\")"
   ]
  },
  {
   "cell_type": "code",
   "execution_count": 8,
   "metadata": {},
   "outputs": [
    {
     "name": "stdout",
     "output_type": "stream",
     "text": [
      "X_train Shape:  (127608, 147278)\n",
      "y_train Shape:  (127608, 6)\n"
     ]
    }
   ],
   "source": [
    "print(\"X_train Shape: \", X_train_tf.toarray().shape)\n",
    "print(\"y_train Shape: \", y_train_tf.shape)"
   ]
  },
  {
   "cell_type": "code",
   "execution_count": 9,
   "metadata": {},
   "outputs": [
    {
     "data": {
      "text/plain": [
       "(127608,)"
      ]
     },
     "execution_count": 9,
     "metadata": {},
     "output_type": "execute_result"
    }
   ],
   "source": [
    "y_train_tf[:,0].shape"
   ]
  },
  {
   "cell_type": "markdown",
   "metadata": {},
   "source": [
    "## Linear Discriminant Analysis  (LDA)"
   ]
  },
  {
   "cell_type": "code",
   "execution_count": 35,
   "metadata": {},
   "outputs": [
    {
     "data": {
      "image/png": "[encoded data removed]",
      "text/plain": [
       "<Figure size 1152x576 with 6 Axes>"
      ]
     },
     "metadata": {
      "needs_background": "light"
     },
     "output_type": "display_data"
    }
   ],
   "source": [
    "def LDA_plot(blue=False):\n",
    "    plt.figure(1, figsize=(16,8))\n",
    "\n",
    "    for n in range(6):\n",
    "        # find the centroids for each classes\n",
    "        X_0 = X_train_tf[y_train_tf[:,n]==0, :]\n",
    "        X_1 = X_train_tf[y_train_tf[:,n]==1, :]\n",
    "        x0_len=X_0.shape[0]\n",
    "        x1_len=X_1.shape[0]\n",
    "        ratio = np.round(100*x0_len/(x0_len+x1_len), 1)\n",
    "        ratio_ = np.round(100-ratio, 1)\n",
    "\n",
    "        ratio_text = \"Imbalance %\\n [\"+str(ratio)+\", \"+str(ratio_)+\"]\"\n",
    "\n",
    "        cent_0 = np.mean(X_0, axis=0)\n",
    "        cent_1 = np.mean(X_1, axis=0)\n",
    "\n",
    "        ## Now compute weight matrix\n",
    "        w = cent_0 - cent_1\n",
    "        train_lda_scores = X_train_tf.dot(w.T)  # had to transpose w to match the dimension\n",
    "        lda_score_0 = train_lda_scores[y_train_tf[:,n]==0]\n",
    "        lda_score_1 = train_lda_scores[y_train_tf[:,n]==1]\n",
    "\n",
    "        plt.subplot(2,3,1+n)\n",
    "\n",
    "        plt.hist(lda_score_0, color = \"blue\", label=\"0\", bins=50, alpha=0.3)\n",
    "        plt.hist(lda_score_1, color = \"red\",  label=\"1\", bins=50, alpha=0.3)\n",
    "\n",
    "        plt.title(target_columns[n], fontsize=20)\n",
    "        if n%3==0:\n",
    "            plt.ylabel(\"Count\", fontsize=16)\n",
    "        if n//3>=1:\n",
    "            plt.xlabel(\"LDA Score\", fontsize=16)\n",
    "        else:\n",
    "            plt.xticks([])\n",
    "        plt.xlim([-0.02, 0.02])\n",
    "        plt.xticks(fontsize=14, rotation=45)\n",
    "        plt.yticks(fontsize=14)\n",
    "        \n",
    "        ymax=plt.ylim()[1]\n",
    "        plt.text(-0.018, .8*ymax, ratio_text, fontsize='x-large')\n",
    "\n",
    "        plt.legend(fontsize=16, loc='upper right')\n",
    "    plt.subplots_adjust(hspace=0.2)\n",
    "    plt.show()\n",
    "    \n",
    "LDA_plot(blue=False)"
   ]
  },
  {
   "cell_type": "code",
   "execution_count": null,
   "metadata": {},
   "outputs": [],
   "source": []
  },
  {
   "cell_type": "code",
   "execution_count": null,
   "metadata": {},
   "outputs": [],
   "source": []
  },
  {
   "cell_type": "code",
   "execution_count": null,
   "metadata": {},
   "outputs": [],
   "source": []
  },
  {
   "cell_type": "code",
   "execution_count": null,
   "metadata": {},
   "outputs": [],
   "source": []
  },
  {
   "cell_type": "code",
   "execution_count": null,
   "metadata": {},
   "outputs": [],
   "source": []
  },
  {
   "cell_type": "code",
   "execution_count": null,
   "metadata": {},
   "outputs": [],
   "source": []
  },
  {
   "cell_type": "code",
   "execution_count": null,
   "metadata": {},
   "outputs": [],
   "source": []
  },
  {
   "cell_type": "code",
   "execution_count": null,
   "metadata": {},
   "outputs": [],
   "source": []
  },
  {
   "cell_type": "code",
   "execution_count": null,
   "metadata": {},
   "outputs": [],
   "source": []
  }
 ],
 "metadata": {
  "colab": {
   "collapsed_sections": [],
   "name": "g01_data_visualization.ipynb",
   "provenance": []
  },
  "kernelspec": {
   "display_name": "Python 3",
   "language": "python",
   "name": "python3"
  },
  "language_info": {
   "codemirror_mode": {
    "name": "ipython",
    "version": 3
   },
   "file_extension": ".py",
   "mimetype": "text/x-python",
   "name": "python",
   "nbconvert_exporter": "python",
   "pygments_lexer": "ipython3",
   "version": "3.8.5"
  }
 },
 "nbformat": 4,
 "nbformat_minor": 1
}
