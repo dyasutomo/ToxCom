{
 "cells": [
  {
   "cell_type": "markdown",
   "metadata": {
    "id": "0KH8MTKXdppl"
   },
   "source": [
    "# Loading the data"
   ]
  },
  {
   "cell_type": "code",
   "execution_count": 3,
   "metadata": {
    "executionInfo": {
     "elapsed": 1324,
     "status": "ok",
     "timestamp": 1616549931950,
     "user": {
      "displayName": "Ghanashyam Khanal",
      "photoUrl": "https://lh3.googleusercontent.com/a-/AOh14GjNFB_3XwLB8BEW17lVypQ54QKRq7KnQZVd8M-QU9c=s64",
      "userId": "16880718905978803098"
     },
     "user_tz": 240
    },
    "id": "M3vLv8-EcawR"
   },
   "outputs": [],
   "source": [
    "import numpy as np\n",
    "import pandas as pd\n",
    "import pylab as plt\n",
    "import seaborn as sns\n",
    "import sklearn\n",
    "\n",
    "\n",
    "from sklearn.metrics import accuracy_score, confusion_matrix, f1_score, roc_auc_score \n",
    "from sklearn.metrics import average_precision_score, recall_score, classification_report\n",
    "from sklearn.metrics import multilabel_confusion_matrix, ConfusionMatrixDisplay\n",
    "\n",
    "data_dir='./dataset/'"
   ]
  },
  {
   "cell_type": "code",
   "execution_count": null,
   "metadata": {},
   "outputs": [],
   "source": []
  },
  {
   "cell_type": "code",
   "execution_count": 4,
   "metadata": {
    "executionInfo": {
     "elapsed": 2502,
     "status": "ok",
     "timestamp": 1616549935980,
     "user": {
      "displayName": "Ghanashyam Khanal",
      "photoUrl": "https://lh3.googleusercontent.com/a-/AOh14GjNFB_3XwLB8BEW17lVypQ54QKRq7KnQZVd8M-QU9c=s64",
      "userId": "16880718905978803098"
     },
     "user_tz": 240
    },
    "id": "ymx1LkyLb1PK"
   },
   "outputs": [
    {
     "data": {
      "text/html": [
       "<div>\n",
       "<style scoped>\n",
       "    .dataframe tbody tr th:only-of-type {\n",
       "        vertical-align: middle;\n",
       "    }\n",
       "\n",
       "    .dataframe tbody tr th {\n",
       "        vertical-align: top;\n",
       "    }\n",
       "\n",
       "    .dataframe thead th {\n",
       "        text-align: right;\n",
       "    }\n",
       "</style>\n",
       "<table border=\"1\" class=\"dataframe\">\n",
       "  <thead>\n",
       "    <tr style=\"text-align: right;\">\n",
       "      <th></th>\n",
       "      <th>id</th>\n",
       "      <th>comment_text</th>\n",
       "      <th>toxic</th>\n",
       "      <th>severe_toxic</th>\n",
       "      <th>obscene</th>\n",
       "      <th>threat</th>\n",
       "      <th>insult</th>\n",
       "      <th>identity_hate</th>\n",
       "      <th>label_sum</th>\n",
       "      <th>comment_lower</th>\n",
       "      <th>has_apostrophe</th>\n",
       "      <th>has_new_line</th>\n",
       "      <th>com_processed</th>\n",
       "    </tr>\n",
       "  </thead>\n",
       "  <tbody>\n",
       "    <tr>\n",
       "      <th>0</th>\n",
       "      <td>0000997932d777bf</td>\n",
       "      <td>Explanation\\nWhy the edits made under my usern...</td>\n",
       "      <td>0</td>\n",
       "      <td>0</td>\n",
       "      <td>0</td>\n",
       "      <td>0</td>\n",
       "      <td>0</td>\n",
       "      <td>0</td>\n",
       "      <td>0</td>\n",
       "      <td>explanation\\nwhy the edits made under my usern...</td>\n",
       "      <td>1</td>\n",
       "      <td>1</td>\n",
       "      <td>explanation edits made username hardcore metal...</td>\n",
       "    </tr>\n",
       "    <tr>\n",
       "      <th>1</th>\n",
       "      <td>000103f0d9cfb60f</td>\n",
       "      <td>D'aww! He matches this background colour I'm s...</td>\n",
       "      <td>0</td>\n",
       "      <td>0</td>\n",
       "      <td>0</td>\n",
       "      <td>0</td>\n",
       "      <td>0</td>\n",
       "      <td>0</td>\n",
       "      <td>0</td>\n",
       "      <td>d'aww! he matches this background colour i'm s...</td>\n",
       "      <td>1</td>\n",
       "      <td>0</td>\n",
       "      <td>aww matches background colour seemingly stuck ...</td>\n",
       "    </tr>\n",
       "  </tbody>\n",
       "</table>\n",
       "</div>"
      ],
      "text/plain": [
       "                 id                                       comment_text  toxic  \\\n",
       "0  0000997932d777bf  Explanation\\nWhy the edits made under my usern...      0   \n",
       "1  000103f0d9cfb60f  D'aww! He matches this background colour I'm s...      0   \n",
       "\n",
       "   severe_toxic  obscene  threat  insult  identity_hate  label_sum  \\\n",
       "0             0        0       0       0              0          0   \n",
       "1             0        0       0       0              0          0   \n",
       "\n",
       "                                       comment_lower  has_apostrophe  \\\n",
       "0  explanation\\nwhy the edits made under my usern...               1   \n",
       "1  d'aww! he matches this background colour i'm s...               1   \n",
       "\n",
       "   has_new_line                                      com_processed  \n",
       "0             1  explanation edits made username hardcore metal...  \n",
       "1             0  aww matches background colour seemingly stuck ...  "
      ]
     },
     "execution_count": 4,
     "metadata": {},
     "output_type": "execute_result"
    }
   ],
   "source": [
    "df = pd.read_csv(data_dir+'df_processed.csv')\n",
    "df.head(2)"
   ]
  },
  {
   "cell_type": "code",
   "execution_count": 5,
   "metadata": {},
   "outputs": [],
   "source": [
    "target_columns = ['toxic','severe_toxic','obscene','threat','insult','identity_hate']"
   ]
  },
  {
   "cell_type": "code",
   "execution_count": 6,
   "metadata": {},
   "outputs": [
    {
     "name": "stdout",
     "output_type": "stream",
     "text": [
      "X_train.shape: (95706, 500) y_train.shape:(95706, 6)\n",
      "X_test.shape: (31903, 500) y_test.shape:(31903, 6)\n",
      "X_val.shape: (31902, 500) y_val.shape:(31902, 6)\n"
     ]
    }
   ],
   "source": [
    "from sklearn.model_selection import train_test_split\n",
    "from tensorflow.keras.preprocessing.text import Tokenizer\n",
    "from tensorflow.keras.preprocessing.sequence import pad_sequences\n",
    "\n",
    "MAX_SEQ_LEN = 500 # length of each text\n",
    "MAX_WORDS   = 1000 # use only this many max used words\n",
    "\n",
    "def prepare_inputs(df, column, text_to_matrix=False):\n",
    "    X_train_, X_test, y_train_, y_test = train_test_split(df[column].values,\n",
    "                                                          df[target_columns].values,\n",
    "                                                          test_size=0.2)\n",
    "    \n",
    "    X_train,  X_val, y_train, y_val = train_test_split(X_train_,\n",
    "                                                       y_train_,\n",
    "                                                       test_size=0.25)\n",
    "    \n",
    "    tokenizer = Tokenizer(num_words=MAX_WORDS)\n",
    "    tokenizer.fit_on_texts(X_train)\n",
    "\n",
    "    if text_to_matrix:\n",
    "        X_train = tokenizer.texts_to_matrix(X_train)\n",
    "        X_val   = tokenizer.texts_to_matrix(X_val)    \n",
    "        X_test  = tokenizer.texts_to_matrix(X_test)\n",
    "    else:\n",
    "        X_train = tokenizer.texts_to_sequences(X_train)\n",
    "        X_val   = tokenizer.texts_to_sequences(X_val)    \n",
    "        X_test  = tokenizer.texts_to_sequences(X_test)\n",
    "\n",
    "        X_train = pad_sequences(X_train, maxlen=MAX_SEQ_LEN,\n",
    "                                padding='post', truncating='post')\n",
    "        X_val   = pad_sequences(X_val,   maxlen=MAX_SEQ_LEN,\n",
    "                                padding='post', truncating='post')\n",
    "        X_test  = pad_sequences(X_test,  maxlen=MAX_SEQ_LEN,\n",
    "                                padding='post', truncating='post')\n",
    "\n",
    "    print (f\"X_train.shape: {X_train.shape} y_train.shape:{y_train.shape}\" )\n",
    "    print (f\"X_test.shape: {X_test.shape} y_test.shape:{y_test.shape}\" )\n",
    "    print (f\"X_val.shape: {X_val.shape} y_val.shape:{y_val.shape}\" )\n",
    "    \n",
    "    return (X_train, X_val, X_test, y_train, y_val, y_test, tokenizer)\n",
    "\n",
    "(X_train, X_val, X_test, y_train, y_val, y_test, tokenizer) = prepare_inputs(df, \"com_processed\" )"
   ]
  },
  {
   "cell_type": "code",
   "execution_count": null,
   "metadata": {},
   "outputs": [],
   "source": [
    "def plot_history(history, ax=None):                                                                                                                           \n",
    "    \n",
    "    if ax is None:\n",
    "        (fig, ax) = plt.subplots(1,2, figsize=(12,4))\n",
    "    ax[0].plot(history.history['loss'], label='Training loss')\n",
    "    ax[0].plot(history.history['val_loss'], label='validation loss')\n",
    "    ax[0].legend()\n",
    "\n",
    "    ax[1].plot(history.history['binary_accuracy'], label='Training accuracy')\n",
    "    ax[1].plot(history.history['val_binary_accuracy'], label='validation accuracy')\n",
    "    ax[1].legend()\n",
    "\n"
   ]
  },
  {
   "cell_type": "markdown",
   "metadata": {},
   "source": [
    "## Model: Neural network"
   ]
  },
  {
   "cell_type": "code",
   "execution_count": 7,
   "metadata": {},
   "outputs": [],
   "source": [
    "from keras.models import Sequential\n",
    "from keras.optimizers import Adam\n",
    "from keras.layers import Dense, Dropout, Flatten, LSTM, Bidirectional\n",
    "from keras.layers import Conv1D, MaxPooling1D, GlobalMaxPool1D, BatchNormalization\n",
    "from keras.layers.embeddings import Embedding\n",
    "\n",
    "from keras.callbacks import EarlyStopping\n",
    "from keras.metrics import binary_accuracy"
   ]
  },
  {
   "cell_type": "code",
   "execution_count": 22,
   "metadata": {},
   "outputs": [],
   "source": [
    "def get_model(n_inputs, n_outputs):\n",
    "    model = Sequential()\n",
    "    model.add(Dense(10, input_dim=n_inputs, kernel_initializer='he_uniform', activation='relu'))\n",
    "    model.add(Dense(n_outputs, activation='sigmoid'))\n",
    "    model.compile(loss='binary_crossentropy', optimizer='adam')#, metrics='accuracy')\n",
    "    return model"
   ]
  },
  {
   "cell_type": "code",
   "execution_count": 23,
   "metadata": {},
   "outputs": [],
   "source": [
    "n_inputs = X_train.shape[1]\n",
    "n_outputs = y_train.shape[1]"
   ]
  },
  {
   "cell_type": "code",
   "execution_count": 24,
   "metadata": {},
   "outputs": [
    {
     "name": "stdout",
     "output_type": "stream",
     "text": [
      "Model: \"sequential_1\"\n",
      "_________________________________________________________________\n",
      "Layer (type)                 Output Shape              Param #   \n",
      "=================================================================\n",
      "dense_2 (Dense)              (None, 10)                5010      \n",
      "_________________________________________________________________\n",
      "dense_3 (Dense)              (None, 6)                 66        \n",
      "=================================================================\n",
      "Total params: 5,076\n",
      "Trainable params: 5,076\n",
      "Non-trainable params: 0\n",
      "_________________________________________________________________\n"
     ]
    }
   ],
   "source": [
    "model =  get_model(n_inputs, n_outputs)\n",
    "model.summary()"
   ]
  },
  {
   "cell_type": "code",
   "execution_count": 25,
   "metadata": {},
   "outputs": [
    {
     "name": "stdout",
     "output_type": "stream",
     "text": [
      "Epoch 1/5\n",
      "2991/2991 [==============================] - 3s 1ms/step - loss: 0.5456 - val_loss: 0.1854\n",
      "Epoch 2/5\n",
      "2991/2991 [==============================] - 3s 916us/step - loss: 0.1626 - val_loss: 0.1494\n",
      "Epoch 3/5\n",
      "2991/2991 [==============================] - 3s 937us/step - loss: 0.1461 - val_loss: 0.1418\n",
      "Epoch 4/5\n",
      "2991/2991 [==============================] - 3s 932us/step - loss: 0.1422 - val_loss: 0.1398\n",
      "Epoch 5/5\n",
      "2991/2991 [==============================] - 3s 963us/step - loss: 0.1407 - val_loss: 0.1391\n"
     ]
    }
   ],
   "source": [
    "history = model.fit(X_train, y_train,\n",
    "                    validation_data=(X_val, y_val),\n",
    "                    epochs=5, batch_size=32, verbose=1)"
   ]
  },
  {
   "cell_type": "code",
   "execution_count": 26,
   "metadata": {},
   "outputs": [
    {
     "data": {
      "text/plain": [
       "{'loss': [0.5455724596977234,\n",
       "  0.1625794619321823,\n",
       "  0.1461421698331833,\n",
       "  0.14218628406524658,\n",
       "  0.1406852900981903],\n",
       " 'val_loss': [0.18544940650463104,\n",
       "  0.14941467344760895,\n",
       "  0.14179903268814087,\n",
       "  0.13981595635414124,\n",
       "  0.13910914957523346]}"
      ]
     },
     "execution_count": 26,
     "metadata": {},
     "output_type": "execute_result"
    }
   ],
   "source": [
    "history.history"
   ]
  },
  {
   "cell_type": "code",
   "execution_count": 27,
   "metadata": {},
   "outputs": [
    {
     "data": {
      "text/plain": [
       "[<matplotlib.lines.Line2D at 0x1406ca370>]"
      ]
     },
     "execution_count": 27,
     "metadata": {},
     "output_type": "execute_result"
    },
    {
     "data": {
      "image/png": "[encoded data removed]",
      "text/plain": [
       "<Figure size 864x288 with 1 Axes>"
      ]
     },
     "metadata": {
      "needs_background": "light"
     },
     "output_type": "display_data"
    }
   ],
   "source": [
    "plt.figure(1, figsize=(12,4))\n",
    "plt.subplot(121)\n",
    "plt.plot(history.history['loss'])\n",
    "plt.plot(history.history['val_loss'])\n",
    "#plt.subplot(122)\n",
    "#plt.plot(history.history['accuracy'])\n",
    "#plt.plot(history.history['val_accuracy'])"
   ]
  },
  {
   "cell_type": "code",
   "execution_count": 28,
   "metadata": {},
   "outputs": [
    {
     "name": "stdout",
     "output_type": "stream",
     "text": [
      "13.0\n"
     ]
    }
   ],
   "source": [
    "ypred = model.predict(X_val)\n",
    "ypred_class = np.round(ypred)\n",
    "print (ypred_class.sum())"
   ]
  },
  {
   "cell_type": "code",
   "execution_count": null,
   "metadata": {},
   "outputs": [],
   "source": []
  },
  {
   "cell_type": "code",
   "execution_count": null,
   "metadata": {},
   "outputs": [],
   "source": []
  },
  {
   "cell_type": "code",
   "execution_count": null,
   "metadata": {},
   "outputs": [],
   "source": [
    "ypred = model.predict(Xte)\n",
    "ypred_class = ypred.round()\n",
    "acc = accuracy_score(yte, ypred_class)\n",
    "print('>%.3f' % acc)"
   ]
  },
  {
   "cell_type": "code",
   "execution_count": null,
   "metadata": {},
   "outputs": [],
   "source": []
  },
  {
   "cell_type": "code",
   "execution_count": null,
   "metadata": {},
   "outputs": [],
   "source": []
  },
  {
   "cell_type": "code",
   "execution_count": null,
   "metadata": {},
   "outputs": [],
   "source": []
  },
  {
   "cell_type": "code",
   "execution_count": null,
   "metadata": {},
   "outputs": [],
   "source": []
  },
  {
   "cell_type": "code",
   "execution_count": null,
   "metadata": {},
   "outputs": [],
   "source": []
  },
  {
   "cell_type": "code",
   "execution_count": null,
   "metadata": {},
   "outputs": [],
   "source": []
  },
  {
   "cell_type": "code",
   "execution_count": null,
   "metadata": {},
   "outputs": [],
   "source": []
  },
  {
   "cell_type": "code",
   "execution_count": 6,
   "metadata": {},
   "outputs": [
    {
     "data": {
      "text/plain": [
       "(95706,)"
      ]
     },
     "execution_count": 6,
     "metadata": {},
     "output_type": "execute_result"
    }
   ],
   "source": [
    "y_train[:,0].shape"
   ]
  },
  {
   "cell_type": "code",
   "execution_count": 7,
   "metadata": {},
   "outputs": [],
   "source": [
    "def model_dense(X_train, y_train):\n",
    "    model = Sequential()\n",
    "    model.add(Dense(1, input_shape=(X_train.shape[1],), activation='relu', use_bias=True))\n",
    "    model.add(Dense(y_train.shape[1], activation='sigmoid'))\n",
    "    model.compile(loss='binary_crossentropy', optimizer='adam', metrics=[binary_accuracy])\n",
    "    return model"
   ]
  },
  {
   "cell_type": "code",
   "execution_count": 8,
   "metadata": {},
   "outputs": [
    {
     "name": "stdout",
     "output_type": "stream",
     "text": [
      "Model: \"sequential\"\n",
      "_________________________________________________________________\n",
      "Layer (type)                 Output Shape              Param #   \n",
      "=================================================================\n",
      "dense (Dense)                (None, 1)                 501       \n",
      "_________________________________________________________________\n",
      "dense_1 (Dense)              (None, 6)                 12        \n",
      "=================================================================\n",
      "Total params: 513\n",
      "Trainable params: 513\n",
      "Non-trainable params: 0\n",
      "_________________________________________________________________\n"
     ]
    }
   ],
   "source": [
    "model = model_dense(X_train, y_train)\n",
    "model.summary()"
   ]
  },
  {
   "cell_type": "code",
   "execution_count": 9,
   "metadata": {},
   "outputs": [
    {
     "name": "stdout",
     "output_type": "stream",
     "text": [
      "Epoch 1/5\n",
      "2991/2991 [==============================] - 3s 984us/step - loss: 0.4252 - binary_accuracy: 0.9596 - val_loss: 0.1918 - val_binary_accuracy: 0.9627\n",
      "Epoch 2/5\n",
      "2991/2991 [==============================] - 3s 907us/step - loss: 0.1612 - binary_accuracy: 0.9634 - val_loss: 0.1487 - val_binary_accuracy: 0.9627\n",
      "Epoch 3/5\n",
      "2991/2991 [==============================] - 3s 1ms/step - loss: 0.1433 - binary_accuracy: 0.9634 - val_loss: 0.1434 - val_binary_accuracy: 0.9627\n",
      "Epoch 4/5\n",
      "2991/2991 [==============================] - 3s 989us/step - loss: 0.1411 - binary_accuracy: 0.9634 - val_loss: 0.1429 - val_binary_accuracy: 0.9627\n",
      "Epoch 5/5\n",
      "2991/2991 [==============================] - 3s 959us/step - loss: 0.1409 - binary_accuracy: 0.9634 - val_loss: 0.1429 - val_binary_accuracy: 0.9627\n"
     ]
    }
   ],
   "source": [
    "#es = EarlyStopping(patience=3)\n",
    "\n",
    "history = model.fit(X_train, y_train,\n",
    "                    validation_data=(X_val, y_val),\n",
    "                    epochs=5, batch_size=32, verbose=1)\n",
    "                   #callbacks=[es])"
   ]
  },
  {
   "cell_type": "code",
   "execution_count": 10,
   "metadata": {},
   "outputs": [],
   "source": [
    "def plot_history(history, ax=None):                                                                                                                           \n",
    "    \n",
    "    if ax is None:\n",
    "        (fig, ax) = plt.subplots(1,2, figsize=(12,4))\n",
    "    ax[0].plot(history.history['loss'], label='Training loss')\n",
    "    ax[0].plot(history.history['val_loss'], label='validation loss')\n",
    "    ax[0].legend()\n",
    "\n",
    "    ax[1].plot(history.history['binary_accuracy'], label='Training accuracy')\n",
    "    ax[1].plot(history.history['val_binary_accuracy'], label='validation accuracy')\n",
    "    ax[1].legend()\n",
    "\n"
   ]
  },
  {
   "cell_type": "code",
   "execution_count": 11,
   "metadata": {},
   "outputs": [
    {
     "data": {
      "image/png": "[encoded data removed]",
      "text/plain": [
       "<Figure size 864x288 with 2 Axes>"
      ]
     },
     "metadata": {
      "needs_background": "light"
     },
     "output_type": "display_data"
    }
   ],
   "source": [
    "plot_history(history)"
   ]
  },
  {
   "cell_type": "code",
   "execution_count": 12,
   "metadata": {},
   "outputs": [
    {
     "data": {
      "text/plain": [
       "(31902, 6)"
      ]
     },
     "execution_count": 12,
     "metadata": {},
     "output_type": "execute_result"
    }
   ],
   "source": [
    "y_prob = model.predict(X_val)\n",
    "y_prob.shape"
   ]
  },
  {
   "cell_type": "code",
   "execution_count": 21,
   "metadata": {},
   "outputs": [
    {
     "data": {
      "text/plain": [
       "array([[0, 0, 0, 0, 0, 0],\n",
       "       [1, 0, 0, 0, 0, 0],\n",
       "       [1, 1, 1, 0, 1, 0],\n",
       "       [0, 0, 0, 0, 0, 0]])"
      ]
     },
     "execution_count": 21,
     "metadata": {},
     "output_type": "execute_result"
    }
   ],
   "source": [
    "#y_val[y_val.sum(axis=1)>2]\n",
    "y_val[3:7]"
   ]
  },
  {
   "cell_type": "code",
   "execution_count": 22,
   "metadata": {},
   "outputs": [
    {
     "data": {
      "text/plain": [
       "array([[0.09566575, 0.01029539, 0.05232048, 0.00345063, 0.04886669,\n",
       "        0.00899345],\n",
       "       [0.09566575, 0.01029539, 0.05232048, 0.00345063, 0.04886669,\n",
       "        0.00899345],\n",
       "       [0.09566575, 0.01029539, 0.05232048, 0.00345063, 0.04886669,\n",
       "        0.00899345],\n",
       "       [0.09566575, 0.01029539, 0.05232048, 0.00345063, 0.04886669,\n",
       "        0.00899345]], dtype=float32)"
      ]
     },
     "execution_count": 22,
     "metadata": {},
     "output_type": "execute_result"
    }
   ],
   "source": [
    "y_prob[3:7]"
   ]
  },
  {
   "cell_type": "code",
   "execution_count": 101,
   "metadata": {},
   "outputs": [
    {
     "data": {
      "text/plain": [
       "array([0.29830348, 0.23411909, 0.30193272, ..., 0.3006101 , 0.30193272,\n",
       "       0.18140325], dtype=float32)"
      ]
     },
     "execution_count": 101,
     "metadata": {},
     "output_type": "execute_result"
    }
   ],
   "source": [
    "y_prob.sum(axis=1)"
   ]
  },
  {
   "cell_type": "code",
   "execution_count": 102,
   "metadata": {},
   "outputs": [],
   "source": [
    "for i in range(31902):\n",
    "    sm = (np.sum([round(v) for v in y_prob[i]]))#[i].sum())\n",
    "    if sm >0:\n",
    "        print (i, sm)\n",
    "    #if y_prob[i].sum()>.5:\n",
    "    #    print (y_prob[i])\n",
    "    #if y_val[i].sum()>0:\n",
    "    #    print (\"actual label: \", y_val[i], \"predicted\", [round(v, 2) for v in y_prob[i]])"
   ]
  },
  {
   "cell_type": "code",
   "execution_count": 46,
   "metadata": {},
   "outputs": [
    {
     "data": {
      "text/plain": [
       "array([[0.09459469, 0.0100345 , 0.05250493, 0.00325999, 0.04845721,\n",
       "        0.00874993],\n",
       "       [0.09459469, 0.0100345 , 0.05250493, 0.00325999, 0.04845721,\n",
       "        0.00874993],\n",
       "       [0.09459469, 0.0100345 , 0.05250493, 0.00325999, 0.04845721,\n",
       "        0.00874993],\n",
       "       [0.09459469, 0.0100345 , 0.05250493, 0.00325999, 0.04845721,\n",
       "        0.00874993],\n",
       "       [0.09459469, 0.0100345 , 0.05250493, 0.00325999, 0.04845721,\n",
       "        0.00874993],\n",
       "       [0.09459469, 0.0100345 , 0.05250493, 0.00325999, 0.04845721,\n",
       "        0.00874993],\n",
       "       [0.09459469, 0.0100345 , 0.05250493, 0.00325999, 0.04845721,\n",
       "        0.00874993],\n",
       "       [0.09459469, 0.0100345 , 0.05250493, 0.00325999, 0.04845721,\n",
       "        0.00874993],\n",
       "       [0.09459469, 0.0100345 , 0.05250493, 0.00325999, 0.04845721,\n",
       "        0.00874993],\n",
       "       [0.09459469, 0.0100345 , 0.05250493, 0.00325999, 0.04845721,\n",
       "        0.00874993]], dtype=float32)"
      ]
     },
     "execution_count": 46,
     "metadata": {},
     "output_type": "execute_result"
    }
   ],
   "source": [
    "y_prob[:10]"
   ]
  },
  {
   "cell_type": "code",
   "execution_count": 43,
   "metadata": {},
   "outputs": [
    {
     "ename": "IndexError",
     "evalue": "boolean index did not match indexed array along dimension 0; dimension is 31902 but corresponding boolean dimension is 100",
     "output_type": "error",
     "traceback": [
      "\u001b[0;31m---------------------------------------------------------------------------\u001b[0m",
      "\u001b[0;31mIndexError\u001b[0m                                Traceback (most recent call last)",
      "\u001b[0;32m<ipython-input-43-ce250af58afc>\u001b[0m in \u001b[0;36m<module>\u001b[0;34m\u001b[0m\n\u001b[1;32m      1\u001b[0m \u001b[0;31m#y_val[\u001b[0m\u001b[0;34m\u001b[0m\u001b[0;34m\u001b[0m\u001b[0;34m\u001b[0m\u001b[0m\n\u001b[1;32m      2\u001b[0m \u001b[0;31m#np.where(np.sum(y_val, axis=1) >0 , 1, 0)\u001b[0m\u001b[0;34m\u001b[0m\u001b[0;34m\u001b[0m\u001b[0;34m\u001b[0m\u001b[0m\n\u001b[0;32m----> 3\u001b[0;31m \u001b[0my_val\u001b[0m\u001b[0;34m[\u001b[0m\u001b[0mnp\u001b[0m\u001b[0;34m.\u001b[0m\u001b[0msum\u001b[0m\u001b[0;34m(\u001b[0m\u001b[0my_val\u001b[0m\u001b[0;34m[\u001b[0m\u001b[0;36m0\u001b[0m\u001b[0;34m:\u001b[0m\u001b[0;36m100\u001b[0m\u001b[0;34m,\u001b[0m \u001b[0;34m:\u001b[0m\u001b[0;34m]\u001b[0m\u001b[0;34m,\u001b[0m \u001b[0maxis\u001b[0m\u001b[0;34m=\u001b[0m\u001b[0;36m1\u001b[0m\u001b[0;34m)\u001b[0m \u001b[0;34m>\u001b[0m\u001b[0;36m0\u001b[0m\u001b[0;34m]\u001b[0m\u001b[0;34m\u001b[0m\u001b[0;34m\u001b[0m\u001b[0m\n\u001b[0m",
      "\u001b[0;31mIndexError\u001b[0m: boolean index did not match indexed array along dimension 0; dimension is 31902 but corresponding boolean dimension is 100"
     ]
    }
   ],
   "source": [
    "#y_val[\n",
    "#np.where(np.sum(y_val, axis=1) >0 , 1, 0) \n",
    "y_val[np.sum(y_val[0:100, :], axis=1) >0]"
   ]
  },
  {
   "cell_type": "code",
   "execution_count": null,
   "metadata": {},
   "outputs": [],
   "source": []
  },
  {
   "cell_type": "code",
   "execution_count": null,
   "metadata": {},
   "outputs": [],
   "source": []
  },
  {
   "cell_type": "code",
   "execution_count": 47,
   "metadata": {},
   "outputs": [
    {
     "data": {
      "image/png": "[encoded data removed]",
      "text/plain": [
       "<Figure size 1440x864 with 12 Axes>"
      ]
     },
     "metadata": {
      "needs_background": "light"
     },
     "output_type": "display_data"
    }
   ],
   "source": [
    "def acc_plots_():\n",
    "    #all_models = train_all_features()\n",
    "    fig, ax=plt.subplots(6,2, figsize=(20,12))\n",
    "    for i, (feature, model, history) in enumerate(all_models):\n",
    "        ax[i,0].plot(history.history['loss'], label='Training loss')\n",
    "        ax[i,0].plot(history.history['val_loss'], label='validation loss')        \n",
    "        #ax[i,0].set_grid()\n",
    "        ax[i,0].legend()\n",
    "\n",
    "        ax[i,1].plot(history.history['accuracy'], label='Training accuracy')\n",
    "        ax[i,1].plot(history.history['val_accuracy'], label='validation accuracy')\n",
    "        #ax[i,1].set_grid()\n",
    "        ax[i,1].legend()\n",
    "        \n",
    "acc_plots_()"
   ]
  },
  {
   "cell_type": "code",
   "execution_count": 7,
   "metadata": {},
   "outputs": [],
   "source": [
    "def make_model_dense(X_train, y_train):\n",
    "    model = Sequential()\n",
    "    model.add(Dense(1, input_shape=(X_train.shape[1],), activation='relu'))#, kernel_regularizer='l2'))\n",
    "    #model.add(Dropout(0.2))\n",
    "    model.add(Dense(y_train.shape[1], activation='softmax'))\n",
    "    opt = Adam(learning_rate=0.00001)\n",
    "    model.compile(loss='categorical_crossentropy', optimizer=opt, metrics=['accuracy'])\n",
    "    return model\n",
    "\n",
    "def make_model_lstm(X_train, y_train, embedding_length = 16):\n",
    "    model = Sequential()\n",
    "    model.add(Embedding(MAX_WORDS, embedding_length, input_length=2000))#input_length=X_train.shape[1]))\n",
    "    model.add(LSTM(16, activation='relu'))#, return_sequences=True))\n",
    "    model.add(Dropout(0.2))\n",
    "    model.add(BatchNormalization())\n",
    "    model.add(Flatten())\n",
    "    model.add(Dense(y_train.shape[1], activation='softmax'))\n",
    "    model.compile(loss='categorical_crossentropy', optimizer='adam', metrics=['accuracy'])\n",
    "    return model"
   ]
  },
  {
   "cell_type": "code",
   "execution_count": 8,
   "metadata": {},
   "outputs": [
    {
     "name": "stdout",
     "output_type": "stream",
     "text": [
      "Model: \"sequential\"\n",
      "_________________________________________________________________\n",
      "Layer (type)                 Output Shape              Param #   \n",
      "=================================================================\n",
      "dense (Dense)                (None, 1)                 501       \n",
      "_________________________________________________________________\n",
      "dense_1 (Dense)              (None, 6)                 12        \n",
      "=================================================================\n",
      "Total params: 513\n",
      "Trainable params: 513\n",
      "Non-trainable params: 0\n",
      "_________________________________________________________________\n"
     ]
    },
    {
     "data": {
      "text/plain": [
       "None"
      ]
     },
     "metadata": {},
     "output_type": "display_data"
    },
    {
     "name": "stdout",
     "output_type": "stream",
     "text": [
      "Epoch 1/10\n",
      "2991/2991 [==============================] - 3s 994us/step - loss: 1.9641 - accuracy: 0.6305 - val_loss: 1.2794 - val_accuracy: 0.7228\n",
      "Epoch 2/10\n",
      "2991/2991 [==============================] - 3s 953us/step - loss: 0.8990 - accuracy: 0.7847 - val_loss: 0.6678 - val_accuracy: 0.8320\n",
      "Epoch 3/10\n",
      "2991/2991 [==============================] - 3s 1ms/step - loss: 0.5446 - accuracy: 0.8721 - val_loss: 0.4665 - val_accuracy: 0.8985\n",
      "Epoch 4/10\n",
      "2991/2991 [==============================] - 3s 996us/step - loss: 0.4265 - accuracy: 0.9227 - val_loss: 0.4021 - val_accuracy: 0.9385\n",
      "Epoch 5/10\n",
      "2991/2991 [==============================] - 3s 902us/step - loss: 0.3957 - accuracy: 0.9667 - val_loss: 0.3927 - val_accuracy: 0.9939\n",
      "Epoch 6/10\n",
      "2991/2991 [==============================] - 3s 957us/step - loss: 0.3928 - accuracy: 0.9938 - val_loss: 0.3924 - val_accuracy: 0.9940\n",
      "Epoch 7/10\n",
      "2991/2991 [==============================] - 4s 1ms/step - loss: 0.3920 - accuracy: 0.9939 - val_loss: 0.3921 - val_accuracy: 0.9940\n",
      "Epoch 8/10\n",
      "2991/2991 [==============================] - 3s 1ms/step - loss: 0.3914 - accuracy: 0.9939 - val_loss: 0.3918 - val_accuracy: 0.9940\n",
      "Epoch 9/10\n",
      "2991/2991 [==============================] - 3s 939us/step - loss: 0.3911 - accuracy: 0.9939 - val_loss: 0.3915 - val_accuracy: 0.9940\n",
      "Epoch 10/10\n",
      "2991/2991 [==============================] - 3s 1ms/step - loss: 0.3908 - accuracy: 0.9940 - val_loss: 0.3912 - val_accuracy: 0.9940\n"
     ]
    },
    {
     "data": {
      "image/png": "[encoded data removed]",
      "text/plain": [
       "<Figure size 864x288 with 2 Axes>"
      ]
     },
     "metadata": {
      "needs_background": "light"
     },
     "output_type": "display_data"
    }
   ],
   "source": [
    "model1= make_model_dense(X_train, y_train)\n",
    "display(model1.summary())\n",
    "history1 = model1.fit(X_train, y_train,\n",
    "                      validation_data=(X_val, y_val),\n",
    "                      epochs=10, batch_size=32, verbose=1)\n",
    "from helper import plot_history\n",
    "plot_history(history1)"
   ]
  },
  {
   "cell_type": "markdown",
   "metadata": {},
   "source": [
    "## Findings\n",
    "\n",
    "- so far a single dense layer 2 nodes with Adam(learning_rate=0.00001) worked nice with .9946 accuracy on val set.\n",
    "\n",
    "```\n",
    "model = Sequential()\n",
    "model.add(Dense(2, input_shape=(X_train.shape[1],), activation='relu',                 kernel_regularizer='l2'))\n",
    "model.add(Dropout(0.2))\n",
    "model.add(Dense(y_train.shape[1], activation='softmax'))\n",
    "opt = Adam(learning_rate=0.00001)\n",
    "model.compile(loss='categorical_crossentropy', optimizer=opt, metrics=['accuracy'])\n",
    "return model\n",
    "```\n",
    "\n",
    "### NOTE:\n",
    "- I first started with 2 Dense layers and 128 nodes each. That had a serious overfitting problem. The accuracy fluctuated from .99 -> .30 -> .87 -> .42 -> .95.\n",
    "- Reduced the layer size to 1 the fluctuation was still there but it was less severe.\n",
    "- Then reduced the node size to smaller number and eventually 1 and it was a great convergence only in 3 iteration.\n",
    "- Learning rate and kernel_regularizer didn't have much effect once I reduced the # of nodes to < 10.\n",
    "\n"
   ]
  },
  {
   "cell_type": "code",
   "execution_count": 22,
   "metadata": {},
   "outputs": [],
   "source": [
    "def get_tpr(actual, pred):\n",
    "    tp = np.sum((actual==1) & (pred == 1)) \n",
    "    fn = np.sum((actual==1) & (pred == 0)) \n",
    "    return tp/(tp+fn)\n",
    "\n",
    "def get_fpr(actual, pred):\n",
    "    fp = np.sum((actual == 0) & (pred == 1)) \n",
    "    tn = np.sum((actual == 0) & (pred == 0)) \n",
    "    return fp/(fp+tn)\n",
    "\n",
    "def get_acc(actual, pred):\n",
    "    return np.sum(actual==pred)/len(actual)\n"
   ]
  },
  {
   "cell_type": "code",
   "execution_count": 14,
   "metadata": {},
   "outputs": [],
   "source": [
    "from tensorflow.python.keras.utils import np_utils"
   ]
  },
  {
   "cell_type": "code",
   "execution_count": 19,
   "metadata": {},
   "outputs": [],
   "source": [
    "y_proba=model1.predict(X_val)"
   ]
  },
  {
   "cell_type": "code",
   "execution_count": 29,
   "metadata": {},
   "outputs": [
    {
     "data": {
      "text/plain": [
       "array([[0, 0, 0, 0, 0, 0],\n",
       "       [0, 0, 0, 0, 0, 0],\n",
       "       [0, 0, 0, 0, 0, 0],\n",
       "       ...,\n",
       "       [0, 0, 0, 0, 0, 0],\n",
       "       [0, 0, 0, 0, 0, 0],\n",
       "       [0, 0, 0, 0, 0, 0]])"
      ]
     },
     "execution_count": 29,
     "metadata": {},
     "output_type": "execute_result"
    }
   ],
   "source": [
    "y_val"
   ]
  },
  {
   "cell_type": "code",
   "execution_count": 20,
   "metadata": {},
   "outputs": [
    {
     "data": {
      "text/plain": [
       "array([[0.17633718, 0.1632757 , 0.16632573, 0.16303392, 0.16778642,\n",
       "        0.16324107],\n",
       "       [0.17633718, 0.1632757 , 0.16632573, 0.16303392, 0.16778642,\n",
       "        0.16324107],\n",
       "       [0.17633718, 0.1632757 , 0.16632573, 0.16303392, 0.16778642,\n",
       "        0.16324107],\n",
       "       ...,\n",
       "       [0.17633718, 0.1632757 , 0.16632573, 0.16303392, 0.16778642,\n",
       "        0.16324107],\n",
       "       [0.17633718, 0.1632757 , 0.16632573, 0.16303392, 0.16778642,\n",
       "        0.16324107],\n",
       "       [0.17633718, 0.1632757 , 0.16632573, 0.16303392, 0.16778642,\n",
       "        0.16324107]], dtype=float32)"
      ]
     },
     "execution_count": 20,
     "metadata": {},
     "output_type": "execute_result"
    }
   ],
   "source": [
    "y_proba"
   ]
  },
  {
   "cell_type": "code",
   "execution_count": 28,
   "metadata": {},
   "outputs": [
    {
     "name": "stdout",
     "output_type": "stream",
     "text": [
      "[[[    3     0]\n",
      "  [28866  3033]]\n",
      "\n",
      " [[    3     0]\n",
      "  [31578   321]]\n",
      "\n",
      " [[    2     0]\n",
      "  [30184  1716]]\n",
      "\n",
      " [[    3     0]\n",
      "  [31803    96]]\n",
      "\n",
      " [[    0     0]\n",
      "  [30286  1616]]\n",
      "\n",
      " [[    3     0]\n",
      "  [31624   275]]]\n",
      "0.158 1.0 1.0 1.0 [28866  3033] [3 0]\n",
      "[[[    3     0]\n",
      "  [28866  3033]]\n",
      "\n",
      " [[    3     0]\n",
      "  [31578   321]]\n",
      "\n",
      " [[    2     0]\n",
      "  [30184  1716]]\n",
      "\n",
      " [[    3     0]\n",
      "  [31803    96]]\n",
      "\n",
      " [[    0     0]\n",
      "  [30286  1616]]\n",
      "\n",
      " [[    3     0]\n",
      "  [31624   275]]]\n",
      "0.159 1.0 1.0 1.0 [28866  3033] [3 0]\n",
      "[[[    3     0]\n",
      "  [28866  3033]]\n",
      "\n",
      " [[    3     0]\n",
      "  [31578   321]]\n",
      "\n",
      " [[    2     0]\n",
      "  [30184  1716]]\n",
      "\n",
      " [[    3     0]\n",
      "  [31803    96]]\n",
      "\n",
      " [[    0     0]\n",
      "  [30286  1616]]\n",
      "\n",
      " [[    3     0]\n",
      "  [31624   275]]]\n",
      "0.16 1.0 1.0 1.0 [28866  3033] [3 0]\n",
      "[[[    3     0]\n",
      "  [28866  3033]]\n",
      "\n",
      " [[    3     0]\n",
      "  [31578   321]]\n",
      "\n",
      " [[    2     0]\n",
      "  [30184  1716]]\n",
      "\n",
      " [[    3     0]\n",
      "  [31803    96]]\n",
      "\n",
      " [[    0     0]\n",
      "  [30286  1616]]\n",
      "\n",
      " [[    3     0]\n",
      "  [31624   275]]]\n",
      "0.161 1.0 1.0 1.0 [28866  3033] [3 0]\n",
      "[[[    3     0]\n",
      "  [28866  3033]]\n",
      "\n",
      " [[    3     0]\n",
      "  [31578   321]]\n",
      "\n",
      " [[    2     0]\n",
      "  [30184  1716]]\n",
      "\n",
      " [[    3     0]\n",
      "  [31803    96]]\n",
      "\n",
      " [[    0     0]\n",
      "  [30286  1616]]\n",
      "\n",
      " [[    3     0]\n",
      "  [31624   275]]]\n",
      "0.162 1.0 1.0 1.0 [28866  3033] [3 0]\n"
     ]
    }
   ],
   "source": [
    "for th in [0.158, 0.159, 0.16, 0.161, 0.162]:\n",
    "    ypred = (model1.predict(X_val)>th).astype('int')\n",
    "    \n",
    "    tpr = get_tpr(y_val, ypred)\n",
    "    fpr = get_tpr(y_val, ypred)\n",
    "    acc = get_tpr(y_val, ypred)\n",
    "    \n",
    "    conf_matrix = multilabel_confusion_matrix(ypred, y_val)\n",
    "    \n",
    "    print (conf_matrix)\n",
    "    print (th, tpr, fpr, acc, conf_matrix[0,1], conf_matrix[1,0] )\n",
    "\n",
    "    \n",
    "    #\n",
    "    #fig, ax = plt.subplots(1,6, figsize=(20,3))\n",
    "    #for i in range(6):\n",
    "    #    sns.heatmap(conf_matrix[i], ax=ax[i], annot=True, cbar=False, cmap=\"viridis\")\n",
    "    #plt.show()"
   ]
  },
  {
   "cell_type": "code",
   "execution_count": 25,
   "metadata": {},
   "outputs": [
    {
     "data": {
      "text/plain": [
       "array([[[   10,     0],\n",
       "        [28840,  3052]],\n",
       "\n",
       "       [[   13,     0],\n",
       "        [31583,   306]],\n",
       "\n",
       "       [[    2,     0],\n",
       "        [30197,  1703]],\n",
       "\n",
       "       [[   13,     0],\n",
       "        [31779,   110]],\n",
       "\n",
       "       [[    0,     0],\n",
       "        [30329,  1573]],\n",
       "\n",
       "       [[   13,     0],\n",
       "        [31592,   297]]])"
      ]
     },
     "execution_count": 25,
     "metadata": {},
     "output_type": "execute_result"
    }
   ],
   "source": [
    "multilabel_confusion_matrix(pred_labels, y_val)"
   ]
  },
  {
   "cell_type": "code",
   "execution_count": null,
   "metadata": {},
   "outputs": [],
   "source": []
  },
  {
   "cell_type": "code",
   "execution_count": 8,
   "metadata": {},
   "outputs": [],
   "source": []
  },
  {
   "cell_type": "code",
   "execution_count": 9,
   "metadata": {},
   "outputs": [
    {
     "name": "stdout",
     "output_type": "stream",
     "text": [
      "1.0\n",
      "0.5\n",
      "nan\n",
      "0.6666666666666666\n",
      "1.0\n",
      "1.0\n"
     ]
    },
    {
     "name": "stderr",
     "output_type": "stream",
     "text": [
      "<ipython-input-8-4fb46de70b4b>:4: RuntimeWarning: invalid value encountered in long_scalars\n",
      "  return tp/(tp+fn)\n"
     ]
    }
   ],
   "source": [
    "actual = np.array( [[1,1,0,1,0,0], [0,0,0,1,1,1], [0,1,0,1,0,0]] )\n",
    "pred   = np.array( [[1,0,0,0,0,0], [1,0,1,1,1,1], [0,1,0,1,0,0]] )\n",
    "\n",
    "for n in range(6):\n",
    "    #tpr_ = tpr(actual[n,:], pred[n,:])\n",
    "    tpr_ = tpr(actual[:,n], pred[:,n])\n",
    "    print (tpr_)"
   ]
  },
  {
   "cell_type": "code",
   "execution_count": 10,
   "metadata": {},
   "outputs": [
    {
     "ename": "NameError",
     "evalue": "name 'roc_auc_score' is not defined",
     "output_type": "error",
     "traceback": [
      "\u001b[0;31m---------------------------------------------------------------------------\u001b[0m",
      "\u001b[0;31mNameError\u001b[0m                                 Traceback (most recent call last)",
      "\u001b[0;32m<ipython-input-10-a072c99fba67>\u001b[0m in \u001b[0;36m<module>\u001b[0;34m\u001b[0m\n\u001b[1;32m      1\u001b[0m \u001b[0mypred\u001b[0m \u001b[0;34m=\u001b[0m \u001b[0mmodel1\u001b[0m\u001b[0;34m.\u001b[0m\u001b[0mpredict\u001b[0m\u001b[0;34m(\u001b[0m\u001b[0mX_val\u001b[0m\u001b[0;34m)\u001b[0m\u001b[0;34m\u001b[0m\u001b[0;34m\u001b[0m\u001b[0m\n\u001b[0;32m----> 2\u001b[0;31m \u001b[0;34m[\u001b[0m\u001b[0mroc_auc_score\u001b[0m\u001b[0;34m(\u001b[0m\u001b[0my_val\u001b[0m\u001b[0;34m[\u001b[0m\u001b[0;34m:\u001b[0m\u001b[0;34m,\u001b[0m\u001b[0mn\u001b[0m\u001b[0;34m]\u001b[0m\u001b[0;34m,\u001b[0m \u001b[0mypred\u001b[0m\u001b[0;34m[\u001b[0m\u001b[0;34m:\u001b[0m\u001b[0;34m,\u001b[0m\u001b[0mn\u001b[0m\u001b[0;34m]\u001b[0m\u001b[0;34m)\u001b[0m \u001b[0;32mfor\u001b[0m \u001b[0mj\u001b[0m \u001b[0;32min\u001b[0m \u001b[0mrange\u001b[0m\u001b[0;34m(\u001b[0m\u001b[0;36m6\u001b[0m\u001b[0;34m)\u001b[0m\u001b[0;34m]\u001b[0m\u001b[0;34m\u001b[0m\u001b[0;34m\u001b[0m\u001b[0m\n\u001b[0m\u001b[1;32m      3\u001b[0m \u001b[0;31m#[roc_auc_score(targets[:,j],p[:,j]) for j in range(6)]\u001b[0m\u001b[0;34m\u001b[0m\u001b[0;34m\u001b[0m\u001b[0;34m\u001b[0m\u001b[0m\n",
      "\u001b[0;32m<ipython-input-10-a072c99fba67>\u001b[0m in \u001b[0;36m<listcomp>\u001b[0;34m(.0)\u001b[0m\n\u001b[1;32m      1\u001b[0m \u001b[0mypred\u001b[0m \u001b[0;34m=\u001b[0m \u001b[0mmodel1\u001b[0m\u001b[0;34m.\u001b[0m\u001b[0mpredict\u001b[0m\u001b[0;34m(\u001b[0m\u001b[0mX_val\u001b[0m\u001b[0;34m)\u001b[0m\u001b[0;34m\u001b[0m\u001b[0;34m\u001b[0m\u001b[0m\n\u001b[0;32m----> 2\u001b[0;31m \u001b[0;34m[\u001b[0m\u001b[0mroc_auc_score\u001b[0m\u001b[0;34m(\u001b[0m\u001b[0my_val\u001b[0m\u001b[0;34m[\u001b[0m\u001b[0;34m:\u001b[0m\u001b[0;34m,\u001b[0m\u001b[0mn\u001b[0m\u001b[0;34m]\u001b[0m\u001b[0;34m,\u001b[0m \u001b[0mypred\u001b[0m\u001b[0;34m[\u001b[0m\u001b[0;34m:\u001b[0m\u001b[0;34m,\u001b[0m\u001b[0mn\u001b[0m\u001b[0;34m]\u001b[0m\u001b[0;34m)\u001b[0m \u001b[0;32mfor\u001b[0m \u001b[0mj\u001b[0m \u001b[0;32min\u001b[0m \u001b[0mrange\u001b[0m\u001b[0;34m(\u001b[0m\u001b[0;36m6\u001b[0m\u001b[0;34m)\u001b[0m\u001b[0;34m]\u001b[0m\u001b[0;34m\u001b[0m\u001b[0;34m\u001b[0m\u001b[0m\n\u001b[0m\u001b[1;32m      3\u001b[0m \u001b[0;31m#[roc_auc_score(targets[:,j],p[:,j]) for j in range(6)]\u001b[0m\u001b[0;34m\u001b[0m\u001b[0;34m\u001b[0m\u001b[0;34m\u001b[0m\u001b[0m\n",
      "\u001b[0;31mNameError\u001b[0m: name 'roc_auc_score' is not defined"
     ]
    }
   ],
   "source": [
    "ypred = model1.predict(X_val)\n",
    "[roc_auc_score(y_val[:,n], ypred[:,n]) for j in range(6)]\n",
    "#[roc_auc_score(targets[:,j],p[:,j]) for j in range(6)]"
   ]
  },
  {
   "cell_type": "code",
   "execution_count": null,
   "metadata": {},
   "outputs": [],
   "source": [
    "p = model.predict(data)\n",
    "aucs = []\n",
    "for j in range(6):\n",
    "    auc = roc_auc_score(targets[:,j],p[:,j])\n",
    "    aucs.append(auc)\n",
    "print(np.mean(aucs))"
   ]
  },
  {
   "cell_type": "code",
   "execution_count": null,
   "metadata": {},
   "outputs": [],
   "source": [
    "from sklearn.metrics import accuracy_score, confusion_matrix, f1_score, roc_auc_score \n",
    "from sklearn.metrics import average_precision_score, recall_score, classification_report\n",
    "\n"
   ]
  },
  {
   "cell_type": "code",
   "execution_count": null,
   "metadata": {},
   "outputs": [],
   "source": [
    "#classification_report(model1.predict(X_val), y_val)"
   ]
  },
  {
   "cell_type": "code",
   "execution_count": null,
   "metadata": {},
   "outputs": [],
   "source": [
    "(model1.predict(X_val)>0.16).astype('int').shape"
   ]
  },
  {
   "cell_type": "code",
   "execution_count": null,
   "metadata": {},
   "outputs": [],
   "source": [
    "ypred = (model1.predict(X_val)>0.17).astype('int')"
   ]
  },
  {
   "cell_type": "code",
   "execution_count": null,
   "metadata": {},
   "outputs": [],
   "source": [
    "for th in [0.163]:\n",
    "    ypred = (model1.predict(X_val)>th).astype('int')   \n",
    "    for n in range(6):\n",
    "        tpr_ = tpr(y_val[:,n], ypred[:,n])\n",
    "        print (tpr_)"
   ]
  },
  {
   "cell_type": "code",
   "execution_count": null,
   "metadata": {},
   "outputs": [],
   "source": [
    "np.sum(y_val)"
   ]
  },
  {
   "cell_type": "code",
   "execution_count": null,
   "metadata": {},
   "outputs": [],
   "source": [
    "from helper import calc_prediction"
   ]
  },
  {
   "cell_type": "code",
   "execution_count": null,
   "metadata": {},
   "outputs": [],
   "source": []
  },
  {
   "cell_type": "code",
   "execution_count": null,
   "metadata": {},
   "outputs": [],
   "source": []
  },
  {
   "cell_type": "code",
   "execution_count": null,
   "metadata": {},
   "outputs": [],
   "source": [
    "model1.predict_step(X_val)[0]"
   ]
  },
  {
   "cell_type": "code",
   "execution_count": null,
   "metadata": {},
   "outputs": [],
   "source": [
    "model1.predict_proba(X_val)[0]"
   ]
  },
  {
   "cell_type": "code",
   "execution_count": null,
   "metadata": {},
   "outputs": [],
   "source": [
    "model1.predict(X_val)"
   ]
  },
  {
   "cell_type": "code",
   "execution_count": null,
   "metadata": {},
   "outputs": [],
   "source": []
  },
  {
   "cell_type": "code",
   "execution_count": null,
   "metadata": {},
   "outputs": [],
   "source": []
  },
  {
   "cell_type": "code",
   "execution_count": null,
   "metadata": {},
   "outputs": [],
   "source": [
    "y_pred = model1.predict(X_val)"
   ]
  },
  {
   "cell_type": "code",
   "execution_count": null,
   "metadata": {},
   "outputs": [],
   "source": [
    "(model1.predict(X_val) > 0.1).astype(\"int\")"
   ]
  },
  {
   "cell_type": "code",
   "execution_count": null,
   "metadata": {},
   "outputs": [],
   "source": [
    "y_pred = model1.predict(X_val)\n",
    "#report = classification_report(y_test, y_pred)\n",
    "#confusionmatrix=confusion_matrix( y_test, y_pred)\n",
    "\n"
   ]
  },
  {
   "cell_type": "code",
   "execution_count": null,
   "metadata": {},
   "outputs": [],
   "source": [
    "def accuracy_multiclass(actual, predicted):\n",
    "    nclasses = np.shape(actual)[1]\n",
    "    for n in range(nclasses):\n",
    "        act = actual[:,n]\n",
    "        pred = predicted[:,n]\n",
    "        #print (act, pred)\n",
    "        tpr = sum(act==pred)\n",
    "        tpr = sum(act==pred)\n",
    "\n",
    "        print (n, tpr)\n",
    "        \n",
    "    \n",
    "actual = np.array( [[1,1,0,1,0,0], [0,0,0,1,1,1], [0,1,0,1,0,0]] )\n",
    "pred   = np.array( [[1,0,0,0,0,0], [1,0,1,1,1,1], [0,1,0,1,0,0]] )\n",
    "\n",
    "accuracy_multiclass(actual, pred)"
   ]
  },
  {
   "cell_type": "code",
   "execution_count": null,
   "metadata": {},
   "outputs": [],
   "source": [
    "actual = np.array( [[1,1,0,1,0,0], [0,0,0,1,1,1], [0,1,0,1,0,0]] )\n",
    "pred   = np.array( [[1,0,0,0,0,0], [1,0,1,1,1,1], [0,1,0,1,0,0]] )\n",
    "\n",
    "report = classification_report(actual, pred)"
   ]
  },
  {
   "cell_type": "code",
   "execution_count": null,
   "metadata": {},
   "outputs": [],
   "source": [
    "tmp=y_pred[:3]\n",
    "print (tmp)\n",
    "th=0.15\n",
    "(tmp>=th).astype(int)"
   ]
  },
  {
   "cell_type": "code",
   "execution_count": null,
   "metadata": {},
   "outputs": [],
   "source": [
    "np.sum(y_pred, axis=1).sum()"
   ]
  },
  {
   "cell_type": "code",
   "execution_count": null,
   "metadata": {},
   "outputs": [],
   "source": []
  },
  {
   "cell_type": "code",
   "execution_count": null,
   "metadata": {},
   "outputs": [],
   "source": [
    "print (Donot run the following cells)"
   ]
  },
  {
   "cell_type": "code",
   "execution_count": null,
   "metadata": {},
   "outputs": [],
   "source": [
    "from sklearn.metrics import accuracy_score, f1_score\n",
    "from sklearn.metrics import average_precision_score, roc_auc_score"
   ]
  },
  {
   "cell_type": "code",
   "execution_count": null,
   "metadata": {},
   "outputs": [],
   "source": [
    "def print_evaluation_scores(y_val, predicted):\n",
    "    acc        = 100*accuracy_score(y_val, predicted)\n",
    "    f1_micro   = 100*f1_score(y_val, predicted, average='micro')\n",
    "    avg_prec_micro = 100*average_precision_score(y_val, predicted, average='micro')\n",
    "    roc_auc    = 100*roc_auc_score(y_val, predicted)\n",
    "    \n",
    "    print (\"Accuracy \\t= %1.2f \\nF1_micro\\t= %1.2f\" %(acc, f1_micro))\n",
    "    print (\"Avg Prec micro\\t= %1.2f \\nROC_AUC score\\t= %1.2f\" % ( avg_prec_micro, roc_auc))"
   ]
  },
  {
   "cell_type": "code",
   "execution_count": null,
   "metadata": {},
   "outputs": [],
   "source": [
    "print (\"Logistic Regression with TFIDF features\")\n",
    "print_evaluation_scores(y_test_tf, y_pred_labs)"
   ]
  },
  {
   "cell_type": "code",
   "execution_count": null,
   "metadata": {},
   "outputs": [],
   "source": []
  },
  {
   "cell_type": "code",
   "execution_count": null,
   "metadata": {},
   "outputs": [],
   "source": []
  },
  {
   "cell_type": "code",
   "execution_count": null,
   "metadata": {},
   "outputs": [],
   "source": []
  },
  {
   "cell_type": "code",
   "execution_count": null,
   "metadata": {},
   "outputs": [],
   "source": []
  },
  {
   "cell_type": "code",
   "execution_count": 23,
   "metadata": {},
   "outputs": [],
   "source": [
    "from sklearn.datasets import make_multilabel_classification\n",
    "from sklearn.model_selection import RepeatedKFold\n",
    "\n",
    "# get the dataset\n",
    "def get_dataset():\n",
    "        X, y = make_multilabel_classification(n_samples=1000, n_features=10, n_classes=3, n_labels=2, random_state=1)\n",
    "        return X, y\n",
    "\n",
    "# get the model\n",
    "def get_model(n_inputs, n_outputs):\n",
    "        model = Sequential()\n",
    "        model.add(Dense(20, input_dim=n_inputs, kernel_initializer='he_uniform', activation='relu'))\n",
    "        model.add(Dense(n_outputs, activation='sigmoid'))\n",
    "        model.compile(loss='binary_crossentropy', optimizer='adam')\n",
    "        return model\n"
   ]
  },
  {
   "cell_type": "code",
   "execution_count": 27,
   "metadata": {},
   "outputs": [
    {
     "name": "stdout",
     "output_type": "stream",
     "text": [
      "[[ 3.  3.  6.  7.  8.  2. 11. 11.  1.  3.]\n",
      " [ 7.  6.  4.  4.  6.  8.  3.  4.  6.  4.]\n",
      " [ 5.  5. 13.  7.  6.  3.  6. 11.  4.  2.]] [[1 1 0]\n",
      " [0 0 0]\n",
      " [1 1 0]]\n"
     ]
    }
   ],
   "source": [
    "X, y = get_dataset()\n",
    "print (X[:3], y[:3])"
   ]
  },
  {
   "cell_type": "code",
   "execution_count": 29,
   "metadata": {},
   "outputs": [],
   "source": [
    "Xtr, Xte, ytr, yte = train_test_split(X, y, test_size=0.2)"
   ]
  },
  {
   "cell_type": "code",
   "execution_count": 30,
   "metadata": {},
   "outputs": [],
   "source": [
    "n_inputs, n_outputs = Xtr.shape[1], ytr.shape[1]\n",
    "model = get_model(n_inputs, n_outputs)"
   ]
  },
  {
   "cell_type": "code",
   "execution_count": 44,
   "metadata": {},
   "outputs": [],
   "source": [
    "#history=model.fit(Xtr, ytr, verbose=0, epochs=50);\n",
    "\n",
    "history = model.fit(Xtr, ytr,\n",
    "                    validation_data=(Xte, yte),\n",
    "                    epochs=50, verbose=0)"
   ]
  },
  {
   "cell_type": "code",
   "execution_count": 45,
   "metadata": {},
   "outputs": [
    {
     "data": {
      "text/plain": [
       "array([[1, 1, 1],\n",
       "       [1, 1, 1],\n",
       "       [1, 1, 0],\n",
       "       [1, 1, 0],\n",
       "       [1, 0, 0]])"
      ]
     },
     "execution_count": 45,
     "metadata": {},
     "output_type": "execute_result"
    }
   ],
   "source": [
    "yte[:5]"
   ]
  },
  {
   "cell_type": "code",
   "execution_count": 46,
   "metadata": {},
   "outputs": [
    {
     "name": "stdout",
     "output_type": "stream",
     "text": [
      "[[9.3143612e-01 9.9992073e-01 3.5730898e-01]\n",
      " [9.8931819e-01 9.9523628e-01 9.8469877e-01]\n",
      " [7.8207397e-01 9.9884772e-01 4.1708380e-02]\n",
      " [9.9999714e-01 8.3423924e-01 7.9198253e-06]\n",
      " [9.9553323e-01 1.5491813e-02 1.9741952e-05]]\n"
     ]
    }
   ],
   "source": [
    "ypred = model.predict(Xte)\n",
    "print (ypred[:5])"
   ]
  },
  {
   "cell_type": "code",
   "execution_count": null,
   "metadata": {},
   "outputs": [],
   "source": [
    "ypred = model.predict(Xte)\n",
    "ypred_class = ypred.round()\n",
    "acc = accuracy_score(yte, ypred_class)\n",
    "print('>%.3f' % acc)"
   ]
  },
  {
   "cell_type": "code",
   "execution_count": 42,
   "metadata": {},
   "outputs": [
    {
     "ename": "KeyError",
     "evalue": "'binary_accuracy'",
     "output_type": "error",
     "traceback": [
      "\u001b[0;31m---------------------------------------------------------------------------\u001b[0m",
      "\u001b[0;31mKeyError\u001b[0m                                  Traceback (most recent call last)",
      "\u001b[0;32m<ipython-input-42-a8489d1127d4>\u001b[0m in \u001b[0;36m<module>\u001b[0;34m\u001b[0m\n\u001b[0;32m----> 1\u001b[0;31m \u001b[0mplot_history\u001b[0m\u001b[0;34m(\u001b[0m\u001b[0mhistory\u001b[0m\u001b[0;34m)\u001b[0m\u001b[0;34m\u001b[0m\u001b[0;34m\u001b[0m\u001b[0m\n\u001b[0m",
      "\u001b[0;32m<ipython-input-10-fd65da7e42df>\u001b[0m in \u001b[0;36mplot_history\u001b[0;34m(history, ax)\u001b[0m\n\u001b[1;32m      7\u001b[0m     \u001b[0max\u001b[0m\u001b[0;34m[\u001b[0m\u001b[0;36m0\u001b[0m\u001b[0;34m]\u001b[0m\u001b[0;34m.\u001b[0m\u001b[0mlegend\u001b[0m\u001b[0;34m(\u001b[0m\u001b[0;34m)\u001b[0m\u001b[0;34m\u001b[0m\u001b[0;34m\u001b[0m\u001b[0m\n\u001b[1;32m      8\u001b[0m \u001b[0;34m\u001b[0m\u001b[0m\n\u001b[0;32m----> 9\u001b[0;31m     \u001b[0max\u001b[0m\u001b[0;34m[\u001b[0m\u001b[0;36m1\u001b[0m\u001b[0;34m]\u001b[0m\u001b[0;34m.\u001b[0m\u001b[0mplot\u001b[0m\u001b[0;34m(\u001b[0m\u001b[0mhistory\u001b[0m\u001b[0;34m.\u001b[0m\u001b[0mhistory\u001b[0m\u001b[0;34m[\u001b[0m\u001b[0;34m'binary_accuracy'\u001b[0m\u001b[0;34m]\u001b[0m\u001b[0;34m,\u001b[0m \u001b[0mlabel\u001b[0m\u001b[0;34m=\u001b[0m\u001b[0;34m'Training accuracy'\u001b[0m\u001b[0;34m)\u001b[0m\u001b[0;34m\u001b[0m\u001b[0;34m\u001b[0m\u001b[0m\n\u001b[0m\u001b[1;32m     10\u001b[0m     \u001b[0max\u001b[0m\u001b[0;34m[\u001b[0m\u001b[0;36m1\u001b[0m\u001b[0;34m]\u001b[0m\u001b[0;34m.\u001b[0m\u001b[0mplot\u001b[0m\u001b[0;34m(\u001b[0m\u001b[0mhistory\u001b[0m\u001b[0;34m.\u001b[0m\u001b[0mhistory\u001b[0m\u001b[0;34m[\u001b[0m\u001b[0;34m'val_binary_accuracy'\u001b[0m\u001b[0;34m]\u001b[0m\u001b[0;34m,\u001b[0m \u001b[0mlabel\u001b[0m\u001b[0;34m=\u001b[0m\u001b[0;34m'validation accuracy'\u001b[0m\u001b[0;34m)\u001b[0m\u001b[0;34m\u001b[0m\u001b[0;34m\u001b[0m\u001b[0m\n\u001b[1;32m     11\u001b[0m     \u001b[0max\u001b[0m\u001b[0;34m[\u001b[0m\u001b[0;36m1\u001b[0m\u001b[0;34m]\u001b[0m\u001b[0;34m.\u001b[0m\u001b[0mlegend\u001b[0m\u001b[0;34m(\u001b[0m\u001b[0;34m)\u001b[0m\u001b[0;34m\u001b[0m\u001b[0;34m\u001b[0m\u001b[0m\n",
      "\u001b[0;31mKeyError\u001b[0m: 'binary_accuracy'"
     ]
    },
    {
     "data": {
      "image/png": "[encoded data removed]",
      "text/plain": [
       "<Figure size 864x288 with 2 Axes>"
      ]
     },
     "metadata": {
      "needs_background": "light"
     },
     "output_type": "display_data"
    }
   ],
   "source": [
    "plot_history(history)"
   ]
  },
  {
   "cell_type": "code",
   "execution_count": 39,
   "metadata": {},
   "outputs": [
    {
     "data": {
      "text/plain": [
       "[0.1488972157239914,\n",
       " 0.14877134561538696,\n",
       " 0.1489759087562561,\n",
       " 0.14759211242198944,\n",
       " 0.14710357785224915,\n",
       " 0.14705859124660492,\n",
       " 0.14629299938678741,\n",
       " 0.14594396948814392,\n",
       " 0.14785131812095642,\n",
       " 0.14705193042755127,\n",
       " 0.14541059732437134,\n",
       " 0.14525510370731354,\n",
       " 0.14582592248916626,\n",
       " 0.1462102085351944,\n",
       " 0.1453489512205124,\n",
       " 0.14435915648937225,\n",
       " 0.14411243796348572,\n",
       " 0.14368803799152374,\n",
       " 0.14354513585567474,\n",
       " 0.14303746819496155,\n",
       " 0.14272145926952362,\n",
       " 0.14274927973747253,\n",
       " 0.14310027658939362,\n",
       " 0.14290007948875427,\n",
       " 0.14123497903347015,\n",
       " 0.1423179656267166,\n",
       " 0.1421816349029541,\n",
       " 0.1405041217803955,\n",
       " 0.1399458795785904,\n",
       " 0.141187846660614,\n",
       " 0.1422709971666336,\n",
       " 0.1409921795129776,\n",
       " 0.13910633325576782,\n",
       " 0.1397201269865036,\n",
       " 0.13970215618610382,\n",
       " 0.1413741409778595,\n",
       " 0.13886739313602448,\n",
       " 0.14036430418491364,\n",
       " 0.1377258449792862,\n",
       " 0.13837049901485443,\n",
       " 0.13754326105117798,\n",
       " 0.13722939789295197,\n",
       " 0.13766415417194366,\n",
       " 0.1361919790506363,\n",
       " 0.13636742532253265,\n",
       " 0.13609975576400757,\n",
       " 0.13663963973522186,\n",
       " 0.1360873430967331,\n",
       " 0.13506555557250977,\n",
       " 0.1351853311061859]"
      ]
     },
     "execution_count": 39,
     "metadata": {},
     "output_type": "execute_result"
    }
   ],
   "source": [
    "history.history['loss']"
   ]
  },
  {
   "cell_type": "code",
   "execution_count": null,
   "metadata": {},
   "outputs": [],
   "source": [
    "model.fit(X_train, y_train, verbose=0, epochs=100)\n",
    "# make a prediction on the test set\n",
    "yhat = model.predict(X_test)\n",
    "# round probabilities to class labels\n",
    "yhat = yhat.round()\n",
    "# calculate accuracy\n",
    "acc = accuracy_score(y_test, yhat)\n",
    "# store result\n",
    "print('>%.3f' % acc)"
   ]
  },
  {
   "cell_type": "code",
   "execution_count": null,
   "metadata": {},
   "outputs": [],
   "source": []
  },
  {
   "cell_type": "code",
   "execution_count": null,
   "metadata": {},
   "outputs": [],
   "source": []
  },
  {
   "cell_type": "code",
   "execution_count": 24,
   "metadata": {},
   "outputs": [],
   "source": [
    "# evaluate a model using repeated k-fold cross-validation\n",
    "def evaluate_model(X, y):\n",
    "        results = list()\n",
    "        n_inputs, n_outputs = X.shape[1], y.shape[1]\n",
    "        # define evaluation procedure\n",
    "        cv = RepeatedKFold(n_splits=10, n_repeats=3, random_state=1)\n",
    "        # enumerate folds\n",
    "        for train_ix, test_ix in cv.split(X):\n",
    "                # prepare data\n",
    "                X_train, X_test = X[train_ix], X[test_ix]\n",
    "                y_train, y_test = y[train_ix], y[test_ix]\n",
    "                # define model\n",
    "                model = get_model(n_inputs, n_outputs)\n",
    "                # fit model\n",
    "                model.fit(X_train, y_train, verbose=0, epochs=100)\n",
    "                # make a prediction on the test set\n",
    "                yhat = model.predict(X_test)\n",
    "                # round probabilities to class labels\n",
    "                yhat = yhat.round()\n",
    "                # calculate accuracy\n",
    "                acc = accuracy_score(y_test, yhat)\n",
    "                # store result\n",
    "                print('>%.3f' % acc)\n",
    "                results.append(acc)\n",
    "        return results\n",
    "\n"
   ]
  },
  {
   "cell_type": "code",
   "execution_count": 25,
   "metadata": {},
   "outputs": [
    {
     "name": "stdout",
     "output_type": "stream",
     "text": [
      "[[ 3.  3.  6.  7.  8.  2. 11. 11.  1.  3.]\n",
      " [ 7.  6.  4.  4.  6.  8.  3.  4.  6.  4.]\n",
      " [ 5.  5. 13.  7.  6.  3.  6. 11.  4.  2.]] [[1 1 0]\n",
      " [0 0 0]\n",
      " [1 1 0]]\n"
     ]
    }
   ],
   "source": [
    "X, y = get_dataset()\n",
    "print (X[:3], y[:3])"
   ]
  },
  {
   "cell_type": "code",
   "execution_count": 26,
   "metadata": {},
   "outputs": [
    {
     "name": "stdout",
     "output_type": "stream",
     "text": [
      ">0.840\n",
      ">0.830\n",
      ">0.880\n",
      ">0.850\n",
      ">0.860\n",
      ">0.780\n",
      ">0.770\n",
      ">0.800\n",
      ">0.780\n",
      ">0.760\n",
      ">0.820\n",
      ">0.790\n",
      ">0.780\n",
      ">0.750\n",
      ">0.790\n",
      ">0.800\n",
      ">0.810\n",
      ">0.890\n",
      ">0.810\n",
      ">0.850\n",
      ">0.820\n",
      ">0.850\n",
      ">0.720\n",
      ">0.820\n",
      ">0.840\n",
      ">0.780\n",
      ">0.810\n",
      ">0.790\n",
      ">0.770\n",
      ">0.840\n"
     ]
    }
   ],
   "source": [
    "# evaluate model\n",
    "results = evaluate_model(X, y)"
   ]
  },
  {
   "cell_type": "code",
   "execution_count": null,
   "metadata": {},
   "outputs": [],
   "source": [
    "\n",
    "# summarize performance\n",
    "print('Accuracy: %.3f (%.3f)' % (np.mean(results), np.std(results)))\n"
   ]
  },
  {
   "cell_type": "code",
   "execution_count": null,
   "metadata": {},
   "outputs": [],
   "source": []
  }
 ],
 "metadata": {
  "colab": {
   "collapsed_sections": [],
   "name": "g01_data_visualization.ipynb",
   "provenance": []
  },
  "kernelspec": {
   "display_name": "Python 3",
   "language": "python",
   "name": "python3"
  },
  "language_info": {
   "codemirror_mode": {
    "name": "ipython",
    "version": 3
   },
   "file_extension": ".py",
   "mimetype": "text/x-python",
   "name": "python",
   "nbconvert_exporter": "python",
   "pygments_lexer": "ipython3",
   "version": "3.8.5"
  }
 },
 "nbformat": 4,
 "nbformat_minor": 1
}
