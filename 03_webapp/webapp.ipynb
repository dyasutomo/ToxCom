{
 "cells": [
  {
   "cell_type": "code",
   "execution_count": null,
   "metadata": {},
   "outputs": [],
   "source": []
  },
  {
   "cell_type": "code",
   "execution_count": null,
   "metadata": {},
   "outputs": [],
   "source": []
  },
  {
   "cell_type": "code",
   "execution_count": null,
   "metadata": {},
   "outputs": [],
   "source": []
  },
  {
   "cell_type": "code",
   "execution_count": 10,
   "metadata": {},
   "outputs": [],
   "source": [
    "#!/usr/bin/env python3\n",
    "\n",
    "import nltk, re, pickle\n",
    "from nltk.corpus import stopwords\n",
    "                                                                                                                                                              \n",
    "STOPWORDS = set(stopwords.words('english'))\n",
    "\n",
    "\n",
    "def prepare_text(text):\n",
    "    text = text.lower()\n",
    "    # remove \\n\n",
    "    text = re.sub(\"\\\\n\", \" \", text)\n",
    "    # remove 've, 're\n",
    "    text = re.sub(\"[a-z]*\\'[r,v]e\", \"\", text) \n",
    "    # remove 's, 't, 'r, 'v\n",
    "    text = re.sub(\"[a-z]*\\'[s,t,r,v]\", \"\", text) \n",
    "    # Replace everything not a letter with a space\n",
    "    text = re.sub(\"[^a-zA-Z]\", \" \", text)\n",
    "    # Remove stopwords\n",
    "    text = ' '.join([word for word in text.split() if word not in STOPWORDS])\n",
    "    return text\n",
    "\n",
    "model = pickle.load(open(\"model_LR.pkl\", \"rb\"))\n",
    "vectorizer = pickle.load(open(\"vectorizer.pkl\", \"rb\"))\n",
    "com = \"nice weather\"\n",
    "com = prepare_text(com)\n",
    "x = vectorizer.transform([com])\n",
    "pred = model.predict(x.toarray())[0]\n",
    "print (\"prediction:\", pred)"
   ]
  },
  {
   "cell_type": "code",
   "execution_count": 15,
   "metadata": {},
   "outputs": [
    {
     "name": "stderr",
     "output_type": "stream",
     "text": [
      "/usr/local/lib/python3.8/site-packages/sklearn/base.py:329: UserWarning: Trying to unpickle estimator TfidfTransformer from version 0.23.1 when using version 0.23.2. This might lead to breaking code or invalid results. Use at your own risk.\n",
      "  warnings.warn(\n",
      "/usr/local/lib/python3.8/site-packages/sklearn/base.py:329: UserWarning: Trying to unpickle estimator TfidfVectorizer from version 0.23.1 when using version 0.23.2. This might lead to breaking code or invalid results. Use at your own risk.\n",
      "  warnings.warn(\n"
     ]
    }
   ],
   "source": [
    "import joblib\n",
    "\n",
    "#logres_3.joblib \n",
    "\n",
    "#vectorizer_tfidf.pkl \n",
    "#joblib.load(filename, mmap_mode=None)¶\n",
    "model = joblib.load(open(\"logres_3.joblib\", \"rb\"))\n",
    "vectorizer = pickle.load(open(\"vectorizer_tfidf.pkl\", \"rb\"))"
   ]
  },
  {
   "cell_type": "code",
   "execution_count": 33,
   "metadata": {},
   "outputs": [
    {
     "data": {
      "text/plain": [
       "['toxic', 'severe_toxic', 'obscene', 'insult']"
      ]
     },
     "execution_count": 33,
     "metadata": {},
     "output_type": "execute_result"
    }
   ],
   "source": [
    "#com = \"nice weather\"\n",
    "com = \"Fucking bitch\"\n",
    "#com = \"yuck, who are these two presenters? It’s awful!!\"\n",
    "com = prepare_text(com)\n",
    "x = vectorizer.transform([com])\n",
    "pred = model.predict(x.toarray())[0]\n",
    "\n",
    "target_columns = ['toxic','severe_toxic','obscene','threat','insult','identity_hate']\n",
    "targets_dict = {i:target_columns[i] for i in range(6)}\n",
    "\n",
    "output_labels = []\n",
    "for i, v in enumerate(pred):\n",
    "    if v ==1:\n",
    "        output_labels.append(targets_dict[i])\n",
    "output_labels\n",
    "\n",
    "\n"
   ]
  },
  {
   "cell_type": "code",
   "execution_count": 35,
   "metadata": {},
   "outputs": [
    {
     "data": {
      "text/plain": [
       "'toxic, severe_toxic, obscene, insult'"
      ]
     },
     "execution_count": 35,
     "metadata": {},
     "output_type": "execute_result"
    }
   ],
   "source": [
    "\", \".join(output_labels)"
   ]
  },
  {
   "cell_type": "code",
   "execution_count": 36,
   "metadata": {},
   "outputs": [
    {
     "data": {
      "text/plain": [
       "'acbd'"
      ]
     },
     "execution_count": 36,
     "metadata": {},
     "output_type": "execute_result"
    }
   ],
   "source": [
    "aa = ['acbd']\n",
    "\", \".join(aa)"
   ]
  },
  {
   "cell_type": "code",
   "execution_count": 21,
   "metadata": {},
   "outputs": [],
   "source": []
  },
  {
   "cell_type": "code",
   "execution_count": 22,
   "metadata": {},
   "outputs": [
    {
     "data": {
      "text/plain": [
       "array([[0, 0, 0, 0, 0, 0]])"
      ]
     },
     "execution_count": 22,
     "metadata": {},
     "output_type": "execute_result"
    }
   ],
   "source": [
    "pred"
   ]
  },
  {
   "cell_type": "code",
   "execution_count": null,
   "metadata": {},
   "outputs": [],
   "source": [
    "com = \"nice weather\"\n",
    "com = prepare_text(com)\n",
    "x = vectorizer.transform([com])\n",
    "pred = model.predict(x.toarray())[0]\n",
    "print (\"prediction:\", pred)"
   ]
  }
 ],
 "metadata": {
  "kernelspec": {
   "display_name": "Python 3",
   "language": "python",
   "name": "python3"
  },
  "language_info": {
   "codemirror_mode": {
    "name": "ipython",
    "version": 3
   },
   "file_extension": ".py",
   "mimetype": "text/x-python",
   "name": "python",
   "nbconvert_exporter": "python",
   "pygments_lexer": "ipython3",
   "version": "3.9.5"
  }
 },
 "nbformat": 4,
 "nbformat_minor": 4
}
