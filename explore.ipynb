{
 "cells": [
  {
   "cell_type": "markdown",
   "metadata": {
    "id": "0KH8MTKXdppl"
   },
   "source": [
    "# Loading the data"
   ]
  },
  {
   "cell_type": "code",
   "execution_count": 1,
   "metadata": {
    "executionInfo": {
     "elapsed": 1324,
     "status": "ok",
     "timestamp": 1616549931950,
     "user": {
      "displayName": "Ghanashyam Khanal",
      "photoUrl": "https://lh3.googleusercontent.com/a-/AOh14GjNFB_3XwLB8BEW17lVypQ54QKRq7KnQZVd8M-QU9c=s64",
      "userId": "16880718905978803098"
     },
     "user_tz": 240
    },
    "id": "M3vLv8-EcawR"
   },
   "outputs": [],
   "source": [
    "import keras\n",
    "import numpy as np\n",
    "import pandas as pd\n",
    "import pylab as plt\n",
    "import seaborn as sns\n",
    "from collections import Counter\n",
    "from sklearn.feature_extraction.text import TfidfVectorizer\n",
    "from nltk.tokenize import TweetTokenizer\n",
    "from nltk.corpus import stopwords\n",
    "from sklearn.linear_model import LogisticRegression\n",
    "from sklearn.multiclass import OneVsRestClassifier\n",
    "from sklearn.metrics import accuracy_score\n",
    "from skmultilearn.model_selection.measures import get_combination_wise_output_matrix\n",
    "from skmultilearn.model_selection import iterative_train_test_split\n",
    "from sklearn.metrics import multilabel_confusion_matrix, ConfusionMatrixDisplay"
   ]
  },
  {
   "cell_type": "code",
   "execution_count": 2,
   "metadata": {
    "executionInfo": {
     "elapsed": 2502,
     "status": "ok",
     "timestamp": 1616549935980,
     "user": {
      "displayName": "Ghanashyam Khanal",
      "photoUrl": "https://lh3.googleusercontent.com/a-/AOh14GjNFB_3XwLB8BEW17lVypQ54QKRq7KnQZVd8M-QU9c=s64",
      "userId": "16880718905978803098"
     },
     "user_tz": 240
    },
    "id": "ymx1LkyLb1PK"
   },
   "outputs": [],
   "source": [
    "df = pd.read_csv('../../dataset/train.csv')"
   ]
  },
  {
   "cell_type": "code",
   "execution_count": 3,
   "metadata": {
    "colab": {
     "base_uri": "https://localhost:8080/",
     "height": 106
    },
    "executionInfo": {
     "elapsed": 279,
     "status": "ok",
     "timestamp": 1616549941410,
     "user": {
      "displayName": "Ghanashyam Khanal",
      "photoUrl": "https://lh3.googleusercontent.com/a-/AOh14GjNFB_3XwLB8BEW17lVypQ54QKRq7KnQZVd8M-QU9c=s64",
      "userId": "16880718905978803098"
     },
     "user_tz": 240
    },
    "id": "gdAi6CH9b1RP",
    "outputId": "7af5d918-bc87-40de-d237-23fce3fc08d6"
   },
   "outputs": [
    {
     "data": {
      "text/html": [
       "<div>\n",
       "<style scoped>\n",
       "    .dataframe tbody tr th:only-of-type {\n",
       "        vertical-align: middle;\n",
       "    }\n",
       "\n",
       "    .dataframe tbody tr th {\n",
       "        vertical-align: top;\n",
       "    }\n",
       "\n",
       "    .dataframe thead th {\n",
       "        text-align: right;\n",
       "    }\n",
       "</style>\n",
       "<table border=\"1\" class=\"dataframe\">\n",
       "  <thead>\n",
       "    <tr style=\"text-align: right;\">\n",
       "      <th></th>\n",
       "      <th>id</th>\n",
       "      <th>comment_text</th>\n",
       "      <th>toxic</th>\n",
       "      <th>severe_toxic</th>\n",
       "      <th>obscene</th>\n",
       "      <th>threat</th>\n",
       "      <th>insult</th>\n",
       "      <th>identity_hate</th>\n",
       "    </tr>\n",
       "  </thead>\n",
       "  <tbody>\n",
       "    <tr>\n",
       "      <th>0</th>\n",
       "      <td>0000997932d777bf</td>\n",
       "      <td>Explanation\\nWhy the edits made under my usern...</td>\n",
       "      <td>0</td>\n",
       "      <td>0</td>\n",
       "      <td>0</td>\n",
       "      <td>0</td>\n",
       "      <td>0</td>\n",
       "      <td>0</td>\n",
       "    </tr>\n",
       "    <tr>\n",
       "      <th>1</th>\n",
       "      <td>000103f0d9cfb60f</td>\n",
       "      <td>D'aww! He matches this background colour I'm s...</td>\n",
       "      <td>0</td>\n",
       "      <td>0</td>\n",
       "      <td>0</td>\n",
       "      <td>0</td>\n",
       "      <td>0</td>\n",
       "      <td>0</td>\n",
       "    </tr>\n",
       "    <tr>\n",
       "      <th>2</th>\n",
       "      <td>000113f07ec002fd</td>\n",
       "      <td>Hey man, I'm really not trying to edit war. It...</td>\n",
       "      <td>0</td>\n",
       "      <td>0</td>\n",
       "      <td>0</td>\n",
       "      <td>0</td>\n",
       "      <td>0</td>\n",
       "      <td>0</td>\n",
       "    </tr>\n",
       "    <tr>\n",
       "      <th>3</th>\n",
       "      <td>0001b41b1c6bb37e</td>\n",
       "      <td>\"\\nMore\\nI can't make any real suggestions on ...</td>\n",
       "      <td>0</td>\n",
       "      <td>0</td>\n",
       "      <td>0</td>\n",
       "      <td>0</td>\n",
       "      <td>0</td>\n",
       "      <td>0</td>\n",
       "    </tr>\n",
       "    <tr>\n",
       "      <th>4</th>\n",
       "      <td>0001d958c54c6e35</td>\n",
       "      <td>You, sir, are my hero. Any chance you remember...</td>\n",
       "      <td>0</td>\n",
       "      <td>0</td>\n",
       "      <td>0</td>\n",
       "      <td>0</td>\n",
       "      <td>0</td>\n",
       "      <td>0</td>\n",
       "    </tr>\n",
       "  </tbody>\n",
       "</table>\n",
       "</div>"
      ],
      "text/plain": [
       "                 id                                       comment_text  toxic  \\\n",
       "0  0000997932d777bf  Explanation\\nWhy the edits made under my usern...      0   \n",
       "1  000103f0d9cfb60f  D'aww! He matches this background colour I'm s...      0   \n",
       "2  000113f07ec002fd  Hey man, I'm really not trying to edit war. It...      0   \n",
       "3  0001b41b1c6bb37e  \"\\nMore\\nI can't make any real suggestions on ...      0   \n",
       "4  0001d958c54c6e35  You, sir, are my hero. Any chance you remember...      0   \n",
       "\n",
       "   severe_toxic  obscene  threat  insult  identity_hate  \n",
       "0             0        0       0       0              0  \n",
       "1             0        0       0       0              0  \n",
       "2             0        0       0       0              0  \n",
       "3             0        0       0       0              0  \n",
       "4             0        0       0       0              0  "
      ]
     },
     "execution_count": 3,
     "metadata": {},
     "output_type": "execute_result"
    }
   ],
   "source": [
    "df.head()"
   ]
  },
  {
   "cell_type": "code",
   "execution_count": 4,
   "metadata": {
    "colab": {
     "base_uri": "https://localhost:8080/"
    },
    "executionInfo": {
     "elapsed": 393,
     "status": "ok",
     "timestamp": 1616549943113,
     "user": {
      "displayName": "Ghanashyam Khanal",
      "photoUrl": "https://lh3.googleusercontent.com/a-/AOh14GjNFB_3XwLB8BEW17lVypQ54QKRq7KnQZVd8M-QU9c=s64",
      "userId": "16880718905978803098"
     },
     "user_tz": 240
    },
    "id": "Cz7Mh7Lkb1TV",
    "outputId": "7f5cbe14-b289-4ff7-a455-ed04c3de229f"
   },
   "outputs": [
    {
     "name": "stdout",
     "output_type": "stream",
     "text": [
      "The Columns: ['id' 'comment_text' 'toxic' 'severe_toxic' 'obscene' 'threat' 'insult'\n",
      " 'identity_hate']\n"
     ]
    }
   ],
   "source": [
    "print (\"The Columns:\", df.columns.values)"
   ]
  },
  {
   "cell_type": "code",
   "execution_count": 5,
   "metadata": {
    "colab": {
     "base_uri": "https://localhost:8080/",
     "height": 284
    },
    "executionInfo": {
     "elapsed": 391,
     "status": "ok",
     "timestamp": 1616549945282,
     "user": {
      "displayName": "Ghanashyam Khanal",
      "photoUrl": "https://lh3.googleusercontent.com/a-/AOh14GjNFB_3XwLB8BEW17lVypQ54QKRq7KnQZVd8M-QU9c=s64",
      "userId": "16880718905978803098"
     },
     "user_tz": 240
    },
    "id": "WNC-epQRb1Vr",
    "outputId": "559c0088-7391-40a1-9629-da7696f77394"
   },
   "outputs": [
    {
     "data": {
      "text/html": [
       "<div>\n",
       "<style scoped>\n",
       "    .dataframe tbody tr th:only-of-type {\n",
       "        vertical-align: middle;\n",
       "    }\n",
       "\n",
       "    .dataframe tbody tr th {\n",
       "        vertical-align: top;\n",
       "    }\n",
       "\n",
       "    .dataframe thead th {\n",
       "        text-align: right;\n",
       "    }\n",
       "</style>\n",
       "<table border=\"1\" class=\"dataframe\">\n",
       "  <thead>\n",
       "    <tr style=\"text-align: right;\">\n",
       "      <th></th>\n",
       "      <th>toxic</th>\n",
       "      <th>severe_toxic</th>\n",
       "      <th>obscene</th>\n",
       "      <th>threat</th>\n",
       "      <th>insult</th>\n",
       "      <th>identity_hate</th>\n",
       "    </tr>\n",
       "  </thead>\n",
       "  <tbody>\n",
       "    <tr>\n",
       "      <th>count</th>\n",
       "      <td>159571.000000</td>\n",
       "      <td>159571.000000</td>\n",
       "      <td>159571.000000</td>\n",
       "      <td>159571.000000</td>\n",
       "      <td>159571.000000</td>\n",
       "      <td>159571.000000</td>\n",
       "    </tr>\n",
       "    <tr>\n",
       "      <th>mean</th>\n",
       "      <td>0.095844</td>\n",
       "      <td>0.009996</td>\n",
       "      <td>0.052948</td>\n",
       "      <td>0.002996</td>\n",
       "      <td>0.049364</td>\n",
       "      <td>0.008805</td>\n",
       "    </tr>\n",
       "    <tr>\n",
       "      <th>std</th>\n",
       "      <td>0.294379</td>\n",
       "      <td>0.099477</td>\n",
       "      <td>0.223931</td>\n",
       "      <td>0.054650</td>\n",
       "      <td>0.216627</td>\n",
       "      <td>0.093420</td>\n",
       "    </tr>\n",
       "    <tr>\n",
       "      <th>min</th>\n",
       "      <td>0.000000</td>\n",
       "      <td>0.000000</td>\n",
       "      <td>0.000000</td>\n",
       "      <td>0.000000</td>\n",
       "      <td>0.000000</td>\n",
       "      <td>0.000000</td>\n",
       "    </tr>\n",
       "    <tr>\n",
       "      <th>25%</th>\n",
       "      <td>0.000000</td>\n",
       "      <td>0.000000</td>\n",
       "      <td>0.000000</td>\n",
       "      <td>0.000000</td>\n",
       "      <td>0.000000</td>\n",
       "      <td>0.000000</td>\n",
       "    </tr>\n",
       "    <tr>\n",
       "      <th>50%</th>\n",
       "      <td>0.000000</td>\n",
       "      <td>0.000000</td>\n",
       "      <td>0.000000</td>\n",
       "      <td>0.000000</td>\n",
       "      <td>0.000000</td>\n",
       "      <td>0.000000</td>\n",
       "    </tr>\n",
       "    <tr>\n",
       "      <th>75%</th>\n",
       "      <td>0.000000</td>\n",
       "      <td>0.000000</td>\n",
       "      <td>0.000000</td>\n",
       "      <td>0.000000</td>\n",
       "      <td>0.000000</td>\n",
       "      <td>0.000000</td>\n",
       "    </tr>\n",
       "    <tr>\n",
       "      <th>max</th>\n",
       "      <td>1.000000</td>\n",
       "      <td>1.000000</td>\n",
       "      <td>1.000000</td>\n",
       "      <td>1.000000</td>\n",
       "      <td>1.000000</td>\n",
       "      <td>1.000000</td>\n",
       "    </tr>\n",
       "  </tbody>\n",
       "</table>\n",
       "</div>"
      ],
      "text/plain": [
       "               toxic   severe_toxic        obscene         threat  \\\n",
       "count  159571.000000  159571.000000  159571.000000  159571.000000   \n",
       "mean        0.095844       0.009996       0.052948       0.002996   \n",
       "std         0.294379       0.099477       0.223931       0.054650   \n",
       "min         0.000000       0.000000       0.000000       0.000000   \n",
       "25%         0.000000       0.000000       0.000000       0.000000   \n",
       "50%         0.000000       0.000000       0.000000       0.000000   \n",
       "75%         0.000000       0.000000       0.000000       0.000000   \n",
       "max         1.000000       1.000000       1.000000       1.000000   \n",
       "\n",
       "              insult  identity_hate  \n",
       "count  159571.000000  159571.000000  \n",
       "mean        0.049364       0.008805  \n",
       "std         0.216627       0.093420  \n",
       "min         0.000000       0.000000  \n",
       "25%         0.000000       0.000000  \n",
       "50%         0.000000       0.000000  \n",
       "75%         0.000000       0.000000  \n",
       "max         1.000000       1.000000  "
      ]
     },
     "execution_count": 5,
     "metadata": {},
     "output_type": "execute_result"
    }
   ],
   "source": [
    "df.describe()"
   ]
  },
  {
   "cell_type": "code",
   "execution_count": 6,
   "metadata": {
    "colab": {
     "base_uri": "https://localhost:8080/"
    },
    "executionInfo": {
     "elapsed": 416,
     "status": "ok",
     "timestamp": 1616549947183,
     "user": {
      "displayName": "Ghanashyam Khanal",
      "photoUrl": "https://lh3.googleusercontent.com/a-/AOh14GjNFB_3XwLB8BEW17lVypQ54QKRq7KnQZVd8M-QU9c=s64",
      "userId": "16880718905978803098"
     },
     "user_tz": 240
    },
    "id": "c0THV5BAb1Xj",
    "outputId": "89cc5b56-e2fa-421a-8fca-cca3e6c998ea"
   },
   "outputs": [
    {
     "name": "stdout",
     "output_type": "stream",
     "text": [
      "toxic \tunique values: [0 1]\n",
      "severe_toxic \tunique values: [0 1]\n",
      "obscene \tunique values: [0 1]\n",
      "threat \tunique values: [0 1]\n",
      "insult \tunique values: [0 1]\n",
      "identity_hate \tunique values: [0 1]\n"
     ]
    }
   ],
   "source": [
    "for col in ['toxic','severe_toxic','obscene','threat','insult','identity_hate']:\n",
    "  print (col, \"\\tunique values:\", df[col].unique() )\n"
   ]
  },
  {
   "cell_type": "markdown",
   "metadata": {},
   "source": [
    "# Dealing with imbalance data"
   ]
  },
  {
   "cell_type": "code",
   "execution_count": 7,
   "metadata": {},
   "outputs": [
    {
     "data": {
      "image/png": "[encoded data removed]",
      "text/plain": [
       "<Figure size 864x288 with 1 Axes>"
      ]
     },
     "metadata": {
      "needs_background": "light"
     },
     "output_type": "display_data"
    }
   ],
   "source": [
    "target_columns = ['toxic','severe_toxic','obscene','threat','insult','identity_hate']\n",
    "\n",
    "class_sum = [df[col].sum() for col in target_columns]\n",
    "\n",
    "fig, ax = plt.subplots(1,1, figsize=(12,4))\n",
    "sns.barplot(x=target_columns, y=class_sum, ax=ax)\n",
    "ax.set_xticklabels(target_columns, fontsize='x-large');"
   ]
  },
  {
   "cell_type": "code",
   "execution_count": 8,
   "metadata": {},
   "outputs": [
    {
     "name": "stdout",
     "output_type": "stream",
     "text": [
      "toxic 15294\n",
      "severe_toxic 1595\n",
      "obscene 8449\n",
      "threat 478\n",
      "insult 7877\n",
      "identity_hate 1405\n"
     ]
    }
   ],
   "source": [
    "for col in target_columns:\n",
    "    print (col, df[col].sum())"
   ]
  },
  {
   "cell_type": "code",
   "execution_count": 9,
   "metadata": {},
   "outputs": [
    {
     "name": "stdout",
     "output_type": "stream",
     "text": [
      "mean imbalance ratio (smaller is better): 9.536949511086547\n"
     ]
    }
   ],
   "source": [
    "def imbalance_metric(df, target_columns):\n",
    "    label_counts = np.array([df[col].sum() for col in target_columns])\n",
    "    IRpL = np.max(label_counts)/label_counts\n",
    "    meanIR = np.sum(IRpL)/len(IRpL)\n",
    "    return meanIR\n",
    "\n",
    "print('mean imbalance ratio (smaller is better):', imbalance_metric(df, target_columns))"
   ]
  },
  {
   "cell_type": "code",
   "execution_count": 10,
   "metadata": {},
   "outputs": [],
   "source": [
    "# Undersample the data to minimize imbalance ratio\n",
    "\n",
    "sample_per_label = 500 # we can play with this number, larger number means more imbalance\n",
    "\n",
    "counts = {'toxic':0, 'severe_toxic':0, 'obscene':0, 'threat':0, 'insult':0, 'identity_hate':0}\n",
    "\n",
    "new_df = pd.DataFrame()\n",
    "\n",
    "for label in target_columns:\n",
    "    sample_to_add = np.max([sample_per_label - counts[label], 0])\n",
    "    \n",
    "    if sample_to_add <= 0: continue\n",
    "    \n",
    "    s = df[df[label] == 1].sample(n=np.min([sample_to_add, df[label].sum()]))\n",
    "    df.drop(s.index, inplace=True)\n",
    "    \n",
    "    new_df = new_df.append(s, ignore_index=True)\n",
    "    \n",
    "    # count labels\n",
    "    for col in target_columns:\n",
    "        counts[col] += s[col].sum()\n"
   ]
  },
  {
   "cell_type": "code",
   "execution_count": 11,
   "metadata": {},
   "outputs": [
    {
     "data": {
      "text/plain": [
       "{'toxic': 1616,\n",
       " 'severe_toxic': 629,\n",
       " 'obscene': 1161,\n",
       " 'threat': 478,\n",
       " 'insult': 1150,\n",
       " 'identity_hate': 500}"
      ]
     },
     "execution_count": 11,
     "metadata": {},
     "output_type": "execute_result"
    }
   ],
   "source": [
    "counts"
   ]
  },
  {
   "cell_type": "code",
   "execution_count": 12,
   "metadata": {},
   "outputs": [
    {
     "name": "stdout",
     "output_type": "stream",
     "text": [
      "toxic 1616\n",
      "severe_toxic 629\n",
      "obscene 1161\n",
      "threat 478\n",
      "insult 1150\n",
      "identity_hate 500\n"
     ]
    }
   ],
   "source": [
    "for col in target_columns:\n",
    "    print (col, new_df[col].sum())"
   ]
  },
  {
   "cell_type": "code",
   "execution_count": 13,
   "metadata": {},
   "outputs": [
    {
     "data": {
      "image/png": "[encoded data removed]",
      "text/plain": [
       "<Figure size 864x288 with 1 Axes>"
      ]
     },
     "metadata": {
      "needs_background": "light"
     },
     "output_type": "display_data"
    }
   ],
   "source": [
    "target_columns = ['toxic','severe_toxic','obscene','threat','insult','identity_hate']\n",
    "\n",
    "class_sum = [new_df[col].sum() for col in target_columns]\n",
    "\n",
    "fig, ax = plt.subplots(1,1, figsize=(12,4))\n",
    "sns.barplot(x=target_columns, y=class_sum, ax=ax)\n",
    "ax.set_xticklabels(target_columns, fontsize='x-large');"
   ]
  },
  {
   "cell_type": "code",
   "execution_count": 14,
   "metadata": {},
   "outputs": [
    {
     "name": "stdout",
     "output_type": "stream",
     "text": [
      "mean imbalance ratio (smaller is better): 2.16317190891748\n"
     ]
    }
   ],
   "source": [
    "print('mean imbalance ratio (smaller is better):', imbalance_metric(new_df, target_columns))"
   ]
  },
  {
   "cell_type": "code",
   "execution_count": 15,
   "metadata": {},
   "outputs": [
    {
     "data": {
      "text/plain": [
       "1662"
      ]
     },
     "execution_count": 15,
     "metadata": {},
     "output_type": "execute_result"
    }
   ],
   "source": [
    "len(new_df)"
   ]
  },
  {
   "cell_type": "code",
   "execution_count": 16,
   "metadata": {},
   "outputs": [],
   "source": [
    "del df\n",
    "df = new_df\n",
    "del new_df"
   ]
  },
  {
   "cell_type": "markdown",
   "metadata": {},
   "source": [
    "# Preprocessing: tokens to vectors"
   ]
  },
  {
   "cell_type": "code",
   "execution_count": 17,
   "metadata": {},
   "outputs": [],
   "source": [
    "tokenizer = TweetTokenizer()\n",
    "df['tokens'] = df['comment_text'].str.lower().apply(tokenizer.tokenize)"
   ]
  },
  {
   "cell_type": "code",
   "execution_count": 18,
   "metadata": {},
   "outputs": [
    {
     "data": {
      "text/html": [
       "<div>\n",
       "<style scoped>\n",
       "    .dataframe tbody tr th:only-of-type {\n",
       "        vertical-align: middle;\n",
       "    }\n",
       "\n",
       "    .dataframe tbody tr th {\n",
       "        vertical-align: top;\n",
       "    }\n",
       "\n",
       "    .dataframe thead th {\n",
       "        text-align: right;\n",
       "    }\n",
       "</style>\n",
       "<table border=\"1\" class=\"dataframe\">\n",
       "  <thead>\n",
       "    <tr style=\"text-align: right;\">\n",
       "      <th></th>\n",
       "      <th>id</th>\n",
       "      <th>comment_text</th>\n",
       "      <th>toxic</th>\n",
       "      <th>severe_toxic</th>\n",
       "      <th>obscene</th>\n",
       "      <th>threat</th>\n",
       "      <th>insult</th>\n",
       "      <th>identity_hate</th>\n",
       "      <th>tokens</th>\n",
       "    </tr>\n",
       "  </thead>\n",
       "  <tbody>\n",
       "    <tr>\n",
       "      <th>0</th>\n",
       "      <td>f578257c258c9fc5</td>\n",
       "      <td>Stop the mad gorilla deleter! \\n\\n Gorilla sco...</td>\n",
       "      <td>1</td>\n",
       "      <td>0</td>\n",
       "      <td>0</td>\n",
       "      <td>0</td>\n",
       "      <td>0</td>\n",
       "      <td>0</td>\n",
       "      <td>[stop, the, mad, gorilla, deleter, !, gorilla,...</td>\n",
       "    </tr>\n",
       "    <tr>\n",
       "      <th>1</th>\n",
       "      <td>4f2df0a1ec5380c1</td>\n",
       "      <td>Really good contributor? Bullshit. The cabal d...</td>\n",
       "      <td>1</td>\n",
       "      <td>0</td>\n",
       "      <td>1</td>\n",
       "      <td>0</td>\n",
       "      <td>0</td>\n",
       "      <td>0</td>\n",
       "      <td>[really, good, contributor, ?, bullshit, ., th...</td>\n",
       "    </tr>\n",
       "    <tr>\n",
       "      <th>2</th>\n",
       "      <td>7b3d18857df782cf</td>\n",
       "      <td>FUCK YOU</td>\n",
       "      <td>1</td>\n",
       "      <td>1</td>\n",
       "      <td>1</td>\n",
       "      <td>0</td>\n",
       "      <td>1</td>\n",
       "      <td>0</td>\n",
       "      <td>[fuck, you]</td>\n",
       "    </tr>\n",
       "    <tr>\n",
       "      <th>3</th>\n",
       "      <td>9b4b3f81be32582a</td>\n",
       "      <td>Sore loser, Nawlinwiki!  I still got over 150 ...</td>\n",
       "      <td>1</td>\n",
       "      <td>0</td>\n",
       "      <td>0</td>\n",
       "      <td>0</td>\n",
       "      <td>0</td>\n",
       "      <td>0</td>\n",
       "      <td>[sore, loser, ,, nawlinwiki, !, i, still, got,...</td>\n",
       "    </tr>\n",
       "    <tr>\n",
       "      <th>4</th>\n",
       "      <td>c33d7b2d87e78295</td>\n",
       "      <td>Queen Mary \\n\\nMrs Windsor's granny.She was a ...</td>\n",
       "      <td>1</td>\n",
       "      <td>0</td>\n",
       "      <td>1</td>\n",
       "      <td>0</td>\n",
       "      <td>1</td>\n",
       "      <td>0</td>\n",
       "      <td>[queen, mary, mrs, windsor's, granny.she, was,...</td>\n",
       "    </tr>\n",
       "  </tbody>\n",
       "</table>\n",
       "</div>"
      ],
      "text/plain": [
       "                 id                                       comment_text  toxic  \\\n",
       "0  f578257c258c9fc5  Stop the mad gorilla deleter! \\n\\n Gorilla sco...      1   \n",
       "1  4f2df0a1ec5380c1  Really good contributor? Bullshit. The cabal d...      1   \n",
       "2  7b3d18857df782cf                                           FUCK YOU      1   \n",
       "3  9b4b3f81be32582a  Sore loser, Nawlinwiki!  I still got over 150 ...      1   \n",
       "4  c33d7b2d87e78295  Queen Mary \\n\\nMrs Windsor's granny.She was a ...      1   \n",
       "\n",
       "   severe_toxic  obscene  threat  insult  identity_hate  \\\n",
       "0             0        0       0       0              0   \n",
       "1             0        1       0       0              0   \n",
       "2             1        1       0       1              0   \n",
       "3             0        0       0       0              0   \n",
       "4             0        1       0       1              0   \n",
       "\n",
       "                                              tokens  \n",
       "0  [stop, the, mad, gorilla, deleter, !, gorilla,...  \n",
       "1  [really, good, contributor, ?, bullshit, ., th...  \n",
       "2                                        [fuck, you]  \n",
       "3  [sore, loser, ,, nawlinwiki, !, i, still, got,...  \n",
       "4  [queen, mary, mrs, windsor's, granny.she, was,...  "
      ]
     },
     "execution_count": 18,
     "metadata": {},
     "output_type": "execute_result"
    }
   ],
   "source": [
    "df.head()"
   ]
  },
  {
   "cell_type": "code",
   "execution_count": 19,
   "metadata": {},
   "outputs": [],
   "source": [
    "cachedStopWords = stopwords.words(\"english\")\n",
    "def remove_stopwords(tokens):\n",
    "    return [token for token in tokens if token not in cachedStopWords]\n",
    "\n",
    "df['tokens_nostop'] = df['tokens'].apply(remove_stopwords)"
   ]
  },
  {
   "cell_type": "code",
   "execution_count": 20,
   "metadata": {},
   "outputs": [
    {
     "data": {
      "text/html": [
       "<div>\n",
       "<style scoped>\n",
       "    .dataframe tbody tr th:only-of-type {\n",
       "        vertical-align: middle;\n",
       "    }\n",
       "\n",
       "    .dataframe tbody tr th {\n",
       "        vertical-align: top;\n",
       "    }\n",
       "\n",
       "    .dataframe thead th {\n",
       "        text-align: right;\n",
       "    }\n",
       "</style>\n",
       "<table border=\"1\" class=\"dataframe\">\n",
       "  <thead>\n",
       "    <tr style=\"text-align: right;\">\n",
       "      <th></th>\n",
       "      <th>id</th>\n",
       "      <th>comment_text</th>\n",
       "      <th>toxic</th>\n",
       "      <th>severe_toxic</th>\n",
       "      <th>obscene</th>\n",
       "      <th>threat</th>\n",
       "      <th>insult</th>\n",
       "      <th>identity_hate</th>\n",
       "      <th>tokens</th>\n",
       "      <th>tokens_nostop</th>\n",
       "    </tr>\n",
       "  </thead>\n",
       "  <tbody>\n",
       "    <tr>\n",
       "      <th>0</th>\n",
       "      <td>f578257c258c9fc5</td>\n",
       "      <td>Stop the mad gorilla deleter! \\n\\n Gorilla sco...</td>\n",
       "      <td>1</td>\n",
       "      <td>0</td>\n",
       "      <td>0</td>\n",
       "      <td>0</td>\n",
       "      <td>0</td>\n",
       "      <td>0</td>\n",
       "      <td>[stop, the, mad, gorilla, deleter, !, gorilla,...</td>\n",
       "      <td>[stop, mad, gorilla, deleter, !, gorilla, scol...</td>\n",
       "    </tr>\n",
       "    <tr>\n",
       "      <th>1</th>\n",
       "      <td>4f2df0a1ec5380c1</td>\n",
       "      <td>Really good contributor? Bullshit. The cabal d...</td>\n",
       "      <td>1</td>\n",
       "      <td>0</td>\n",
       "      <td>1</td>\n",
       "      <td>0</td>\n",
       "      <td>0</td>\n",
       "      <td>0</td>\n",
       "      <td>[really, good, contributor, ?, bullshit, ., th...</td>\n",
       "      <td>[really, good, contributor, ?, bullshit, ., ca...</td>\n",
       "    </tr>\n",
       "    <tr>\n",
       "      <th>2</th>\n",
       "      <td>7b3d18857df782cf</td>\n",
       "      <td>FUCK YOU</td>\n",
       "      <td>1</td>\n",
       "      <td>1</td>\n",
       "      <td>1</td>\n",
       "      <td>0</td>\n",
       "      <td>1</td>\n",
       "      <td>0</td>\n",
       "      <td>[fuck, you]</td>\n",
       "      <td>[fuck]</td>\n",
       "    </tr>\n",
       "    <tr>\n",
       "      <th>3</th>\n",
       "      <td>9b4b3f81be32582a</td>\n",
       "      <td>Sore loser, Nawlinwiki!  I still got over 150 ...</td>\n",
       "      <td>1</td>\n",
       "      <td>0</td>\n",
       "      <td>0</td>\n",
       "      <td>0</td>\n",
       "      <td>0</td>\n",
       "      <td>0</td>\n",
       "      <td>[sore, loser, ,, nawlinwiki, !, i, still, got,...</td>\n",
       "      <td>[sore, loser, ,, nawlinwiki, !, still, got, 15...</td>\n",
       "    </tr>\n",
       "    <tr>\n",
       "      <th>4</th>\n",
       "      <td>c33d7b2d87e78295</td>\n",
       "      <td>Queen Mary \\n\\nMrs Windsor's granny.She was a ...</td>\n",
       "      <td>1</td>\n",
       "      <td>0</td>\n",
       "      <td>1</td>\n",
       "      <td>0</td>\n",
       "      <td>1</td>\n",
       "      <td>0</td>\n",
       "      <td>[queen, mary, mrs, windsor's, granny.she, was,...</td>\n",
       "      <td>[queen, mary, mrs, windsor's, granny.she, bitc...</td>\n",
       "    </tr>\n",
       "  </tbody>\n",
       "</table>\n",
       "</div>"
      ],
      "text/plain": [
       "                 id                                       comment_text  toxic  \\\n",
       "0  f578257c258c9fc5  Stop the mad gorilla deleter! \\n\\n Gorilla sco...      1   \n",
       "1  4f2df0a1ec5380c1  Really good contributor? Bullshit. The cabal d...      1   \n",
       "2  7b3d18857df782cf                                           FUCK YOU      1   \n",
       "3  9b4b3f81be32582a  Sore loser, Nawlinwiki!  I still got over 150 ...      1   \n",
       "4  c33d7b2d87e78295  Queen Mary \\n\\nMrs Windsor's granny.She was a ...      1   \n",
       "\n",
       "   severe_toxic  obscene  threat  insult  identity_hate  \\\n",
       "0             0        0       0       0              0   \n",
       "1             0        1       0       0              0   \n",
       "2             1        1       0       1              0   \n",
       "3             0        0       0       0              0   \n",
       "4             0        1       0       1              0   \n",
       "\n",
       "                                              tokens  \\\n",
       "0  [stop, the, mad, gorilla, deleter, !, gorilla,...   \n",
       "1  [really, good, contributor, ?, bullshit, ., th...   \n",
       "2                                        [fuck, you]   \n",
       "3  [sore, loser, ,, nawlinwiki, !, i, still, got,...   \n",
       "4  [queen, mary, mrs, windsor's, granny.she, was,...   \n",
       "\n",
       "                                       tokens_nostop  \n",
       "0  [stop, mad, gorilla, deleter, !, gorilla, scol...  \n",
       "1  [really, good, contributor, ?, bullshit, ., ca...  \n",
       "2                                             [fuck]  \n",
       "3  [sore, loser, ,, nawlinwiki, !, still, got, 15...  \n",
       "4  [queen, mary, mrs, windsor's, granny.she, bitc...  "
      ]
     },
     "execution_count": 20,
     "metadata": {},
     "output_type": "execute_result"
    }
   ],
   "source": [
    "df.head()"
   ]
  },
  {
   "cell_type": "code",
   "execution_count": 21,
   "metadata": {},
   "outputs": [],
   "source": [
    "def join_tokens(tokens):\n",
    "    return ' '.join(tokens)\n",
    "\n",
    "df['join_tokens'] = df['tokens_nostop'].apply(join_tokens)"
   ]
  },
  {
   "cell_type": "code",
   "execution_count": 22,
   "metadata": {},
   "outputs": [
    {
     "data": {
      "text/html": [
       "<div>\n",
       "<style scoped>\n",
       "    .dataframe tbody tr th:only-of-type {\n",
       "        vertical-align: middle;\n",
       "    }\n",
       "\n",
       "    .dataframe tbody tr th {\n",
       "        vertical-align: top;\n",
       "    }\n",
       "\n",
       "    .dataframe thead th {\n",
       "        text-align: right;\n",
       "    }\n",
       "</style>\n",
       "<table border=\"1\" class=\"dataframe\">\n",
       "  <thead>\n",
       "    <tr style=\"text-align: right;\">\n",
       "      <th></th>\n",
       "      <th>toxic</th>\n",
       "      <th>severe_toxic</th>\n",
       "      <th>obscene</th>\n",
       "      <th>threat</th>\n",
       "      <th>insult</th>\n",
       "      <th>identity_hate</th>\n",
       "      <th>tokens</th>\n",
       "      <th>tokens_nostop</th>\n",
       "      <th>join_tokens</th>\n",
       "    </tr>\n",
       "  </thead>\n",
       "  <tbody>\n",
       "    <tr>\n",
       "      <th>0</th>\n",
       "      <td>1</td>\n",
       "      <td>0</td>\n",
       "      <td>0</td>\n",
       "      <td>0</td>\n",
       "      <td>0</td>\n",
       "      <td>0</td>\n",
       "      <td>[stop, the, mad, gorilla, deleter, !, gorilla,...</td>\n",
       "      <td>[stop, mad, gorilla, deleter, !, gorilla, scol...</td>\n",
       "      <td>stop mad gorilla deleter ! gorilla scolded ins...</td>\n",
       "    </tr>\n",
       "    <tr>\n",
       "      <th>1</th>\n",
       "      <td>1</td>\n",
       "      <td>0</td>\n",
       "      <td>1</td>\n",
       "      <td>0</td>\n",
       "      <td>0</td>\n",
       "      <td>0</td>\n",
       "      <td>[really, good, contributor, ?, bullshit, ., th...</td>\n",
       "      <td>[really, good, contributor, ?, bullshit, ., ca...</td>\n",
       "      <td>really good contributor ? bullshit . cabal dis...</td>\n",
       "    </tr>\n",
       "    <tr>\n",
       "      <th>2</th>\n",
       "      <td>1</td>\n",
       "      <td>1</td>\n",
       "      <td>1</td>\n",
       "      <td>0</td>\n",
       "      <td>1</td>\n",
       "      <td>0</td>\n",
       "      <td>[fuck, you]</td>\n",
       "      <td>[fuck]</td>\n",
       "      <td>fuck</td>\n",
       "    </tr>\n",
       "    <tr>\n",
       "      <th>3</th>\n",
       "      <td>1</td>\n",
       "      <td>0</td>\n",
       "      <td>0</td>\n",
       "      <td>0</td>\n",
       "      <td>0</td>\n",
       "      <td>0</td>\n",
       "      <td>[sore, loser, ,, nawlinwiki, !, i, still, got,...</td>\n",
       "      <td>[sore, loser, ,, nawlinwiki, !, still, got, 15...</td>\n",
       "      <td>sore loser , nawlinwiki ! still got 150 nice r...</td>\n",
       "    </tr>\n",
       "    <tr>\n",
       "      <th>4</th>\n",
       "      <td>1</td>\n",
       "      <td>0</td>\n",
       "      <td>1</td>\n",
       "      <td>0</td>\n",
       "      <td>1</td>\n",
       "      <td>0</td>\n",
       "      <td>[queen, mary, mrs, windsor's, granny.she, was,...</td>\n",
       "      <td>[queen, mary, mrs, windsor's, granny.she, bitc...</td>\n",
       "      <td>queen mary mrs windsor's granny.she bitch .</td>\n",
       "    </tr>\n",
       "  </tbody>\n",
       "</table>\n",
       "</div>"
      ],
      "text/plain": [
       "   toxic  severe_toxic  obscene  threat  insult  identity_hate  \\\n",
       "0      1             0        0       0       0              0   \n",
       "1      1             0        1       0       0              0   \n",
       "2      1             1        1       0       1              0   \n",
       "3      1             0        0       0       0              0   \n",
       "4      1             0        1       0       1              0   \n",
       "\n",
       "                                              tokens  \\\n",
       "0  [stop, the, mad, gorilla, deleter, !, gorilla,...   \n",
       "1  [really, good, contributor, ?, bullshit, ., th...   \n",
       "2                                        [fuck, you]   \n",
       "3  [sore, loser, ,, nawlinwiki, !, i, still, got,...   \n",
       "4  [queen, mary, mrs, windsor's, granny.she, was,...   \n",
       "\n",
       "                                       tokens_nostop  \\\n",
       "0  [stop, mad, gorilla, deleter, !, gorilla, scol...   \n",
       "1  [really, good, contributor, ?, bullshit, ., ca...   \n",
       "2                                             [fuck]   \n",
       "3  [sore, loser, ,, nawlinwiki, !, still, got, 15...   \n",
       "4  [queen, mary, mrs, windsor's, granny.she, bitc...   \n",
       "\n",
       "                                         join_tokens  \n",
       "0  stop mad gorilla deleter ! gorilla scolded ins...  \n",
       "1  really good contributor ? bullshit . cabal dis...  \n",
       "2                                               fuck  \n",
       "3  sore loser , nawlinwiki ! still got 150 nice r...  \n",
       "4        queen mary mrs windsor's granny.she bitch .  "
      ]
     },
     "execution_count": 22,
     "metadata": {},
     "output_type": "execute_result"
    }
   ],
   "source": [
    "df.drop(['id','comment_text'], axis=1, inplace=True)\n",
    "df.head()"
   ]
  },
  {
   "cell_type": "markdown",
   "metadata": {},
   "source": [
    "Stratification"
   ]
  },
  {
   "cell_type": "markdown",
   "metadata": {},
   "source": [
    "## Bag of Words"
   ]
  },
  {
   "cell_type": "code",
   "execution_count": 23,
   "metadata": {},
   "outputs": [],
   "source": [
    "from sklearn.feature_extraction.text import CountVectorizer\n",
    "vectorizer = CountVectorizer()\n",
    "bow_matrix = vectorizer.fit_transform(df.join_tokens.to_list()).toarray()"
   ]
  },
  {
   "cell_type": "code",
   "execution_count": 24,
   "metadata": {},
   "outputs": [
    {
     "data": {
      "text/plain": [
       "(1662, 7591)"
      ]
     },
     "execution_count": 24,
     "metadata": {},
     "output_type": "execute_result"
    }
   ],
   "source": [
    "np.shape(bow_matrix)"
   ]
  },
  {
   "cell_type": "markdown",
   "metadata": {},
   "source": [
    "Too many basis words. Use PCA to cut them."
   ]
  },
  {
   "cell_type": "code",
   "execution_count": 25,
   "metadata": {},
   "outputs": [],
   "source": [
    "#from sklearn.preprocessing import StandardScaler\n",
    "#from sklearn.decomposition import PCA\n",
    "#from sklearn.pipeline import Pipeline\n",
    "\n",
    "#pca_pipe = Pipeline([('scale', StandardScaler()), ('pca', PCA())])\n",
    "\n",
    "#pca_pipe.fit(bow_matrix)"
   ]
  },
  {
   "cell_type": "markdown",
   "metadata": {},
   "source": [
    "# n-grams"
   ]
  },
  {
   "cell_type": "code",
   "execution_count": 26,
   "metadata": {},
   "outputs": [],
   "source": [
    "bigrams = CountVectorizer(ngram_range=(2,2))\n",
    "bigrams_matrix = bigrams.fit_transform(df.join_tokens.to_list())"
   ]
  },
  {
   "cell_type": "code",
   "execution_count": 27,
   "metadata": {},
   "outputs": [],
   "source": [
    "names = bigrams.get_feature_names()"
   ]
  },
  {
   "cell_type": "code",
   "execution_count": 28,
   "metadata": {},
   "outputs": [
    {
     "data": {
      "text/plain": [
       "['send barnstars',\n",
       " 'eons asshole',\n",
       " 'niggers around',\n",
       " 'theyre noteable',\n",
       " 'guys try',\n",
       " 'stupid bastard',\n",
       " 'life know',\n",
       " 'king kamehameha',\n",
       " 'well say',\n",
       " 'world love']"
      ]
     },
     "execution_count": 28,
     "metadata": {},
     "output_type": "execute_result"
    }
   ],
   "source": [
    "import random\n",
    "random.choices(names, k=10)"
   ]
  },
  {
   "cell_type": "code",
   "execution_count": 29,
   "metadata": {},
   "outputs": [
    {
     "data": {
      "text/plain": [
       "(1662, 24334)"
      ]
     },
     "execution_count": 29,
     "metadata": {},
     "output_type": "execute_result"
    }
   ],
   "source": [
    "np.shape(bigrams_matrix)"
   ]
  },
  {
   "cell_type": "markdown",
   "metadata": {},
   "source": [
    "# TF-IDF"
   ]
  },
  {
   "cell_type": "code",
   "execution_count": 30,
   "metadata": {},
   "outputs": [],
   "source": [
    "vectorizer = TfidfVectorizer()\n",
    "\n",
    "tfidf_matrix = vectorizer.fit_transform(df.join_tokens.to_list()).toarray()"
   ]
  },
  {
   "cell_type": "code",
   "execution_count": 31,
   "metadata": {},
   "outputs": [
    {
     "data": {
      "text/plain": [
       "(1662, 7591)"
      ]
     },
     "execution_count": 31,
     "metadata": {},
     "output_type": "execute_result"
    }
   ],
   "source": [
    "np.shape(tfidf_matrix)"
   ]
  },
  {
   "cell_type": "markdown",
   "metadata": {},
   "source": [
    "## Splitting into train and test with stratify\n",
    "\n",
    "now just for tfidf"
   ]
  },
  {
   "cell_type": "code",
   "execution_count": 32,
   "metadata": {},
   "outputs": [],
   "source": [
    "X_train, y_train, X_test, y_test = iterative_train_test_split(tfidf_matrix, df[target_columns].to_numpy(), test_size = 0.2)"
   ]
  },
  {
   "cell_type": "code",
   "execution_count": 33,
   "metadata": {},
   "outputs": [
    {
     "data": {
      "text/plain": [
       "{(0,): 0.2837370242214533,\n",
       " (2,): 0.21314878892733563,\n",
       " (4,): 0.20945790080738177,\n",
       " (5,): 0.09065743944636678,\n",
       " (1,): 0.11510957324106114,\n",
       " (3,): 0.08788927335640138}"
      ]
     },
     "execution_count": 33,
     "metadata": {},
     "output_type": "execute_result"
    }
   ],
   "source": [
    "a = dict(Counter(combination for row in get_combination_wise_output_matrix(y_train, order=1) for combination in row))\n",
    "\n",
    "{k: v / total for total in (sum(a.values()),) for k, v in a.items()}"
   ]
  },
  {
   "cell_type": "code",
   "execution_count": 34,
   "metadata": {},
   "outputs": [
    {
     "data": {
      "text/plain": [
       "{(0,): 0.3219349457881568,\n",
       " (1,): 0.10842368640533778,\n",
       " (2,): 0.19766472060050042,\n",
       " (4,): 0.2018348623853211,\n",
       " (5,): 0.08924103419516263,\n",
       " (3,): 0.08090075062552127}"
      ]
     },
     "execution_count": 34,
     "metadata": {},
     "output_type": "execute_result"
    }
   ],
   "source": [
    "a = dict(Counter(combination for row in get_combination_wise_output_matrix(y_test, order=1) for combination in row))\n",
    "\n",
    "{k: v / total for total in (sum(a.values()),) for k, v in a.items()}"
   ]
  },
  {
   "cell_type": "markdown",
   "metadata": {},
   "source": [
    "# Modeling"
   ]
  },
  {
   "cell_type": "code",
   "execution_count": 35,
   "metadata": {},
   "outputs": [],
   "source": [
    "clf = OneVsRestClassifier(LogisticRegression())"
   ]
  },
  {
   "cell_type": "code",
   "execution_count": 36,
   "metadata": {},
   "outputs": [
    {
     "name": "stdout",
     "output_type": "stream",
     "text": [
      "Accuracy per label\n",
      "toxic 0.9578163771712159\n",
      "severe_toxic 0.7642679900744417\n",
      "obscene 0.607940446650124\n",
      "threat 0.8387096774193549\n",
      "insult 0.6228287841191067\n",
      "identity_hate 0.7791563275434243\n"
     ]
    }
   ],
   "source": [
    "print('Accuracy per label')\n",
    "for i in range(len(target_columns)):\n",
    "    clf.fit(X_train, y_train[:,i])\n",
    "    pred = clf.predict(X_test)\n",
    "    print(target_columns[i], accuracy_score(y_test[:,i], pred))"
   ]
  },
  {
   "cell_type": "code",
   "execution_count": 37,
   "metadata": {},
   "outputs": [],
   "source": [
    "from sklearn.multioutput import MultiOutputClassifier"
   ]
  },
  {
   "cell_type": "code",
   "execution_count": 38,
   "metadata": {},
   "outputs": [
    {
     "data": {
      "text/plain": [
       "MultiOutputClassifier(estimator=LogisticRegression())"
      ]
     },
     "execution_count": 38,
     "metadata": {},
     "output_type": "execute_result"
    }
   ],
   "source": [
    "mlc = MultiOutputClassifier(LogisticRegression())\n",
    "mlc.fit(X_train, y_train)"
   ]
  },
  {
   "cell_type": "code",
   "execution_count": 39,
   "metadata": {},
   "outputs": [],
   "source": [
    "pred = mlc.predict(X_test)"
   ]
  },
  {
   "cell_type": "code",
   "execution_count": 40,
   "metadata": {},
   "outputs": [],
   "source": [
    "mcm = multilabel_confusion_matrix(y_test, pred)"
   ]
  },
  {
   "cell_type": "code",
   "execution_count": 41,
   "metadata": {},
   "outputs": [
    {
     "name": "stdout",
     "output_type": "stream",
     "text": [
      "Accuracy per label\n",
      "toxic 0.9578163771712159\n",
      "severe_toxic 0.7642679900744417\n",
      "obscene 0.607940446650124\n",
      "threat 0.8387096774193549\n",
      "insult 0.6228287841191067\n",
      "identity_hate 0.7791563275434243\n"
     ]
    },
    {
     "data": {
      "image/png": "[encoded data removed]",
      "text/plain": [
       "<Figure size 432x288 with 2 Axes>"
      ]
     },
     "metadata": {
      "needs_background": "light"
     },
     "output_type": "display_data"
    },
    {
     "data": {
      "image/png": "[encoded data removed]",
      "text/plain": [
       "<Figure size 432x288 with 2 Axes>"
      ]
     },
     "metadata": {
      "needs_background": "light"
     },
     "output_type": "display_data"
    },
    {
     "data": {
      "image/png": "[encoded data removed]",
      "text/plain": [
       "<Figure size 432x288 with 2 Axes>"
      ]
     },
     "metadata": {
      "needs_background": "light"
     },
     "output_type": "display_data"
    },
    {
     "data": {
      "image/png": "[encoded data removed]",
      "text/plain": [
       "<Figure size 432x288 with 2 Axes>"
      ]
     },
     "metadata": {
      "needs_background": "light"
     },
     "output_type": "display_data"
    },
    {
     "data": {
      "image/png": "[encoded data removed]",
      "text/plain": [
       "<Figure size 432x288 with 2 Axes>"
      ]
     },
     "metadata": {
      "needs_background": "light"
     },
     "output_type": "display_data"
    },
    {
     "data": {
      "image/png": "[encoded data removed]",
      "text/plain": [
       "<Figure size 432x288 with 2 Axes>"
      ]
     },
     "metadata": {
      "needs_background": "light"
     },
     "output_type": "display_data"
    }
   ],
   "source": [
    "print('Accuracy per label')\n",
    "for i in range(len(target_columns)):\n",
    "    print(target_columns[i], (mcm[i,0,0]+mcm[i,1,1])/np.sum(mcm[i]))\n",
    "    disp = ConfusionMatrixDisplay(mcm[i])\n",
    "    disp.plot()"
   ]
  },
  {
   "cell_type": "code",
   "execution_count": 42,
   "metadata": {},
   "outputs": [],
   "source": [
    "# https://mmuratarat.github.io/2020-01-25/multilabel_classification_metrics\n",
    "# Accuracy for multilabel classifier\n",
    "def Accuracy(y_true, y_pred):\n",
    "    temp = 0\n",
    "    for i in range(y_true.shape[0]):\n",
    "        temp += sum(np.logical_and(y_true[i], y_pred[i])) / sum(np.logical_or(y_true[i], y_pred[i]))\n",
    "    return temp / y_true.shape[0]"
   ]
  },
  {
   "cell_type": "code",
   "execution_count": 43,
   "metadata": {},
   "outputs": [
    {
     "data": {
      "text/plain": [
       "0.643424317617866"
      ]
     },
     "execution_count": 43,
     "metadata": {},
     "output_type": "execute_result"
    }
   ],
   "source": [
    "Accuracy(y_test, pred)"
   ]
  },
  {
   "cell_type": "code",
   "execution_count": 44,
   "metadata": {},
   "outputs": [
    {
     "data": {
      "text/plain": [
       "0.24069478908188585"
      ]
     },
     "execution_count": 44,
     "metadata": {},
     "output_type": "execute_result"
    }
   ],
   "source": [
    "def exact_match_ratio(y_true, y_pred):\n",
    "    return np.all(y_pred == y_true, axis=1).mean()\n",
    "\n",
    "exact_match_ratio(y_test, pred)"
   ]
  },
  {
   "cell_type": "code",
   "execution_count": 45,
   "metadata": {},
   "outputs": [
    {
     "data": {
      "text/plain": [
       "0.24069478908188585"
      ]
     },
     "execution_count": 45,
     "metadata": {},
     "output_type": "execute_result"
    }
   ],
   "source": [
    "accuracy_score(y_test, pred) # is the exact match ratio"
   ]
  },
  {
   "cell_type": "markdown",
   "metadata": {},
   "source": [
    "## Neural Network"
   ]
  },
  {
   "cell_type": "code",
   "execution_count": 56,
   "metadata": {},
   "outputs": [],
   "source": [
    "from keras.models import Sequential, load_model\n",
    "from keras.layers import Dense, Dropout\n",
    "from keras.callbacks import EarlyStopping\n",
    "from keras.metrics import binary_accuracy"
   ]
  },
  {
   "cell_type": "code",
   "execution_count": 47,
   "metadata": {},
   "outputs": [],
   "source": [
    "def build_network(n_features, n_output, n_layers=1, n_nodes=10, activ_func='relu', dropout_rate=0.):\n",
    "    ''' Building neural network model '''\n",
    "    model = Sequential()\n",
    "    model.add(Dense(n_nodes, activation=activ_func, use_bias=True, input_shape=(n_features,)))\n",
    "    for i in range(n_layers-1):\n",
    "        model.add(Dense(n_nodes, activation=activ_func, use_bias=True))\n",
    "    if dropout_rate > 0:\n",
    "        model.add(Dropout(dropout_rate, input_shape=(n_nodes,)))\n",
    "    model.add(Dense(n_output, activation='sigmoid'))\n",
    "    return model"
   ]
  },
  {
   "cell_type": "code",
   "execution_count": 57,
   "metadata": {},
   "outputs": [],
   "source": [
    "def fit_network(X, y, n_output, n_layers=1, n_nodes=10, activ_func='relu', dropout_rate=0., epochs=10):\n",
    "    # Building neural network model\n",
    "    n_features = np.shape(X)[1]\n",
    "    model = build_network(n_features, n_output, n_layers, n_nodes, activ_func, dropout_rate)\n",
    "    # Compiling model\n",
    "    early_stopping_monitor = EarlyStopping(patience=5)\n",
    "    model.compile(optimizer='adam', loss='binary_crossentropy', metrics=[binary_accuracy])\n",
    "    # Fitting model\n",
    "    history = model.fit(X, y,\n",
    "                        validation_split=0.2, epochs=epochs,\n",
    "                        shuffle=True, callbacks=[early_stopping_monitor])\n",
    "    #model.save('neuralnetwork.h5')\n",
    "    return model"
   ]
  },
  {
   "cell_type": "code",
   "execution_count": 61,
   "metadata": {},
   "outputs": [
    {
     "name": "stdout",
     "output_type": "stream",
     "text": [
      "Epoch 1/50\n",
      "32/32 [==============================] - 0s 5ms/step - loss: 0.6895 - binary_accuracy: 0.5986 - val_loss: 0.6742 - val_binary_accuracy: 0.7798\n",
      "Epoch 2/50\n",
      "32/32 [==============================] - 0s 2ms/step - loss: 0.6679 - binary_accuracy: 0.7563 - val_loss: 0.6495 - val_binary_accuracy: 0.7632\n",
      "Epoch 3/50\n",
      "32/32 [==============================] - 0s 2ms/step - loss: 0.6398 - binary_accuracy: 0.7472 - val_loss: 0.6220 - val_binary_accuracy: 0.7553\n",
      "Epoch 4/50\n",
      "32/32 [==============================] - 0s 2ms/step - loss: 0.6078 - binary_accuracy: 0.7323 - val_loss: 0.5951 - val_binary_accuracy: 0.7553\n",
      "Epoch 5/50\n",
      "32/32 [==============================] - 0s 3ms/step - loss: 0.5714 - binary_accuracy: 0.7385 - val_loss: 0.5718 - val_binary_accuracy: 0.7553\n",
      "Epoch 6/50\n",
      "32/32 [==============================] - 0s 3ms/step - loss: 0.5361 - binary_accuracy: 0.7369 - val_loss: 0.5569 - val_binary_accuracy: 0.7560\n",
      "Epoch 7/50\n",
      "32/32 [==============================] - 0s 3ms/step - loss: 0.5127 - binary_accuracy: 0.7377 - val_loss: 0.5494 - val_binary_accuracy: 0.7579\n",
      "Epoch 8/50\n",
      "32/32 [==============================] - 0s 3ms/step - loss: 0.4807 - binary_accuracy: 0.7621 - val_loss: 0.5497 - val_binary_accuracy: 0.7579\n",
      "Epoch 9/50\n",
      "32/32 [==============================] - 0s 3ms/step - loss: 0.4521 - binary_accuracy: 0.7834 - val_loss: 0.5532 - val_binary_accuracy: 0.7579\n",
      "Epoch 10/50\n",
      "32/32 [==============================] - 0s 3ms/step - loss: 0.4300 - binary_accuracy: 0.8012 - val_loss: 0.5567 - val_binary_accuracy: 0.7573\n",
      "Epoch 11/50\n",
      "32/32 [==============================] - 0s 3ms/step - loss: 0.4178 - binary_accuracy: 0.8104 - val_loss: 0.5623 - val_binary_accuracy: 0.7520\n",
      "Epoch 12/50\n",
      "32/32 [==============================] - 0s 3ms/step - loss: 0.3867 - binary_accuracy: 0.8481 - val_loss: 0.5634 - val_binary_accuracy: 0.7434\n"
     ]
    }
   ],
   "source": [
    "model = fit_network(X_train, y_train, n_output=y_train.shape[1], epochs=50)"
   ]
  },
  {
   "cell_type": "code",
   "execution_count": 62,
   "metadata": {},
   "outputs": [],
   "source": [
    "y_pred = model.predict(X_test)"
   ]
  },
  {
   "cell_type": "code",
   "execution_count": 68,
   "metadata": {},
   "outputs": [
    {
     "data": {
      "text/plain": [
       "0.6249793217535153"
      ]
     },
     "execution_count": 68,
     "metadata": {},
     "output_type": "execute_result"
    }
   ],
   "source": [
    "Accuracy(y_test, y_pred.round())"
   ]
  },
  {
   "cell_type": "code",
   "execution_count": 69,
   "metadata": {},
   "outputs": [
    {
     "data": {
      "text/plain": [
       "0.25806451612903225"
      ]
     },
     "execution_count": 69,
     "metadata": {},
     "output_type": "execute_result"
    }
   ],
   "source": [
    "exact_match_ratio(y_test, y_pred.round())"
   ]
  },
  {
   "cell_type": "code",
   "execution_count": null,
   "metadata": {},
   "outputs": [],
   "source": []
  }
 ],
 "metadata": {
  "colab": {
   "collapsed_sections": [],
   "name": "g01_data_visualization.ipynb",
   "provenance": []
  },
  "kernelspec": {
   "display_name": "Python 3",
   "language": "python",
   "name": "python3"
  },
  "language_info": {
   "codemirror_mode": {
    "name": "ipython",
    "version": 3
   },
   "file_extension": ".py",
   "mimetype": "text/x-python",
   "name": "python",
   "nbconvert_exporter": "python",
   "pygments_lexer": "ipython3",
   "version": "3.8.5"
  }
 },
 "nbformat": 4,
 "nbformat_minor": 1
}
