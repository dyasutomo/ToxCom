{
 "cells": [
  {
   "cell_type": "markdown",
   "metadata": {
    "id": "0KH8MTKXdppl"
   },
   "source": [
    "# Loading the data"
   ]
  },
  {
   "cell_type": "code",
   "execution_count": 2,
   "metadata": {
    "executionInfo": {
     "elapsed": 1324,
     "status": "ok",
     "timestamp": 1616549931950,
     "user": {
      "displayName": "Ghanashyam Khanal",
      "photoUrl": "https://lh3.googleusercontent.com/a-/AOh14GjNFB_3XwLB8BEW17lVypQ54QKRq7KnQZVd8M-QU9c=s64",
      "userId": "16880718905978803098"
     },
     "user_tz": 240
    },
    "id": "M3vLv8-EcawR"
   },
   "outputs": [],
   "source": [
    "import numpy as np\n",
    "import pandas as pd\n",
    "import pylab as plt\n",
    "import seaborn as sns\n",
    "\n",
    "data_dir='./dataset/'"
   ]
  },
  {
   "cell_type": "code",
   "execution_count": 3,
   "metadata": {},
   "outputs": [
    {
     "data": {
      "text/html": [
       "<div>\n",
       "<style scoped>\n",
       "    .dataframe tbody tr th:only-of-type {\n",
       "        vertical-align: middle;\n",
       "    }\n",
       "\n",
       "    .dataframe tbody tr th {\n",
       "        vertical-align: top;\n",
       "    }\n",
       "\n",
       "    .dataframe thead th {\n",
       "        text-align: right;\n",
       "    }\n",
       "</style>\n",
       "<table border=\"1\" class=\"dataframe\">\n",
       "  <thead>\n",
       "    <tr style=\"text-align: right;\">\n",
       "      <th></th>\n",
       "      <th>toxic</th>\n",
       "      <th>severe_toxic</th>\n",
       "      <th>obscene</th>\n",
       "      <th>threat</th>\n",
       "      <th>insult</th>\n",
       "      <th>identity_hate</th>\n",
       "      <th>label_sum</th>\n",
       "      <th>com_processed</th>\n",
       "      <th>negative_comments</th>\n",
       "    </tr>\n",
       "  </thead>\n",
       "  <tbody>\n",
       "    <tr>\n",
       "      <th>5</th>\n",
       "      <td>0</td>\n",
       "      <td>0</td>\n",
       "      <td>0</td>\n",
       "      <td>0</td>\n",
       "      <td>0</td>\n",
       "      <td>0</td>\n",
       "      <td>0</td>\n",
       "      <td>congratulations well use tools well talk</td>\n",
       "      <td>0</td>\n",
       "    </tr>\n",
       "    <tr>\n",
       "      <th>6</th>\n",
       "      <td>1</td>\n",
       "      <td>1</td>\n",
       "      <td>1</td>\n",
       "      <td>0</td>\n",
       "      <td>1</td>\n",
       "      <td>0</td>\n",
       "      <td>4</td>\n",
       "      <td>cocksucker piss around work</td>\n",
       "      <td>1</td>\n",
       "    </tr>\n",
       "    <tr>\n",
       "      <th>7</th>\n",
       "      <td>0</td>\n",
       "      <td>0</td>\n",
       "      <td>0</td>\n",
       "      <td>0</td>\n",
       "      <td>0</td>\n",
       "      <td>0</td>\n",
       "      <td>0</td>\n",
       "      <td>vandalism matt shirvington article reverted pl...</td>\n",
       "      <td>0</td>\n",
       "    </tr>\n",
       "  </tbody>\n",
       "</table>\n",
       "</div>"
      ],
      "text/plain": [
       "   toxic  severe_toxic  obscene  threat  insult  identity_hate  label_sum  \\\n",
       "5      0             0        0       0       0              0          0   \n",
       "6      1             1        1       0       1              0          4   \n",
       "7      0             0        0       0       0              0          0   \n",
       "\n",
       "                                       com_processed  negative_comments  \n",
       "5           congratulations well use tools well talk                  0  \n",
       "6                        cocksucker piss around work                  1  \n",
       "7  vandalism matt shirvington article reverted pl...                  0  "
      ]
     },
     "execution_count": 3,
     "metadata": {},
     "output_type": "execute_result"
    }
   ],
   "source": [
    "df = pd.read_csv(data_dir+'df_processed.csv')\n",
    "df.drop(['id','comment_text','comment_lower','has_apostrophe','has_new_line'], axis=1, inplace=True)\n",
    "df['negative_comments'] = df['label_sum'].apply(lambda x:int(x>0))\n",
    "df[5:8]"
   ]
  },
  {
   "cell_type": "code",
   "execution_count": 4,
   "metadata": {},
   "outputs": [],
   "source": [
    "target_columns = ['toxic','severe_toxic','obscene','threat','insult','identity_hate']"
   ]
  },
  {
   "cell_type": "code",
   "execution_count": 5,
   "metadata": {},
   "outputs": [],
   "source": [
    "from sklearn.model_selection import train_test_split\n",
    "from skmultilearn.model_selection import iterative_train_test_split\n",
    "from sklearn.feature_extraction.text import TfidfVectorizer, CountVectorizer\n",
    "\n",
    "def prepare_TFIDF(df, col, binary=False):\n",
    "    df_train, df_test = train_test_split(df, test_size=0.2, random_state = 8848)\n",
    "    \n",
    "    vectorizer = TfidfVectorizer(use_idf=True, max_df=0.95)\n",
    "    vectorizer.fit_transform(df_train[col].values)\n",
    "    \n",
    "    X_train = vectorizer.transform(df_train[col].values)\n",
    "    X_test  = vectorizer.transform(df_test[col].values)\n",
    "    \n",
    "    if 'binary':\n",
    "        y_train = df_train['negative_comments'].values\n",
    "        y_test  = df_test['negative_comments'].values\n",
    "    else:\n",
    "        y_train = df_train[target_columns].values\n",
    "        y_test  = df_test[target_columns].values\n",
    "\n",
    "    return X_train, X_test, y_train, y_test, vectorizer\n",
    "\n",
    "X_train_tf, X_test_tf, y_train_tf, y_test_tf, vectorizer= prepare_TFIDF(df, \"com_processed\")\n",
    "\n"
   ]
  },
  {
   "cell_type": "code",
   "execution_count": 6,
   "metadata": {},
   "outputs": [
    {
     "name": "stdout",
     "output_type": "stream",
     "text": [
      "X_train Shape:  (127608, 147278)\n",
      "y_train Shape:  (127608,)\n"
     ]
    }
   ],
   "source": [
    "print(\"X_train Shape: \", X_train_tf.toarray().shape)\n",
    "print(\"y_train Shape: \", y_train_tf.shape)"
   ]
  },
  {
   "cell_type": "code",
   "execution_count": 7,
   "metadata": {},
   "outputs": [],
   "source": [
    "from sklearn.multiclass import OneVsRestClassifier\n",
    "from sklearn.linear_model import LogisticRegression, RidgeClassifier\n",
    "from sklearn.multioutput import MultiOutputClassifier\n",
    "\n",
    "from sklearn.metrics import accuracy_score, f1_score\n",
    "from sklearn.metrics import average_precision_score, roc_auc_score\n",
    "from sklearn.metrics import multilabel_confusion_matrix, ConfusionMatrixDisplay\n",
    "from sklearn.metrics import confusion_matrix\n"
   ]
  },
  {
   "cell_type": "code",
   "execution_count": 8,
   "metadata": {},
   "outputs": [],
   "source": [
    "def print_evaluation_scores(actual, pred, label):\n",
    "    acc        = 100*accuracy_score(actual, pred)\n",
    "    f1_micro   = 100*f1_score(actual, pred)#, average='binary')\n",
    "    avg_prec_micro = 100*average_precision_score(actual, pred)#, average='')\n",
    "    roc_auc    = 100*roc_auc_score(actual, pred)\n",
    "    \n",
    "    print (label)\n",
    "    print (\"\\nAccuracy \\t= %1.2f \\nF1_micro\\t= %1.2f\" %(acc, f1_micro))\n",
    "    print (\"Avg Prec micro\\t= %1.2f \\nROC_AUC score\\t= %1.2f\" % ( avg_prec_micro, roc_auc))"
   ]
  },
  {
   "cell_type": "code",
   "execution_count": 29,
   "metadata": {},
   "outputs": [],
   "source": [
    "def train_multioutput(model, X_train, y_train, X_test, y_test):\n",
    "    model_multi=MultiOutputClassifier(model)\n",
    "    model_multi.fit(X_train, y_train)\n",
    "    pred = model_multi.predict(X_test)\n",
    "\n",
    "    #mcm = multilabel_confusion_matrix(y_test, pred)\n",
    "    fig, axL = plt.subplots(2,3, figsize=(15,10))\n",
    "    for i in range(6):\n",
    "        conf_matrix = confusion_matrix(y_test[:,i], pred[:,i])\n",
    "        ax=axL[i//3, i%3]\n",
    "        ax.set_title(target_columns[i], fontsize=14)\n",
    "        sns.heatmap(conf_matrix, ax=ax, cmap='viridis', annot=True, cbar=False)\n",
    "        print_evaluation_scores(y_test[:,i], pred[:,i], label=target_columns[i])"
   ]
  },
  {
   "cell_type": "code",
   "execution_count": null,
   "metadata": {},
   "outputs": [],
   "source": [
    "from sklearn.metrics import precision_recall_fscore_support"
   ]
  },
  {
   "cell_type": "code",
   "execution_count": 30,
   "metadata": {},
   "outputs": [
    {
     "name": "stdout",
     "output_type": "stream",
     "text": [
      "toxic\n",
      "\n",
      "Accuracy \t= 95.69 \n",
      "F1_micro\t= 72.71\n",
      "Avg Prec micro\t= 59.28 \n",
      "ROC_AUC score\t= 79.67\n",
      "severe_toxic\n",
      "\n",
      "Accuracy \t= 99.03 \n",
      "F1_micro\t= 33.55\n",
      "Avg Prec micro\t= 13.62 \n",
      "ROC_AUC score\t= 62.27\n",
      "obscene\n",
      "\n",
      "Accuracy \t= 97.87 \n",
      "F1_micro\t= 76.21\n",
      "Avg Prec micro\t= 61.86 \n",
      "ROC_AUC score\t= 82.19\n",
      "threat\n",
      "\n",
      "Accuracy \t= 99.73 \n",
      "F1_micro\t= 15.69\n",
      "Avg Prec micro\t= 5.79 \n",
      "ROC_AUC score\t= 54.49\n",
      "insult\n",
      "\n",
      "Accuracy \t= 97.12 \n",
      "F1_micro\t= 64.12\n",
      "Avg Prec micro\t= 45.81 \n",
      "ROC_AUC score\t= 75.76\n",
      "identity_hate\n",
      "\n",
      "Accuracy \t= 99.14 \n",
      "F1_micro\t= 23.82\n",
      "Avg Prec micro\t= 10.29 \n",
      "ROC_AUC score\t= 57.25\n"
     ]
    },
    {
     "data": {
      "image/png": "[encoded data removed]",
      "text/plain": [
       "<Figure size 1080x720 with 6 Axes>"
      ]
     },
     "metadata": {
      "needs_background": "light"
     },
     "output_type": "display_data"
    }
   ],
   "source": [
    "model = LogisticRegression(penalty='l2', C=1.0,max_iter=500)\n",
    "train_multioutput(model, X_train_tf, y_train_tf, X_test_tf, y_test_tf)"
   ]
  },
  {
   "cell_type": "code",
   "execution_count": 14,
   "metadata": {},
   "outputs": [
    {
     "name": "stdout",
     "output_type": "stream",
     "text": [
      "toxic\n",
      "\n",
      "Accuracy \t= 95.69 \n",
      "F1_micro\t= 95.69\n",
      "Avg Prec micro\t= 59.28 \n",
      "ROC_AUC score\t= 79.67\n",
      "severe_toxic\n",
      "\n",
      "Accuracy \t= 99.03 \n",
      "F1_micro\t= 99.03\n",
      "Avg Prec micro\t= 13.62 \n",
      "ROC_AUC score\t= 62.27\n",
      "obscene\n",
      "\n",
      "Accuracy \t= 97.87 \n",
      "F1_micro\t= 97.87\n",
      "Avg Prec micro\t= 61.86 \n",
      "ROC_AUC score\t= 82.19\n",
      "threat\n",
      "\n",
      "Accuracy \t= 99.73 \n",
      "F1_micro\t= 99.73\n",
      "Avg Prec micro\t= 5.79 \n",
      "ROC_AUC score\t= 54.49\n",
      "insult\n",
      "\n",
      "Accuracy \t= 97.12 \n",
      "F1_micro\t= 97.12\n",
      "Avg Prec micro\t= 45.81 \n",
      "ROC_AUC score\t= 75.76\n",
      "identity_hate\n",
      "\n",
      "Accuracy \t= 99.14 \n",
      "F1_micro\t= 99.14\n",
      "Avg Prec micro\t= 10.29 \n",
      "ROC_AUC score\t= 57.25\n"
     ]
    },
    {
     "data": {
      "image/png": "[encoded data removed]",
      "text/plain": [
       "<Figure size 1080x720 with 6 Axes>"
      ]
     },
     "metadata": {
      "needs_background": "light"
     },
     "output_type": "display_data"
    }
   ],
   "source": [
    "model = LogisticRegression(penalty='l2', C=1.0,max_iter=500)\n",
    "train_multioutput(model, X_train_tf, y_train_tf, X_test_tf, y_test_tf)"
   ]
  },
  {
   "cell_type": "code",
   "execution_count": 27,
   "metadata": {},
   "outputs": [
    {
     "name": "stdout",
     "output_type": "stream",
     "text": [
      "0.3333333333333333\n"
     ]
    }
   ],
   "source": [
    "cm=[[3.2e04, 72], [2.4e02, 78]]\n",
    "prec = 78/(78+72)\n",
    "rec = 78/(78+240)\n",
    "f1 = 2* prec*rec/(prec+rec)\n",
    "print (f1)\n"
   ]
  },
  {
   "cell_type": "code",
   "execution_count": null,
   "metadata": {},
   "outputs": [],
   "source": [
    "from sklearn.svm import SVC\n",
    "model = SVC()\n",
    "train_multioutput(model, X_train_tf, y_train_tf, X_test_tf, y_test_tf)"
   ]
  },
  {
   "cell_type": "code",
   "execution_count": 19,
   "metadata": {},
   "outputs": [
    {
     "name": "stdout",
     "output_type": "stream",
     "text": [
      "toxic\n",
      "\n",
      "Accuracy \t= 94.36 \n",
      "F1_micro\t= 94.36\n",
      "Avg Prec micro\t= 47.34 \n",
      "ROC_AUC score\t= 74.49\n",
      "severe_toxic\n",
      "\n",
      "Accuracy \t= 98.94 \n",
      "F1_micro\t= 98.94\n",
      "Avg Prec micro\t= 10.71 \n",
      "ROC_AUC score\t= 61.43\n",
      "obscene\n",
      "\n",
      "Accuracy \t= 97.77 \n",
      "F1_micro\t= 97.77\n",
      "Avg Prec micro\t= 61.01 \n",
      "ROC_AUC score\t= 83.99\n",
      "threat\n",
      "\n",
      "Accuracy \t= 99.71 \n",
      "F1_micro\t= 99.71\n",
      "Avg Prec micro\t= 10.36 \n",
      "ROC_AUC score\t= 60.64\n",
      "insult\n",
      "\n",
      "Accuracy \t= 96.67 \n",
      "F1_micro\t= 96.67\n",
      "Avg Prec micro\t= 41.68 \n",
      "ROC_AUC score\t= 77.33\n",
      "identity_hate\n",
      "\n",
      "Accuracy \t= 99.11 \n",
      "F1_micro\t= 99.11\n",
      "Avg Prec micro\t= 13.65 \n",
      "ROC_AUC score\t= 61.94\n"
     ]
    },
    {
     "data": {
      "image/png": "[encoded data removed]",
      "text/plain": [
       "<Figure size 1080x720 with 6 Axes>"
      ]
     },
     "metadata": {
      "needs_background": "light"
     },
     "output_type": "display_data"
    }
   ],
   "source": [
    "from sklearn.tree import DecisionTreeClassifier\n",
    "model = DecisionTreeClassifier(random_state = 8848, max_depth = 20)\n",
    "train_multioutput(model, X_train_tf, y_train_tf, X_test_tf, y_test_tf)"
   ]
  },
  {
   "cell_type": "code",
   "execution_count": 21,
   "metadata": {},
   "outputs": [
    {
     "name": "stdout",
     "output_type": "stream",
     "text": [
      "toxic\n",
      "\n",
      "Accuracy \t= 90.41 \n",
      "F1_micro\t= 90.41\n",
      "Avg Prec micro\t= 9.59 \n",
      "ROC_AUC score\t= 50.00\n",
      "severe_toxic\n",
      "\n",
      "Accuracy \t= 99.01 \n",
      "F1_micro\t= 99.01\n",
      "Avg Prec micro\t= 0.99 \n",
      "ROC_AUC score\t= 50.00\n",
      "obscene\n",
      "\n",
      "Accuracy \t= 94.71 \n",
      "F1_micro\t= 94.71\n",
      "Avg Prec micro\t= 5.29 \n",
      "ROC_AUC score\t= 50.00\n",
      "threat\n",
      "\n",
      "Accuracy \t= 99.72 \n",
      "F1_micro\t= 99.72\n",
      "Avg Prec micro\t= 0.28 \n",
      "ROC_AUC score\t= 50.00\n",
      "insult\n",
      "\n",
      "Accuracy \t= 95.06 \n",
      "F1_micro\t= 95.06\n",
      "Avg Prec micro\t= 4.94 \n",
      "ROC_AUC score\t= 50.00\n",
      "identity_hate\n",
      "\n",
      "Accuracy \t= 99.08 \n",
      "F1_micro\t= 99.08\n",
      "Avg Prec micro\t= 0.92 \n",
      "ROC_AUC score\t= 50.00\n"
     ]
    },
    {
     "data": {
      "image/png": "[encoded data removed]",
      "text/plain": [
       "<Figure size 1080x720 with 6 Axes>"
      ]
     },
     "metadata": {
      "needs_background": "light"
     },
     "output_type": "display_data"
    }
   ],
   "source": [
    "from sklearn.ensemble import RandomForestClassifier\n",
    "model = RandomForestClassifier(n_estimators=500, max_depth = 20)\n",
    "train_multioutput(model, X_train_tf, y_train_tf, X_test_tf, y_test_tf)"
   ]
  },
  {
   "cell_type": "code",
   "execution_count": null,
   "metadata": {},
   "outputs": [],
   "source": []
  },
  {
   "cell_type": "code",
   "execution_count": null,
   "metadata": {},
   "outputs": [],
   "source": []
  },
  {
   "cell_type": "code",
   "execution_count": null,
   "metadata": {},
   "outputs": [],
   "source": []
  },
  {
   "cell_type": "code",
   "execution_count": null,
   "metadata": {},
   "outputs": [],
   "source": []
  },
  {
   "cell_type": "code",
   "execution_count": null,
   "metadata": {},
   "outputs": [],
   "source": []
  },
  {
   "cell_type": "code",
   "execution_count": null,
   "metadata": {},
   "outputs": [],
   "source": []
  },
  {
   "cell_type": "code",
   "execution_count": null,
   "metadata": {},
   "outputs": [],
   "source": []
  },
  {
   "cell_type": "code",
   "execution_count": null,
   "metadata": {},
   "outputs": [],
   "source": []
  },
  {
   "cell_type": "code",
   "execution_count": null,
   "metadata": {},
   "outputs": [],
   "source": [
    "from sklearn.model_selection import train_test_split\n",
    "from sklearn.feature_extraction.text import TfidfVectorizer, CountVectorizer\n",
    "\n",
    "def prepare_BOW(df, col):\n",
    "    df_train, df_test = train_test_split(df, test_size=0.2, random_state = 8848)\n",
    "    \n",
    "    vectorizer = CountVectorizer()\n",
    "    vectorizer.fit_transform(df_train[col].values)\n",
    "    \n",
    "    X_train = vectorizer.transform(df_train[col].values)\n",
    "    X_test  = vectorizer.transform(df_test[col].values)\n",
    "    \n",
    "    y_train = df_train[target_columns].values\n",
    "    y_test  = df_test[target_columns].values\n",
    "\n",
    "    return X_train, X_test, y_train, y_test, vectorizer\n",
    "\n",
    "X_train_bow, X_test_bow, y_train_bow, y_test_bow, count_vectorizer= prepare_BOW(df, \"com_processed\")\n"
   ]
  },
  {
   "cell_type": "code",
   "execution_count": null,
   "metadata": {},
   "outputs": [],
   "source": [
    "#model_LR_bow, y_pred_labs_bow, y_pred_scores_bow =  LR_model(X_train_bow,\n",
    "#                                                             y_train_bow,\n",
    "#                                                             X_test_bow)"
   ]
  },
  {
   "cell_type": "markdown",
   "metadata": {},
   "source": [
    "LR on the BOW data was too much to train. It failed. even after setting the max_iter=1000 the model didn't run.\n",
    "\n",
    "So Use PCA to convert the data to a smaller dimensional matrix."
   ]
  },
  {
   "cell_type": "code",
   "execution_count": null,
   "metadata": {},
   "outputs": [],
   "source": [
    "# from sklearn.preprocessing import StandardScaler\n",
    "# from sklearn.pipeline import Pipeline\n",
    "# from sklearn.decomposition import PCA\n",
    "\n",
    "\n",
    "# pca_pipe = Pipeline([('scale',StandardScaler(with_mean=False)),\n",
    "#                          ('pca',PCA())])\n",
    "\n",
    "# pca_pipe.fit(X_train_tf)\n",
    "\n",
    "# #pca = PCA(n_components = 10)\n",
    "# #pca.fit(X_train_tf)\n",
    "\n",
    "# from sklearn.decomposition import PCA\n",
    "# pca = PCA(n_components = n_comp)\n",
    "# pca.fit(train_tfidf)\n",
    "# X_train = pca.transform(train_tfidf)\n",
    "# X_test = pca.transform(test_tfidf)\n",
    "\n",
    "# pca = PCA(n_components=200)\n",
    "\n",
    "# pca.fit(X[X.columns[1:]])\n",
    "\n",
    "# plt.figure(figsize=(10,8))\n",
    "\n",
    "# plt.plot(range(1,201),\n",
    "#         np.cumsum(pca.explained_variance_ratio_))\n",
    "\n",
    "# plt.xlabel(\"PCA Component\", fontsize=16)\n",
    "# plt.ylabel(\"Cumulative Variance Explained\", fontsize=16)\n",
    "\n",
    "# plt.show()"
   ]
  },
  {
   "cell_type": "markdown",
   "metadata": {},
   "source": [
    "## Binary Model"
   ]
  },
  {
   "cell_type": "code",
   "execution_count": 13,
   "metadata": {},
   "outputs": [],
   "source": [
    "\n",
    "X_train_bin, X_test_bin, y_train_bin, y_test_bin, vectorizer= prepare_TFIDF(df, \"com_processed\", binary=True)\n"
   ]
  },
  {
   "cell_type": "code",
   "execution_count": 17,
   "metadata": {},
   "outputs": [],
   "source": [
    "import pickle\n",
    "\n",
    "with open(\"vectorizer.pkl\", \"wb\") as fo:\n",
    "    pickle.dump(vectorizer, fo)"
   ]
  },
  {
   "cell_type": "code",
   "execution_count": 10,
   "metadata": {},
   "outputs": [
    {
     "data": {
      "text/plain": [
       "(127608,)"
      ]
     },
     "execution_count": 10,
     "metadata": {},
     "output_type": "execute_result"
    }
   ],
   "source": [
    "y_train_bin.shape"
   ]
  },
  {
   "cell_type": "code",
   "execution_count": null,
   "metadata": {},
   "outputs": [],
   "source": []
  },
  {
   "cell_type": "code",
   "execution_count": null,
   "metadata": {},
   "outputs": [],
   "source": [
    "from sklearn.multiclass import OneVsRestClassifier\n",
    "from sklearn.linear_model import LogisticRegression, RidgeClassifier\n",
    "from sklearn.multioutput import MultiOutputClassifier\n",
    "\n",
    "from sklearn.metrics import accuracy_score, f1_score\n",
    "from sklearn.metrics import average_precision_score, roc_auc_score\n",
    "from sklearn.metrics import multilabel_confusion_matrix, ConfusionMatrixDisplay\n",
    "from sklearn.metrics import confusion_matrix\n"
   ]
  },
  {
   "cell_type": "code",
   "execution_count": 12,
   "metadata": {},
   "outputs": [
    {
     "name": "stdout",
     "output_type": "stream",
     "text": [
      "DT [0.96758186 0.54458673] [0.931773   0.72325294] [0.94933987 0.62133085]\n"
     ]
    }
   ],
   "source": [
    "from sklearn.tree import DecisionTreeClassifier\n",
    "\n",
    "from sklearn.metrics import precision_recall_fscore_support\n",
    "\n",
    "models = [\n",
    "    #[\"LR\",LogisticRegression(max_iter=500, class_weight='balance')],\n",
    "    [\"DT\",DecisionTreeClassifier(class_weight='balanced')]]\n",
    "\n",
    "for i, (model_name, model) in enumerate(models):\n",
    "    model.fit(X_train_bin, y_train_bin)\n",
    "    y_pred = model.predict(X_test_bin)\n",
    "    #acc = accuracy_score(y_test_bin, y_pred)\n",
    "    #f1  = f1_score(y_test_bin, y_pred)\n",
    "    prec, rec, f1, _ = precision_recall_fscore_support(y_test_bin, y_pred)\n",
    "    print (model_name, prec, rec, f1)\n",
    "\n",
    "\n",
    "    \n",
    "#model = DecisionTreeClassifier(random_state = 8848, max_depth = 20)\n",
    "#train_multioutput(model, X_train_tf, y_train_tf, X_test_tf, y_test_tf)"
   ]
  },
  {
   "cell_type": "code",
   "execution_count": 18,
   "metadata": {},
   "outputs": [
    {
     "name": "stdout",
     "output_type": "stream",
     "text": [
      "LR [0.9569492  0.92860543] [0.99476787 0.60327767] [0.97549212 0.73139644]\n"
     ]
    }
   ],
   "source": [
    "from sklearn.tree import DecisionTreeClassifier\n",
    "\n",
    "from sklearn.metrics import precision_recall_fscore_support\n",
    "\n",
    "models = [[\"LR\",LogisticRegression(max_iter=500, class_weight='balance')]]\n",
    "\n",
    "for i, (model_name, model) in enumerate(models):\n",
    "    model.fit(X_train_bin, y_train_bin)\n",
    "    y_pred = model.predict(X_test_bin)\n",
    "    prec, rec, f1, _ = precision_recall_fscore_support(y_test_bin, y_pred)\n",
    "    print (model_name, prec, rec, f1)\n",
    "\n",
    "\n",
    "    \n",
    "#model = DecisionTreeClassifier(random_state = 8848, max_depth = 20)\n",
    "#train_multioutput(model, X_train_tf, y_train_tf, X_test_tf, y_test_tf)"
   ]
  },
  {
   "cell_type": "code",
   "execution_count": 19,
   "metadata": {},
   "outputs": [],
   "source": [
    "import pickle\n",
    "\n",
    "with open(\"model_LR.pkl\", \"wb\") as fo:\n",
    "    pickle.dump(model, fo)"
   ]
  },
  {
   "cell_type": "code",
   "execution_count": null,
   "metadata": {},
   "outputs": [],
   "source": []
  },
  {
   "cell_type": "code",
   "execution_count": null,
   "metadata": {},
   "outputs": [],
   "source": []
  },
  {
   "cell_type": "code",
   "execution_count": null,
   "metadata": {},
   "outputs": [],
   "source": []
  },
  {
   "cell_type": "code",
   "execution_count": null,
   "metadata": {},
   "outputs": [],
   "source": []
  },
  {
   "cell_type": "code",
   "execution_count": null,
   "metadata": {},
   "outputs": [],
   "source": []
  },
  {
   "cell_type": "code",
   "execution_count": null,
   "metadata": {},
   "outputs": [],
   "source": []
  }
 ],
 "metadata": {
  "colab": {
   "collapsed_sections": [],
   "name": "g01_data_visualization.ipynb",
   "provenance": []
  },
  "kernelspec": {
   "display_name": "Python 3",
   "language": "python",
   "name": "python3"
  },
  "language_info": {
   "codemirror_mode": {
    "name": "ipython",
    "version": 3
   },
   "file_extension": ".py",
   "mimetype": "text/x-python",
   "name": "python",
   "nbconvert_exporter": "python",
   "pygments_lexer": "ipython3",
   "version": "3.7.3"
  }
 },
 "nbformat": 4,
 "nbformat_minor": 1
}
